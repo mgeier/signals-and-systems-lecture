{
 "cells": [
  {
   "cell_type": "markdown",
   "metadata": {
    "nbsphinx": "hidden"
   },
   "source": [
    "# The $z$-Transform\n",
    "\n",
    "*This Jupyter notebook is part of a [collection of notebooks](../index.ipynb) in the bachelors module Signals and Systems, Comunications Engineering, Universität Rostock. Please direct questions and suggestions to [Sascha.Spors@uni-rostock.de](mailto:Sascha.Spors@uni-rostock.de).*"
   ]
  },
  {
   "cell_type": "markdown",
   "metadata": {},
   "source": [
    "## Definition\n",
    "\n",
    "The [$z$-transform](https://en.wikipedia.org/wiki/Z-transform), as the [discrete-time Fourier transform](../discrete_time_fourier_transform/definition.ipynb) (DTFT), is a transform which represents a discrete signal $x[k]$ in the spectral domain. Unlike the DTFT which uses the harmonic complex exponential function $e^{-j \\Omega k}$ with $\\Omega \\in \\mathbb{R}$ as kernel, the $z$-transformation bases on the complex exponential function $z^{-k}$ with $z \\in \\mathbb{C}$ as kernel."
   ]
  },
  {
   "cell_type": "markdown",
   "metadata": {},
   "source": [
    "### Two-Sided $z$-Transform\n",
    "\n",
    "The two-sided (or bilateral) $z$-transform is defined as\n",
    "\n",
    "\\begin{equation}\n",
    "X(z) = \\sum_{k = -\\infty}^{\\infty} x[k] \\, z^{-k}\n",
    "\\end{equation}\n",
    "\n",
    "where $X(z) = \\mathcal{Z} \\{ x[k] \\}$ denotes the $z$-transform of $x[k]$. A complex signal $x[k] \\in \\mathbb{C}$ with discrete index $k \\in \\mathbb{Z}$ is represented by its complex valued $z$-transform $X(z) \\in \\mathbb{C}$ with complex dependent variable $z \\in \\mathbb{C}$. The variable $z$ can be interpreted as [complex frequency](../discrete_signals/standard_signals.ipynb#Complex-Exponential-Signal) $z = e^{\\Sigma + j \\Omega}$ with $\\Sigma, \\Omega \\in \\mathbb{R}$.\n",
    "\n",
    "Whether a $z$-transform $X(z) = \\mathcal{Z} \\{ x[k] \\}$ exists depends on the complex frequency $z$ and the signal $x[k]$ itself. All values $z$ for which the $z$-transform converges form a region of convergence (ROC). The $z$-transforms of two different signals may differ only with respect to their ROCs. Consequently, the ROC needs to be explicitly given for a unique inversion of the $z$-transform."
   ]
  },
  {
   "cell_type": "markdown",
   "metadata": {},
   "source": [
    "### One-Sided $z$-Transform\n",
    "\n",
    "Causal signals play an important role in the theory of signals and systems. For a causal signal with $x[k] = 0$ for $k <0$, the relation $x[k] = x[k] \\cdot \\epsilon[k]$ holds. Introducing this into the definition of the two-sided $z$-transform results in\n",
    "\n",
    "\\begin{equation}\n",
    "X(z) = \\sum_{k = -\\infty}^{\\infty} x[k] \\cdot \\epsilon[k] \\, z^{-k} = \\sum_{k = 0}^{\\infty} x[k] \\, z^{-k}\n",
    "\\end{equation}\n",
    "\n",
    "This motivates the definition of the one-sided (or unilateral) $z$-transform\n",
    "\n",
    "\\begin{equation}\n",
    "X(z) = \\sum_{k = 0}^{\\infty} x[k] \\, z^{-k}\n",
    "\\end{equation}\n",
    "\n",
    "In the literature both the one- and two-sided $z$-transform are termed as $z$-transform. For causal signals both give the same result. The one-sided $z$-transform is also useful for the solution of initial value problems, for instance as defined by [linear difference equations with constant coefficients](../discrete_systems/difference_equation.ipynb) where the initial values are given for $k=0$."
   ]
  },
  {
   "cell_type": "markdown",
   "metadata": {},
   "source": [
    "### Signals of Finite Duration\n",
    "\n",
    "The $z$-transform of a generic signal $x[k]$ of finite duration $x[k] = 0$ for $\\{k : k < M_1 \\wedge k \\geq M_2\\}$ with $M_1 < M_2$ reads\n",
    "\n",
    "\\begin{equation}\n",
    "X(z) = \\sum_{k=M_1}^{M_2 - 1} x[k] \\, z^{-k} = x[M_1] \\, z^{-M_1} + x[M_1 + 1] \\, z^{- (M_1 + 1)} + \\dots + x[M_2 - 1] \\, z^{- (M_2-1)}\n",
    "\\end{equation}\n",
    "\n",
    "The transform of a generic finite-length signal is given as a polynomial in $z$. Depending on the particular limits $M_1$ and $M_2$, the polynomial may contain powers of $z$ and $z^{-1}$. For a causal finite-length signal, above result specializes to the case $M_1 = 0$ and $M_2 > 0$ as\n",
    "\n",
    "\\begin{equation}\n",
    "X(z) = x[0] + x[1] \\, z^{-1} + \\dots + x[M_2] \\, z^{- M_2}\n",
    "\\end{equation}\n",
    "\n",
    "The transform of a causal finite-length signal is given as a polynomial in $z^{-1}$. The ROC for this case is given as $z \\in \\mathbb{C} \\setminus \\{ 0 \\}$. Similar considerations yield the $z$-transform and ROC of an anticausal signal. The ROCs for a generic finite-length signal can be summarized as\n",
    "\n",
    "* $z \\in \\mathbb{C}$ for an anticausal signal ($M_1 < 0$, $M_2 \\leq 0$)\n",
    "* $z \\in \\mathbb{C}_\\infty$ if $x[k] = 0$ for $k \\neq 0$ ($M_1 = 0$, $M_2 = 1$)\n",
    "* $z \\in \\mathbb{C} \\setminus \\{ 0 \\}$ for a causal signal ($M_1 = 0$, $M_2 > 0$)\n",
    "\n",
    "where $\\mathbb{C}_\\infty = \\mathbb{C} \\cup \\{ \\infty \\}$ denotes the [set of extended complex numbers](https://en.wikipedia.org/wiki/Riemann_sphere)."
   ]
  },
  {
   "cell_type": "markdown",
   "metadata": {},
   "source": [
    "### Transformation of the Rectangular Signal\n",
    "\n",
    "The rectangular signal $x[k] = \\text{rect}_N[k]$ is a causal signal of finite duration. Using above result its $z$-transform can be derived straightforward as\n",
    "\n",
    "\\begin{equation}\n",
    "\\mathcal{Z} \\{ \\text{rect}_N[k] \\} = \\sum_{k=0}^{N-1} z^{-k} = 1 + z^{-1} + \\dots + z^{-N + 1}\n",
    "\\end{equation}\n",
    "\n",
    "for $z \\in \\mathbb{C} \\setminus \\{ 0 \\}$. Above sum can also be interpreted as [finite geometrical series](https://en.wikipedia.org/wiki/Geometric_series) with common ratio $\\frac{1}{z}$, resulting in an alternative form of the $z$-transform of the rectangular signal\n",
    "\n",
    "\\begin{equation}\n",
    "\\mathcal{Z} \\{ \\text{rect}_N[k] \\} =  \\begin{cases}\n",
    "\\frac{1 - z^{-N}}{1 - z^{-1}} & \\text{for } z \\neq 1 \\\\\n",
    "N & \\text{for } z = 1\n",
    "\\end{cases}\n",
    "\\end{equation}"
   ]
  },
  {
   "cell_type": "markdown",
   "metadata": {},
   "source": [
    "### Transformation of the Dirac Impulse\n",
    "\n",
    "The transform $\\mathcal{Z} \\{ \\delta[k] \\}$ of the [Dirac impulse](../discrete_signals/standard_signals.ipynb#Dirac-Impulse) is derived by introducing $\\delta[k]$ into the definition of the two-sided $z$-transform and exploiting the sifting property of the Dirac impulse\n",
    "\n",
    "\\begin{equation}\n",
    "\\mathcal{Z} \\{ \\delta[k] \\} = \\sum_{k = -\\infty}^{\\infty} \\delta[k] \\, z^{-k} = 1\n",
    "\\end{equation}\n",
    "\n",
    "for $z \\in \\mathbb{C}$. The ROC covers the entire complex plane.\n",
    "\n",
    "The transform of the Dirac impulse is equal to one. Hence, all complex frequencies $z$ are present with equal weight. This is an important property in the theory of discrete signals and systems, since the Dirac impulse is used to characterize linear time-invariant (LTI) systems by their [impulse response](../discrete_systems/impulse_response.ipynb) $h[k] = \\mathcal{H} \\{ \\delta[k] \\}$."
   ]
  },
  {
   "cell_type": "markdown",
   "metadata": {},
   "source": [
    "**Example**\n",
    "\n",
    "The $z$-transform of the Dirac impulse is computed by direct evaluation of its definition. The Dirac impulse is represented by the [Kronecker delta](https://en.wikipedia.org/wiki/Kronecker_delta) $\\delta[k] = \\delta_{k 0}$ in `SymPy`."
   ]
  },
  {
   "cell_type": "code",
   "execution_count": null,
   "metadata": {},
   "outputs": [],
   "source": [
    "%matplotlib inline\n",
    "import sympy as sym\n",
    "sym.init_printing()\n",
    "\n",
    "k = sym.symbols('k', integer=True)\n",
    "z = sym.symbols('z', complex=True)\n",
    "\n",
    "X = sym.summation(sym.KroneckerDelta(k, 0) * z**(-k), (k, -sym.oo, sym.oo))\n",
    "X"
   ]
  },
  {
   "cell_type": "markdown",
   "metadata": {},
   "source": [
    "**Exercise**\n",
    "\n",
    "* Derive the two-sided $z$-transform of a shifted Dirac impulse $\\delta[t - \\kappa]$ for $\\kappa \\in \\mathbb{Z}$ by manual evaluation of its definition and by modification of above example. Provide the ROC for the three cases $\\kappa<0$, $\\kappa=0$ and $\\kappa>0$.\n",
    "\n",
    "* Derive the one-sided $z$-transform of a shifted Dirac impulse $\\delta[t - \\kappa]$. Hint: Differentiate between the cases $\\kappa < 0$ and $\\kappa \\geq 0$."
   ]
  },
  {
   "cell_type": "markdown",
   "metadata": {},
   "source": [
    "### Transformation of the Causal Complex Exponential Signal\n",
    "\n",
    "The transform $X(z) = \\mathcal{Z} \\{ x[k] \\}$ of the causal complex exponential signal\n",
    "\n",
    "\\begin{equation}\n",
    "x[k] = \\epsilon[k] \\cdot z_0^k\n",
    "\\end{equation}\n",
    "\n",
    "with complex frequency $z_0 \\in \\mathbb{C}$ is derived by evaluation of the definition of the one-sided $z$-transform\n",
    "\n",
    "\\begin{equation}\n",
    "X(z) = \\sum_{k=0}^{\\infty} z_0^k \\cdot z^{-k} = \\sum_{k=0}^{\\infty} \\left( \\frac{z_0}{z} \\right)^k = \\frac{z}{z - z_0}\n",
    "\\end{equation}\n",
    "\n",
    "The last equality has been derived by noting that the sum constitutes an [infinite geometrical series](https://en.wikipedia.org/wiki/Geometric_series) with common ratio $\\frac{z_0}{z}$ which converges for $\\left| \\frac{z_0}{z} \\right| < 1$. The ROC is consequently given as\n",
    "\n",
    "\\begin{equation}\n",
    "|z| > |z_0|\n",
    "\\end{equation}\n",
    "\n",
    "Combining above results, the transformation of the causal complex exponential signal reads\n",
    "\n",
    "\\begin{equation}\n",
    "\\mathcal{Z} \\{ \\epsilon[k] \\cdot z_0^k \\} = \\frac{z}{z - z_0} \\qquad \\text{for } |z| > |z_0|\n",
    "\\end{equation}"
   ]
  },
  {
   "cell_type": "markdown",
   "metadata": {},
   "source": [
    "**Example**\n",
    "\n",
    "The $z$-transform of the causal complex exponential signal $x[k] = z_0^k \\cdot \\epsilon[k]$ with $z_0 \\in \\mathbb{C}$ is computed by direct evaluation of its definition."
   ]
  },
  {
   "cell_type": "code",
   "execution_count": null,
   "metadata": {},
   "outputs": [],
   "source": [
    "z0 = sym.symbols('z0')\n",
    "\n",
    "X = sym.summation(z0**k * z**(-k), (k, 0, sym.oo))\n",
    "X"
   ]
  },
  {
   "cell_type": "markdown",
   "metadata": {},
   "source": [
    "Note that the sum is returned in case that it cannot be evaluated. It hence can be concluded that the series converges only for $|\\frac{z_0}{z}| < 1$. This is in line with the analytic result derived above."
   ]
  },
  {
   "cell_type": "markdown",
   "metadata": {},
   "source": [
    "## Convergence\n",
    "\n",
    "The definition of the $z$-transform constitutes an infinite series. A sufficient but not necessary condition for the convergence of an infinite series is that its elements are absolutely summable. Applying this to the definition of the two-sided $z$-transform $X(z) = \\mathcal{Z} \\{ [k] \\}$ of a given signal $x[k]$ yields\n",
    "\n",
    "\\begin{equation}\n",
    "\\sum_{k = -\\infty}^{\\infty} | x[k] \\cdot z^{- k} | = \\sum_{k = -\\infty}^{\\infty} | x[k] | \\cdot | z |^{- k}  < \\infty\n",
    "\\end{equation}\n",
    "\n",
    "It can be concluded from this result that the ROC is determined solely by the magnitude $|z|$ of the complex frequency. It follows further that the ROC is given as a ring in the $z$-plane which may include $z=0$ and/or $z=\\infty$. The phase $\\Omega$ of the complex frequency $z$ has no effect in terms of convergence, as $|z| = e^{\\Sigma} \\cdot e^{j \\Omega}$.\n",
    "\n",
    "For a right-sided signal of infinite length with $x[k] = 0$ for $k < M$, the ROC is given in the form of $|z| > a$ with $a \\in \\mathbb{R}^+$. This can be concluded from the decay of the term $| z |^{- k}$ for $k \\to \\infty$, which ensures convergence for a given $a$. However this holds only for signals $x[k]$ with [exponential growth](https://en.wikipedia.org/wiki/Exponential_growth). Please refer to the $z$-transform of the causal exponential signal derived above. \n",
    "\n",
    "The same reasoning leads to the ROCs of a left-sided and two-sided signal. The resulting ROCs are illustrated in the following\n",
    "\n",
    "![Region of convergence for left-/two-/right-sided signals](ROC.png)\n",
    "\n",
    "The gray areas denote the values $z$ for which the $z$-transform converges. The borders $a$ of these areas (dashed lines) depend on the signal $x[k]$. In case that the $z$-transform $X(z)$ is given in terms of a rational function in $z$, the ROC has to be chosen such that it does not include zeros of the denominator polynomial. A more detailed discussion of the ROCs for the $z$-transform can be found in the literature, e.g. [[Girod et al.](index.ipynb#Literature)]."
   ]
  },
  {
   "cell_type": "markdown",
   "metadata": {},
   "source": [
    "## Relation to the Laplace Transform of a Sampled Signal\n",
    "\n",
    "The link between the Laplace transform of a sampled signal $x_\\text{s}(t)$ and the $z$-transform of its discrete counterpart $x[k] = x(k T)$ is established in the following. Under the assumption of [ideal sampling](../sampling/ideal.ipynb#Model-of-Ideal-Sampling), the sampled signal reads\n",
    "\n",
    "\\begin{equation}\n",
    "x_\\text{s}(t) = \\sum_{k = -\\infty}^{\\infty} x(k T) \\cdot \\delta(t - k T) = \\sum_{k = -\\infty}^{\\infty} x[k] \\cdot \\delta(t - k T)\n",
    "\\end{equation}\n",
    "\n",
    "where $x(t)$ denotes the continuous signal and $T$ the sampling interval. Introducing the sampled signal into the [definition of the Laplace transform](../laplace_transform/definition.ipynb) yields the transform of the sampled signal\n",
    "\n",
    "\\begin{equation}\n",
    "X_\\text{s}(s) = \\int_{-\\infty}^{\\infty} \\sum_{k = -\\infty}^{\\infty} x[k] \\cdot \\delta(t - k T) \\, e^{- s t} \\; dt = \\sum_{k = -\\infty}^{\\infty} x[k] \\, e^{-s k T}\n",
    "\\end{equation}\n",
    "\n",
    "where the last equality has been derived by changing the order of summation/integration and exploiting the [sifting property of the Dirac impulse](../continuous_signals/standard_signals.ipynb#Dirac-Impulse). Comparison with the definition of the $z$-transform yields\n",
    "\n",
    "\\begin{equation}\n",
    "X_\\text{s}(s) = X(z) \\big\\rvert_{z = e^{s T}}\n",
    "\\end{equation}\n",
    "\n",
    "The spectrum of the sampled signal $X_\\text{s}(s)$ is equal to the $z$-transform of the discrete Signal $X(z)$ for $z = e^{s T}$. The resulting mapping from the $s$-plane to the $z$-plane is illustrated by the shading and the colors in the following figure\n",
    "\n",
    "![Mapping of the $s$-plane onto the $z$-plane](mapping_s_z_plane.png)\n",
    "\n",
    "The Laplace transform of a sampled signal is peridoic with respect to the frequency $\\omega$. It sufficient to consider the strip $-\\frac{\\pi}{T} < \\Im \\{ s \\} < \\frac{\\pi}{T}$ of the $s$-plane for the mapping. The left half-plane of the $s$-plane is mapped into the unit circle of the $z$-plane. The corresponding right half-plane is mapped to the outside of the unit circle. The imaginary axis of the $s$-plane is mapped onto the unit circle $|z|=1$. The frequency $s=0$ is mapped onto $z=1$ and the frequencies $s=\\pm j \\frac{\\pi}{T}$ are mapped onto $z=-1$."
   ]
  },
  {
   "cell_type": "markdown",
   "metadata": {},
   "source": [
    "## Relation to the Discrete-Time Fourier-Transform\n",
    "\n",
    "The two-sided $z$-transform $X(z) = \\mathcal{z} \\{ x[k] \\}$ of a signal $x[k]$ can be related to its [discrete-time Fourier transform](../discrete_time_fourier_transform/definition.ipynb) (DTFT) $X(e^{j \\Omega}) = \\mathcal{F}_* \\{ x[k] \\}$ by inspecting the kernels of both transforms. The $z$-transform has the complex exponential function $z^{-k}$ with $z \\in \\mathbb{C}$ as kernel. The DTFT has the harmonic exponential function $e^{- j \\Omega k}$ with $\\Omega \\in \\mathbb{R}$ as kernel. Both can be related to each other by considering that $z = e^{\\Sigma + j \\Omega}$. Hence, if the ROC includes the unit circle $|z| = 1$ of the $z$-plane, the DTFT of a signal $x[k]$ can be derived from its $z$-transform by\n",
    "\n",
    "\\begin{equation}\n",
    "\\mathcal{F}_* \\{ x[k] \\} = \\mathcal{Z} \\{ x[k] \\} \\bigr\\rvert_{z = e^{j \\Omega}}\n",
    "\\end{equation}\n",
    "\n",
    "If the ROC does not include the unit circle, the DTFT of a given signal does not exist. A benefit of the $z$-transform over the DTFT is that it can be applied to a wider class of signals."
   ]
  },
  {
   "cell_type": "markdown",
   "metadata": {},
   "source": [
    "**Example**\n",
    "\n",
    "The DTFT $X(e^{j \\Omega}) = \\mathcal{F}_* \\{ x[k] \\}$ of the causal exponential signal\n",
    "\n",
    "\\begin{equation}\n",
    "x[k] = \\epsilon[k] \\cdot e^{- \\Sigma_0 k} \n",
    "\\end{equation}\n",
    "\n",
    "for $\\Sigma_0 \\in \\mathbb{R}^+$ is derived from the $z$-transform of the [causal complex exponential signal](#Transformation-of-the-Causal-Complex-Exponential-Signal). Using the substituting $z_0 = e^{-\\Sigma_0}$ yields\n",
    "\n",
    "\\begin{equation}\n",
    "X(z) = \\frac{z}{z - e^{-\\Sigma_0}}\n",
    "\\end{equation}\n",
    "\n",
    "with the ROC $|z| > e^{-\\Sigma_0}$. The ROC includes the unit circle for $0 < \\Sigma_0 < \\infty$. The DTFT can be derived from the $z$-transform by substituting $z$ with $e^{j \\Omega}$ as\n",
    "\n",
    "\\begin{equation}\n",
    "X(e^{j \\Omega}) = \\frac{e^{j \\Omega}}{e^{j \\Omega} - e^{-\\Sigma_0}}\n",
    "\\end{equation}"
   ]
  },
  {
   "cell_type": "markdown",
   "metadata": {},
   "source": [
    "## Representation\n",
    "\n",
    "The $z$-transform $X(z) = \\mathcal{Z} \\{ x[k] \\}$ depends on the complex frequency $z \\in \\mathbb{C}$ and is in general complex valued $X(z) \\in \\mathbb{C}$. It can be illustrated by plotting its magnitude $|X(z)|$ and phase $\\varphi(z)$ or real $\\Re \\{ X(z) \\}$ and imaginary $\\Im \\{ X(z) \\}$ part in the complex $z$-plane. The resulting three-dimensional plots are often not very illustrative.\n",
    "\n",
    "However, many $z$-transforms of interest in the theory of signals and systems are [rational functions](https://en.wikipedia.org/wiki/Rational_function) in $z$. The polynomials of the numerator and denominator can be represented by their complex [roots](https://en.wikipedia.org/wiki/Zero_of_a_function#Polynomial_roots) and a constant factor. The roots of the numerator are termed as *zeros* while the roots of the denominator a termed as *poles* of $X(z)$. The polynomial and the zero/pole representation of a rational $z$-transform are equivalent\n",
    "\n",
    "\\begin{equation}\n",
    "X(z) = \\frac{\\sum_{m=0}^{M} \\beta_m \\, z^{-m}}{\\sum_{n=0}^{N} \\alpha_n \\, z^{-n}} = K \\cdot \\frac{\\prod_{\\mu=0}^{Q} (z - z_{0 \\mu})}{\\prod_{\\nu=0}^{P} (z - z_{\\infty \\nu})}\n",
    "\\end{equation}\n",
    "\n",
    "where $M$ and $N$ denote the order of the numerator/denominator polynomial, $z_{0 \\mu}$ and $z_{\\infty \\nu}$ the $\\mu$-th zero/$\\nu$-th pole of $X(z)$, and $Q = M-1$ and $P = N-1$ the total number of zeros and poles, respectively. For $M=N$ the factor $K = \\frac{\\beta_M}{\\alpha_N}$. If \n",
    "\n",
    "* $M > N$ at least one pole is located at $|z| = \\infty$,\n",
    "* $M < N$ at least one pole is located at $z = 0$.\n",
    "\n",
    "It is common to illustrate the poles and zeros in a [pole-zero plot](https://en.wikipedia.org/wiki/Pole%E2%80%93zero_plot). Here the locations of the complex poles and zeros, their degrees and the factor $K$ are plotted in the $z$-plane. It is common to include the unit circle $|z| = 1$ in the plot due to its relevance in the theory of discrete signals and systems. An example for a pole-zero plot is shown in the following\n",
    "\n",
    "![Exemplary pole-zero plot](pz_plot.png)\n",
    "\n",
    "The locations of the poles and zeros provide insights into the composition of a signal. For instance, the $z$-transform of the [complex exponential signal](#Transformation-of-the-Causal-Complex-Exponential-Signal) has a zero at $z=0$ and a pole at $z = z_0$. A signal which is composed from a superposition of complex exponential signals will have multiple poles whose positions are related to the complex frequencies of the signals it is composed of."
   ]
  },
  {
   "cell_type": "markdown",
   "metadata": {},
   "source": [
    "**Exercise**\n",
    "\n",
    "* Derive $X(z)$ together with its ROC from above pole-zero plot under the assumption that it represents a right-handed signal $x[k]$."
   ]
  },
  {
   "cell_type": "markdown",
   "metadata": {},
   "source": [
    "**Example**\n",
    "\n",
    "The $z$-transform of the causal complex exponential signal\n",
    "\n",
    "\\begin{equation}\n",
    "X(z) = \\frac{z}{z - z_0} \\qquad \\text{for } |z| > |z_0|\n",
    "\\end{equation}\n",
    "\n",
    "derived above is illustrated by plotting its magnitude $|X(z)|$ over the $z$-plane for $z_0 = 1 + j$"
   ]
  },
  {
   "cell_type": "code",
   "execution_count": null,
   "metadata": {},
   "outputs": [],
   "source": [
    "rez, imz = sym.symbols('rez imz', real=True)\n",
    "\n",
    "X = z / (z - z0)\n",
    "X1 = X.subs({z: rez+sym.I*imz, z0: 1+sym.I})\n",
    "\n",
    "sym.plotting.plot3d(abs(X1), (rez, -2, 2), (imz, -2, 2),\n",
    "                    xlabel=r'$\\Re\\{z\\}$', ylabel=r'$\\Im\\{z\\}$', title=r'$|X(z)|$');"
   ]
  },
  {
   "cell_type": "markdown",
   "metadata": {},
   "source": [
    "Alternatively, the $z$-transform $X(z)$ is illustrated by its pole-zero plot. First the poles"
   ]
  },
  {
   "cell_type": "code",
   "execution_count": null,
   "metadata": {},
   "outputs": [],
   "source": [
    "poles = sym.roots(sym.denom(X), z)\n",
    "poles"
   ]
  },
  {
   "cell_type": "markdown",
   "metadata": {},
   "source": [
    "and zeros are computed"
   ]
  },
  {
   "cell_type": "code",
   "execution_count": null,
   "metadata": {},
   "outputs": [],
   "source": [
    "zeros = sym.roots(sym.numer(X), z)\n",
    "zeros"
   ]
  },
  {
   "cell_type": "markdown",
   "metadata": {},
   "source": [
    "Above dictionaries are composed from the poles and zeros, and their degrees. \n",
    "\n",
    "In order to illustrate the location of poles and zeros in the $z$-plane, the pole-zero plot is shown for $z_0 = 1 + j$"
   ]
  },
  {
   "cell_type": "code",
   "execution_count": null,
   "metadata": {},
   "outputs": [],
   "source": [
    "from pole_zero_plot import pole_zero_plot\n",
    "\n",
    "X2 = X.subs(z0, 1+sym.I)\n",
    "pole_zero_plot(sym.roots(sym.denom(X2), z), sym.roots(sym.numer(X2), z))"
   ]
  },
  {
   "cell_type": "markdown",
   "metadata": {
    "nbsphinx": "hidden"
   },
   "source": [
    "**Copyright**\n",
    "\n",
    "The notebooks are provided as [Open Educational Resource](https://de.wikipedia.org/wiki/Open_Educational_Resources). Feel free to use the notebooks for your own educational purposes. The text is licensed under [Creative Commons Attribution 4.0](https://creativecommons.org/licenses/by/4.0/), the code of the IPython examples under the [MIT license](https://opensource.org/licenses/MIT). Please attribute the work as follows: *Lecture Notes on Signals and Systems* by Sascha Spors."
   ]
  }
 ],
 "metadata": {
  "kernelspec": {
   "display_name": "Python 3",
   "language": "python",
   "name": "python3"
  },
  "language_info": {
   "codemirror_mode": {
    "name": "ipython",
    "version": 3
   },
   "file_extension": ".py",
   "mimetype": "text/x-python",
   "name": "python",
   "nbconvert_exporter": "python",
   "pygments_lexer": "ipython3",
   "version": "3.7.3"
  }
 },
 "nbformat": 4,
 "nbformat_minor": 1
}

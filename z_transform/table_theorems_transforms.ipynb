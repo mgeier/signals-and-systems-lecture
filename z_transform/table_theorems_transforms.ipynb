{
 "cells": [
  {
   "cell_type": "markdown",
   "metadata": {
    "nbsphinx": "hidden"
   },
   "source": [
    "# The $z$-Transform\n",
    "\n",
    "*This Jupyter notebook is part of a [collection of notebooks](../index.ipynb) in the bachelors module Signals and Systems, Comunications Engineering, Universität Rostock. Please direct questions and suggestions to [Sascha.Spors@uni-rostock.de](mailto:Sascha.Spors@uni-rostock.de).*"
   ]
  },
  {
   "cell_type": "markdown",
   "metadata": {},
   "source": [
    "## Summary of Properties, Theorems and Transforms\n",
    "\n",
    "The [properties](properties.ipynb), [theorems](theorems.ipynb) and transforms of the two-sided $z$-transform as derived in the previous sections are summarized in the following. The corresponding tables serve as a reference for the application of the $z$-transform in the theory of signals and systems. Please refer to the respective sections for details."
   ]
  },
  {
   "cell_type": "markdown",
   "metadata": {},
   "source": [
    "### Definition\n",
    "\n",
    "The $z$-transform and its inverse are defined as\n",
    "\n",
    "\\begin{align}\n",
    "X(z) &= \\sum_{k = -\\infty}^{\\infty} x[k] \\, z^{-k} \\\\\n",
    "x[k] &= \\frac{1}{2 \\pi j} \\oint_{C} X(z) \\, z^{k - 1} \\; dz\n",
    "\\end{align}\n",
    "\n",
    "where $z \\in \\text{ROC} \\{ x[k] \\}$."
   ]
  },
  {
   "cell_type": "markdown",
   "metadata": {},
   "source": [
    "### Properties and Theorems\n",
    "\n",
    "The properties and theorems of the two-sided $z$-transform are given as\n",
    "\n",
    "|  | $x[k] \\qquad \\qquad \\qquad \\qquad$ | $X(z) = \\mathcal{Z} \\{ x[k] \\} \\qquad \\qquad \\qquad$ | ROC $\\qquad \\qquad \\qquad \\qquad \\qquad \\qquad \\qquad$ |\n",
    "|:---|:---:|:---:|:---|\n",
    "| [Linearity](properties.ipynb#Linearity) | $A \\, x_1[k] + B \\, x_2[k]$ | $A \\, X_1(z) + B \\, X_2(z)$ | $\\supseteq \\text{ROC}\\{x_1[k]\\} \\cap \\text{ROC}\\{x_2[k]\\}$ |\n",
    "| [Conjugation](properties.ipynb#Symmetry-for-Real-Valued-Signals) | $x^*[k]$ | $X^*(z^*)$ | $\\text{ROC}\\{ x[k] \\}$ |\n",
    "| [Real-valued signal](properties.ipynb#Symmetry-for-Real-Valued-Signals) | $x[k] = x^*[k]$ | $X(z) = X^*(z^*)$ | |\n",
    "| [Linear Convolution](theorems.ipynb#Convolution-Theorem) | $x[k] * h[k]$ | $X(z) \\cdot H(z)$ | $\\supseteq \\text{ROC}\\{x[k]\\} \\cap \\text{ROC}\\{h[k]\\}$ |\n",
    "| [Shift](theorems.ipynb#Shift-Theorem) | $x[k - \\kappa]$ | $z^{- \\kappa} \\cdot X(z)$ | $\\supseteq \\text{ROC}\\{x[k]\\} \\setminus \\{0, \\infty \\}$ |\n",
    "| [Modulation](theorems.ipynb#Modulation-Theorem) | $z_0^k \\cdot x[k]$ | $X\\left( \\frac{z}{z_0} \\right)$ | $\\{z: \\frac{z}{z_0} \\in \\text{ROC} \\{ x[k] \\} \\}$ |\n",
    "| [Reversal](theorems.ipynb#Reversal) | $x[-k]$ | $X \\left( \\frac{1}{z} \\right)$ | $\\{z: \\frac{1}{z} \\in \\text{ROC} \\{ x[k] \\} \\}$ |\n",
    "\n",
    "where $A, B, z_0 \\in \\mathbb{C}$ and $\\kappa \\in \\mathbb{Z}$"
   ]
  },
  {
   "cell_type": "markdown",
   "metadata": {
    "collapsed": true
   },
   "source": [
    "### Selected Transforms\n",
    "\n",
    "Two-sided $z$-transforms which are frequently used are given as\n",
    "\n",
    "| $x[k] \\qquad \\qquad \\qquad \\qquad$ | $X(z) = \\mathcal{Z} \\{ x[k] \\} \\qquad \\qquad \\qquad$ | ROC $\\qquad \\qquad \\qquad \\qquad \\qquad \\qquad \\qquad$ |\n",
    "|:---:|:---:|:---|\n",
    "| $\\delta[k]$ | $1$ | $\\mathbb{C}$ |\n",
    "| $\\epsilon[k]$ | $\\frac{z}{z-1}$ | $|z| > 1$ |\n",
    "| $k \\epsilon[k]$ | $\\frac{z}{(z-1)^2}$ | $|z| > 1$ |\n",
    "| $z_0^{k} \\epsilon[k]$ | $\\frac{z}{z - z_0}$ | $|z| > |z_0|$ |\n",
    "| $-z_0^{k} \\epsilon[-k-1]$ | $\\frac{z}{z - z_0}$ | $|z| < |z_0|$ |\n",
    "| $\\sin(\\Omega_0 k) \\epsilon[k]$ | $\\frac{z \\sin(\\Omega_0)}{z^2 - 2 z \\cos(\\Omega_0) + 1}$ | $|z| > 1$ |\n",
    "| $\\cos(\\Omega_0 k) \\epsilon[k]$ | $\\frac{z ( z - \\cos(\\Omega_0))}{z^2 - 2 z \\cos(\\Omega_0) + 1}$ | $|z| > 1$ |\n",
    "\n",
    "where $z_0 \\in \\mathbb{C}$, $\\Omega_0 \\in \\mathbb{R}$ and $n \\in \\mathbb{N}$. More one- and two-sided transforms may be found in the literature or [online](https://en.wikipedia.org/wiki/Z-transform#Table_of_common_Z-transform_pairs)."
   ]
  },
  {
   "cell_type": "markdown",
   "metadata": {
    "nbsphinx": "hidden"
   },
   "source": [
    "**Copyright**\n",
    "\n",
    "The notebooks are provided as [Open Educational Resource](https://de.wikipedia.org/wiki/Open_Educational_Resources). Feel free to use the notebooks for your own educational purposes. The text is licensed under [Creative Commons Attribution 4.0](https://creativecommons.org/licenses/by/4.0/), the code of the IPython examples under the [MIT license](https://opensource.org/licenses/MIT). Please attribute the work as follows: *Lecture Notes on Signals and Systems* by Sascha Spors."
   ]
  }
 ],
 "metadata": {
  "kernelspec": {
   "display_name": "Python 3",
   "language": "python",
   "name": "python3"
  },
  "language_info": {
   "codemirror_mode": {
    "name": "ipython",
    "version": 3
   },
   "file_extension": ".py",
   "mimetype": "text/x-python",
   "name": "python",
   "nbconvert_exporter": "python",
   "pygments_lexer": "ipython3",
   "version": "3.5.1"
  }
 },
 "nbformat": 4,
 "nbformat_minor": 0
}

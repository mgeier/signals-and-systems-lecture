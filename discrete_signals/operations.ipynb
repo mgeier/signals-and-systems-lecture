{
 "cells": [
  {
   "cell_type": "markdown",
   "metadata": {
    "nbsphinx": "hidden"
   },
   "source": [
    "# Discrete Signals\n",
    "\n",
    "*This Jupyter notebook is part of a [collection of notebooks](../index.ipynb) in the bachelors module Signals and Systems, Comunications Engineering, Universität Rostock. Please direct questions and suggestions to [Sascha.Spors@uni-rostock.de](mailto:Sascha.Spors@uni-rostock.de).*"
   ]
  },
  {
   "cell_type": "markdown",
   "metadata": {},
   "source": [
    "## Elementary Operations\n",
    "\n",
    "Operations like superposition, shifting and flipping can be used to construct signals with a more complex structure than by the [standard signals](standard_signals.ipynb) alone. In the following, a set of elementary operations is introduced  that are frequently used in discrete signal processing for this purpose. Note that the equivalent operation to the [temporal scaling of a continuous signal](../continuous_signals/operations.ipynb#Temporal-Scaling) is not defined for a discrete signal."
   ]
  },
  {
   "cell_type": "markdown",
   "metadata": {},
   "source": [
    "### Superposition\n",
    "\n",
    "The weighted superposition $x[k]$ of two signals $x_1[k]$ and $x_2[k]$ is given as\n",
    "\n",
    "\\begin{equation}\n",
    "x[k] = A \\cdot x_1[k] + B \\cdot x_2[k]\n",
    "\\end{equation}\n",
    "\n",
    "with the complex weights $A, B \\in \\mathbb{C}$."
   ]
  },
  {
   "cell_type": "markdown",
   "metadata": {},
   "source": [
    "**Example**\n",
    "\n",
    "The following example illustrates the superposition of two harmonic signals $x(t) = A \\cdot \\cos[\\Omega_1 k] + B \\cdot \\cos[\\Omega_2 k]$ with weights $A$, $B$ and normalized frequencies $\\Omega_1$ and $\\Omega_2$."
   ]
  },
  {
   "cell_type": "code",
   "execution_count": null,
   "metadata": {},
   "outputs": [],
   "source": [
    "%matplotlib inline\n",
    "import numpy as np\n",
    "import matplotlib.pyplot as plt\n",
    "\n",
    "k = np.arange(0, 51)\n",
    "x = np.cos(2 * np.pi / 10 * k) + 2 * np.cos(2 * np.pi / 15 * k)\n",
    "\n",
    "plt.figure(figsize=(6, 3))\n",
    "plt.stem(k, x)\n",
    "plt.xlabel('$k$')\n",
    "plt.ylabel('$x[k]$')\n",
    "plt.gca().margins(y=0.1)"
   ]
  },
  {
   "cell_type": "markdown",
   "metadata": {},
   "source": [
    "### Shift\n",
    "\n",
    "The shift of a signal $s[k]$ by the index $\\kappa$ is defined as\n",
    "\n",
    "\\begin{equation}\n",
    "x[k] = s[k-\\kappa]\n",
    "\\end{equation}\n",
    "\n",
    "with $\\kappa \\in \\mathbb{Z}$. The signal $s[k]$ is\n",
    "\n",
    "* shifted to the right for $\\kappa > 0$\n",
    "* shifted to the left for $\\kappa < 0$\n",
    "\n",
    "The shift of a signal is a frequently applied operation in discrete signal processing. For instance for the description of systems by linear difference equations with constant coefficients. For a discrete signal which has been derived by [temporal sampling from a continuous signal](../sampling/ideal.ipynb), the shift can be interpreted as [temporal shift](../continuous_signals/operations.ipynb#Temporal-Shift) by the time $\\tau = \\kappa \\cdot T$ where $T$ denotes the sampling interval. "
   ]
  },
  {
   "cell_type": "markdown",
   "metadata": {},
   "source": [
    "**Example**\n",
    "\n",
    "In order to illustrate the shifting of signals, the construction of a [sawtooth signal](https://en.wikipedia.org/wiki/Sawtooth_wave) by a superposition of shifted ramp signals $k \\cdot \\text{rect}_N[k]$ is shown. The sawtooth signal is given as periodic continuation of the ramp signal\n",
    "\n",
    "\\begin{equation}\n",
    "x[k] = \\sum_{\\nu = -\\infty}^{\\infty} (k - \\nu \\cdot N) \\cdot \\text{rect}_N[k - \\nu \\cdot N]\n",
    "\\end{equation}\n",
    "\n",
    "The signal can be computed efficiently using the [modulo operation](https://en.wikipedia.org/wiki/Modulo_operation)\n",
    "\n",
    "\\begin{equation}\n",
    "x[k] = k \\bmod N\n",
    "\\end{equation}\n",
    "\n",
    "which is illustrated in the following"
   ]
  },
  {
   "cell_type": "code",
   "execution_count": null,
   "metadata": {},
   "outputs": [],
   "source": [
    "def sawtooth(k, N):\n",
    "    return np.mod(k, N)\n",
    "\n",
    "k = np.arange(-10, 40)\n",
    "x = sawtooth(k, 10)\n",
    "\n",
    "plt.figure(figsize=(6, 3))\n",
    "plt.stem(k, x)\n",
    "plt.xlabel('$k$')\n",
    "plt.ylabel('$x[k]$')\n",
    "plt.gca().margins(y=0.1)"
   ]
  },
  {
   "cell_type": "markdown",
   "metadata": {},
   "source": [
    "### Flipping\n",
    "\n",
    "The flipping of a signal $s[k]$ is defined as\n",
    "\n",
    "\\begin{equation}\n",
    "x[k] = s[\\kappa - k]\n",
    "\\end{equation}\n",
    "\n",
    "with $\\kappa \\in \\mathbb{Z}$. The flipping operation can also be represented as a reversal of the index $k$ of the signal $s[k]$ followed by a shift of $\\kappa$ of the reversed signal, as $s[\\kappa - k] = s[- (k - \\kappa)]$. The operation can interpreted geometrically as a mirroring of the signal $s[k]$ at the vertical axis $k = \\frac{\\kappa}{2}$.\n",
    "\n",
    "For $\\kappa = 0$ this results in a reversal of the signal. The reversal can be interpreted as time-reversal for a discrete signal which has been derived by temporal sampling from a continuous signal."
   ]
  },
  {
   "cell_type": "markdown",
   "metadata": {},
   "source": [
    "**Example**\n",
    "\n",
    "The following example illustrates the temporal flipping of the sawtooth signal $x[k]$ introduced above for $\\kappa = 3$."
   ]
  },
  {
   "cell_type": "code",
   "execution_count": null,
   "metadata": {},
   "outputs": [],
   "source": [
    "x = sawtooth(3 - k, 10)\n",
    "\n",
    "plt.figure(figsize=(6, 3))\n",
    "plt.stem(k, x)\n",
    "plt.xlabel('$k$')\n",
    "plt.ylabel('$x[k]$')\n",
    "plt.gca().margins(y=0.1)"
   ]
  },
  {
   "cell_type": "markdown",
   "metadata": {},
   "source": [
    "**Excercise**\n",
    "\n",
    "* Realize the temporal flipping by splitting it into two operations:\n",
    "    1. time-reversal and\n",
    "    2. temporal shift."
   ]
  },
  {
   "cell_type": "markdown",
   "metadata": {
    "nbsphinx": "hidden"
   },
   "source": [
    "### Copyright\n",
    "\n",
    "<p xmlns:dct=\"http://purl.org/dc/terms/\">\n",
    "  <a rel=\"license\"\n",
    "     href=\"http://creativecommons.org/publicdomain/zero/1.0/\">\n",
    "    <img src=\"http://i.creativecommons.org/p/zero/1.0/88x31.png\" style=\"border-style: none;\" alt=\"CC0\" />\n",
    "  </a>\n",
    "  <br />\n",
    "  To the extent possible under law,\n",
    "  <span rel=\"dct:publisher\" resource=\"[_:publisher]\">the person who associated CC0</span>\n",
    "  with this work has waived all copyright and related or neighboring\n",
    "  rights to this work.\n",
    "</p>"
   ]
  }
 ],
 "metadata": {
  "kernelspec": {
   "display_name": "Python 3",
   "language": "python",
   "name": "python3"
  },
  "language_info": {
   "codemirror_mode": {
    "name": "ipython",
    "version": 3
   },
   "file_extension": ".py",
   "mimetype": "text/x-python",
   "name": "python",
   "nbconvert_exporter": "python",
   "pygments_lexer": "ipython3",
   "version": "3.5.1"
  }
 },
 "nbformat": 4,
 "nbformat_minor": 1
}

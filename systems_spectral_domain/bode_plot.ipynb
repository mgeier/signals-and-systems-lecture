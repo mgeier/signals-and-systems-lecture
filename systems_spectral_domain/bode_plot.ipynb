{
 "cells": [
  {
   "cell_type": "markdown",
   "metadata": {
    "nbsphinx": "hidden"
   },
   "source": [
    "# Characterization of Systems in the Spectral Domain\n",
    "\n",
    "*This Jupyter notebook is part of a [collection of notebooks](../index.ipynb) in the bachelors module Signals and Systems, Communications Engineering, Universität Rostock. Please direct questions and suggestions to [Sascha.Spors@uni-rostock.de](mailto:Sascha.Spors@uni-rostock.de).*"
   ]
  },
  {
   "cell_type": "markdown",
   "metadata": {},
   "source": [
    "## Bode Plots\n",
    "\n",
    "The Fourier domain transfer function $H(j \\omega)$ characterizes the transmission properties of a linear time-incariant (LTI) system with respect to the [harmonic exponential signal](../continuous_signals/standard_signals.ipynb#Complex-Exponential-Signal) $e^{j \\omega t}$ for the angular frequency $\\omega = 2 \\pi f$. In order to illustrate the characteristics of an LTI system, often the magnitude $| H(j \\omega) |$ and phase $\\varphi_H(j \\omega)$ of the transfer function is regarded separately. Decomposing the output signal $Y(j \\omega) = X(j \\omega) \\cdot H(j \\omega)$ into its magnitude $| Y(j \\omega) |$ and phase $\\varphi_Y(j \\omega)$ yields\n",
    "\n",
    "\\begin{align}\n",
    "| Y(j \\omega) | &= | X(j \\omega) | \\cdot | H(j \\omega) | \\\\\n",
    "\\varphi_Y(j \\omega) &= \\varphi_X(j \\omega) + \\varphi_H(j \\omega)\n",
    "\\end{align}\n",
    "\n",
    "where $X(j \\omega)$ denotes the input signal, and $| X(j \\omega) |$ and $\\varphi_X(j \\omega)$ its magnitude and phase, respectively. It can be concluded from above equations, that the magnitude $| H(j \\omega) |$ provides the frequency-dependent attenuation of the magnitude $| X(j \\omega) |$ of the input signal by the system, while $\\varphi_H(j \\omega)$ provides the introduced phase-shift. \n",
    "\n",
    "A common graphical illustration of the sytem properties in terms of the magnitude and phase of the transfer function are [*bode plots*](https://en.wikipedia.org/wiki/Bode_plot). Here the logarithmic magnitude of the transfer function $20 \\log_{10} | H(j \\omega) |$ in [decibels](https://en.wikipedia.org/wiki/Decibel) is plotted against the logarithm of the frequency $\\omega$ or $f$. The phase $\\varphi_H(j \\omega)$ is plotted linearly against the logarithm of the frequency. A transfer function $H(s)$ which is a rational function in $s$ can be represented [in terms of its poles and zeros](../laplace_transform/definition.ipynb#Representation). Applying this representation to the transfer function $H(j \\omega)$ in the Fourier domain yields\n",
    "\n",
    "\\begin{equation}\n",
    "H(j \\omega) = K \\cdot \\frac{\\prod_{\\mu=0}^{Q} (j \\omega - s_{0 \\mu})}{\\prod_{\\nu=0}^{P} (j \\omega - s_{\\infty \\nu})}\n",
    "\\end{equation}\n",
    "\n",
    "where $s_{0 \\mu}$ and $s_{\\infty \\nu}$ denote the $\\mu$-th zero and $\\nu$-th pole of $H(s)$, and $Q$ and $P$ the total number of zeros and poles, respectively. The logarithm of the magnitude and the phase can then be expressed as\n",
    "\n",
    "\\begin{align}\n",
    "\\log_{10} | H(j \\omega) | &= \\sum_{\\mu=0}^{Q} \\log_{10} |j \\omega - s_{0 \\mu}| - \\sum_{\\nu=0}^{P} \\log_{10} |j \\omega - s_{\\infty \\nu}| + \\log_{10} |K|   \\\\\n",
    "\\varphi_H(j \\omega) &= \\sum_{\\mu=0}^{Q} \\arg (j \\omega - s_{0 \\mu}) - \\sum_{\\nu=0}^{P} \\arg (j \\omega - s_{\\infty \\nu})\n",
    "\\end{align}\n",
    "\n",
    "where $\\arg(\\cdot)$ denotes the [argument](https://en.wikipedia.org/wiki/Argument_%28complex_analysis%29) (phase) of a complex function. It can be concluded from above result, that the individual contributions of the poles and zeros to the bode plot can be superimposed. This fact can be exploited to manually draw approximated bode plots illustrating the properties of an LTI system for a given set of poles and zeros. Rules for the asymptotic behavior of the magnitude and phase for single poles and zeros are available in the [literature](https://en.wikipedia.org/wiki/Bode_plot#Rules_for_handmade_Bode_plot). For instance it is stated that a single pole/zero results in a magnitude response in the bode plot that decreases/increases with a slope of 20 dB per decade. These rules provide insights into the influence of the location and order of poles and zeros on the properties of systems. They are of benefit when designing systems with given magnitude and phase properties."
   ]
  },
  {
   "cell_type": "markdown",
   "metadata": {},
   "source": [
    "**Example**\n",
    "\n",
    "The bode plot of the [2nd order low-pass filter](../laplace_transform/network_analysis.ipynb#Example:-Second-Order-Low-Pass-Filter) is plotted. The transfer function $H(j \\omega)$ of the low-pass filter can be derived from its Laplace domain counterpart $H(s)$ by\n",
    "\n",
    "\\begin{equation}\n",
    "H(j \\omega) = \\frac{1}{C L s^2 + C R s + 1} \\bigg\\rvert_{s = j \\omega}\n",
    "\\end{equation}"
   ]
  },
  {
   "cell_type": "code",
   "execution_count": null,
   "metadata": {},
   "outputs": [],
   "source": [
    "%matplotlib inline\n",
    "import sympy as sym\n",
    "sym.init_printing()\n",
    "\n",
    "w = sym.symbols('omega', real=True)\n",
    "R, L, C = sym.symbols('R L C', positive=True)\n",
    "s = sym.I * w\n",
    "\n",
    "H = 1/(C*L*s**2 + C*R*s + 1)\n",
    "H"
   ]
  },
  {
   "cell_type": "markdown",
   "metadata": {},
   "source": [
    "The bode plot is generated for the normalized values $R = 1$, $L = 0.5$ and $C = 0.4$"
   ]
  },
  {
   "cell_type": "code",
   "execution_count": null,
   "metadata": {},
   "outputs": [],
   "source": [
    "RLC = {R: 1, L: sym.Rational('.5'), C: sym.Rational('.4')}\n",
    "\n",
    "sym.plot(20*sym.log(sym.Abs(H.subs(RLC)), 10), (w, 0.1, 10), xscale='log', xlabel='$\\omega$', ylabel='$20 \\log_{10} | H(j \\omega) |$');\n",
    "sym.plot(sym.arg(H.subs(RLC)), (w, 0.1, 10), xscale='log', xlabel='$\\omega$', ylabel=r'$\\varphi(j \\omega)$');"
   ]
  },
  {
   "cell_type": "markdown",
   "metadata": {},
   "source": [
    "**Example**\n",
    "\n",
    "The bode plot of a second-order LTI system with the following transfer function\n",
    "\n",
    "\\begin{equation}\n",
    "H(s) = \\frac{(s - s_0)(s - s_0^*)}{(s - s_\\infty)(s - s_\\infty^*)}\n",
    "\\end{equation}\n",
    "\n",
    "with \n",
    "\n",
    "\\begin{align}\n",
    "s_0 &= \\sigma_0 + j \\omega_0  &\\text{with } \\quad &\\sigma_0 = 2000, \\omega_0 = 2 \\pi \\cdot 100 \\\\\n",
    "s_\\infty  &= \\sigma_\\infty + j \\omega_\\infty & &\\sigma_\\infty = 20000, \\omega_\\infty = 2 \\pi \\cdot 4000\n",
    "\\end{align}\n",
    "\n",
    "is constructed in this example. First the contribution of the zero $s_0$ to the magnitude of the transfer function $H(j \\omega)$ is computed and plotted over the frequency $f$ using $\\omega = 2 \\pi f$."
   ]
  },
  {
   "cell_type": "code",
   "execution_count": null,
   "metadata": {},
   "outputs": [],
   "source": [
    "def db(x):\n",
    "    return 20 * sym.log(sym.Abs(x), 10)"
   ]
  },
  {
   "cell_type": "code",
   "execution_count": null,
   "metadata": {},
   "outputs": [],
   "source": [
    "f = sym.symbols('f', real=True)\n",
    "s = sym.I * 2*sym.pi*f\n",
    "s_0 = 2000 + sym.I * 2*sym.pi*100\n",
    "\n",
    "H1 = (s - s_0)*(s - sym.conjugate(s_0))\n",
    "Hlog1 = db(H1)\n",
    "\n",
    "sym.plot(Hlog1, (f, 10, 10000), xscale='log', xlabel='$f$', ylabel='$20 \\log_{10} |H_0(j \\omega)|$ in dB');"
   ]
  },
  {
   "cell_type": "markdown",
   "metadata": {},
   "source": [
    "Now the contribution of the pole $s_\\infty$ is computed and plotted"
   ]
  },
  {
   "cell_type": "code",
   "execution_count": null,
   "metadata": {},
   "outputs": [],
   "source": [
    "s_inf = 20000 + sym.I * 2*sym.pi*4000\n",
    "\n",
    "H2 = 1/((s - s_inf)*(s - sym.conjugate(s_inf)))\n",
    "Hlog2 = db(H2)\n",
    "sym.plot(Hlog2, (f, 10, 20000), xscale='log', xlabel='$f$', ylabel='$20 \\log_{10} |H_\\infty(j \\omega)|$ in dB');"
   ]
  },
  {
   "cell_type": "markdown",
   "metadata": {},
   "source": [
    "The (logarithmic) magnitude frequency response of the system is given by superposition of the individual contributions from the zero and the pole"
   ]
  },
  {
   "cell_type": "code",
   "execution_count": null,
   "metadata": {},
   "outputs": [],
   "source": [
    "Hlog = Hlog1 + Hlog2\n",
    "sym.plot(Hlog, (f, 10, 50000), xscale='log', xlabel='$f$', ylabel='$20 \\log_{10} |H(j \\omega)|$ in dB');"
   ]
  },
  {
   "cell_type": "markdown",
   "metadata": {},
   "source": [
    "**Exercise**\n",
    "\n",
    "* Examine the bode plots for the contributions of the zero and the pole:\n",
    "    * What regions show approximately linear behavior over the frequency $f$? \n",
    "    * What is the slope of these regions per octave/decade? \n",
    "    * At which frequency is the transition between the regions of linear behavior? How is the frequency related to the imaginary part of the zero/pole?\n",
    "\n",
    "* Examine the bode plot of the system. How is it related to the bode plots of the individual zero/pole?\n",
    "\n",
    "* Move the pole and/or zero closer to the imaginary axis by changing the values $\\sigma_\\infty$ and/or $\\sigma_0$. What changes?"
   ]
  },
  {
   "cell_type": "markdown",
   "metadata": {
    "nbsphinx": "hidden"
   },
   "source": [
    "**Copyright**\n",
    "\n",
    "The notebooks are provided as [Open Educational Resource](https://de.wikipedia.org/wiki/Open_Educational_Resources). Feel free to use the notebooks for your own educational purposes. The text is licensed under [Creative Commons Attribution 4.0](https://creativecommons.org/licenses/by/4.0/), the code of the IPython examples under the [MIT license](https://opensource.org/licenses/MIT). Please attribute the work as follows: *Lecture Notes on Signals and Systems* by Sascha Spors."
   ]
  }
 ],
 "metadata": {
  "kernelspec": {
   "display_name": "Python 3",
   "language": "python",
   "name": "python3"
  },
  "language_info": {
   "codemirror_mode": {
    "name": "ipython",
    "version": 3
   },
   "file_extension": ".py",
   "mimetype": "text/x-python",
   "name": "python",
   "nbconvert_exporter": "python",
   "pygments_lexer": "ipython3",
   "version": "3.7.3"
  }
 },
 "nbformat": 4,
 "nbformat_minor": 1
}

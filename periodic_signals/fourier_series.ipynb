{
 "cells": [
  {
   "cell_type": "markdown",
   "metadata": {
    "nbsphinx": "hidden"
   },
   "source": [
    "# Periodic Signals\n",
    "\n",
    "*This Jupyter notebook is part of a [collection of notebooks](../index.ipynb) in the bachelors module Signals and Systems, Comunications Engineering, Universität Rostock. Please direct questions and suggestions to [Sascha.Spors@uni-rostock.de](mailto:Sascha.Spors@uni-rostock.de).*"
   ]
  },
  {
   "cell_type": "markdown",
   "metadata": {},
   "source": [
    "## Relation between Spectrum and Fourier Series\n",
    "\n",
    "The Fourier transform $X(j \\omega) = \\mathcal{F} \\{ x(t) \\}$ of a periodic signal $x(t)$, [as derived before](spectrum.ipynb#Fourier-Transform), is a line spectrum. It consists of a weighted series of Dirac impulses. Periodic functions can be represented alternatively by a [Fourier series](https://en.wikipedia.org/wiki/Fourier_series). The relation between the spectrum $X(j \\omega)$ of a periodic signal and its Fourier series coefficients is derived in the following.\n",
    "\n",
    "The complex Fourier series of a periodic signal $x(t)$ is defined as\n",
    "\n",
    "\\begin{equation}\n",
    "x(t) = \\sum_{n = - \\infty}^{\\infty} X_n \\, e^{j n \\frac{2 \\pi}{T_\\text{p}} t}\n",
    "\\end{equation}\n",
    "\n",
    "where $T_\\text{p} > 0$ denotes the period of the signal and $X_n$ the Fourier series coefficients of $x(t)$. The Fourier series represents the signal as weighted superposition of complex exponential signals. The weights (expansion coefficients) $X_n$ are given as\n",
    "\n",
    "\\begin{equation}\n",
    "X_n = \\frac{1}{T_\\text{p}} \\int_{0}^{T_\\text{p}} x(t) \\, e^{- j n \\frac{2 \\pi}{T_\\text{p}} t} \\; dt\n",
    "\\end{equation}\n",
    "\n",
    "Introducing the [Fourier transform $X(j \\omega)$ of a periodic signal](spectrum.ipynb#Fourier-Transform) into the [inverse Fourier transform](../fourier_transform/definition.ipynb#Definition) yields\n",
    "\n",
    "\\begin{align}\n",
    "x(t) &= \\frac{1}{2 \\pi} \\int_{-\\infty}^{\\infty} X_0(j \\omega) \\cdot {\\bot \\!\\! \\bot \\!\\! \\bot} \\left( \\frac{\\omega T_\\text{p}}{2 \\pi} \\right) \\, e^{j \\omega t} \\; d \\omega \\\\\n",
    "&= \\frac{1}{T_\\text{p}} \\sum_{\\mu = -\\infty}^{\\infty} X_0 \\left( j \\, \\mu \\frac{2 \\pi}{T_\\text{p}} \\right) \\, e^{j \\, \\mu \\frac{2 \\pi}{T_\\text{p}} t}\n",
    "\\end{align}\n",
    "\n",
    "where $X_0(j \\omega) = \\mathcal{F} \\{ x_0(t) \\}$ denotes the Fourier transform of one period $x_0(t)$ of the periodic signal. Note, the [definition of the Dirac comb](spectrum.ipynb#The-Dirac-Comb) and the multiplication property of the Dirac impulse was used to derive the last equality. Comparing this result with the definition of the Fourier series reveals that both are equal for\n",
    "\n",
    "\\begin{equation}\n",
    "X_n = X_0 \\left( j \\, n \\frac{2 \\pi}{T_\\text{p}} \\right)\n",
    "\\end{equation}\n",
    "\n",
    "The Fourier series coefficients $X_n$ of a periodic signal are equal to the Fourier transform $X_0(j \\omega)$ of one period of the signal at the frequencies $\\omega = n \\frac{2 \\pi}{T_\\text{p}}$."
   ]
  },
  {
   "cell_type": "markdown",
   "metadata": {},
   "source": [
    "**Example**\n",
    "\n",
    "The Fourier series coefficients of the pulse train can be derived from the [Fourier transform of the pulse train](spectrum.ipynb#Fourier-Transform-of-the-Pulse-Train) as\n",
    "\n",
    "\\begin{equation}\n",
    "X_n = T \\, e^{-j \\omega \\frac{T}{2}} \\cdot \\text{sinc} \\left( \\frac{\\omega T}{2} \\right) \\bigg\\vert_{\\omega = n \\frac{2 \\pi}{T_\\text{p}}} = T \\, e^{-j n \\pi \\frac{T}{T_\\text{p}}} \\cdot \\text{sinc} \\left( n \\pi \\frac{T}{T_\\text{p}} \\right)\n",
    "\\end{equation}\n",
    "\n",
    "With these coefficients the pulse train can be represented by the Fourier series\n",
    "\n",
    "\\begin{equation}\n",
    "x(t) = \\sum_{n = -\\infty}^{\\infty} T \\, e^{-j n \\pi \\frac{T}{T_\\text{p}}} \\cdot \\text{sinc} \\left( n \\pi \\frac{T}{T_\\text{p}} \\right) \\, e^{j n \\frac{2 \\pi}{T_\\text{p}} t}\n",
    "\\end{equation}\n",
    "\n",
    "This series cannot be evaluated numerically due to its infinite limits. The series has to be truncated to a finite number of summands in a practical implementation. The consequences of truncating the series are illustrated in the following. First the weights $X_n$ of the Fourier series are defined"
   ]
  },
  {
   "cell_type": "code",
   "execution_count": null,
   "metadata": {},
   "outputs": [],
   "source": [
    "import sympy as sym\n",
    "%matplotlib inline\n",
    "sym.init_printing()\n",
    "\n",
    "n = sym.symbols('n', integer=True)\n",
    "t = sym.symbols('t', real=True)\n",
    "\n",
    "T = 2\n",
    "Tp = 5\n",
    "\n",
    "Xn = T * sym.exp(-sym.I * n * sym.pi * T/Tp) * sym.sinc(n * sym.pi * T/Tp)\n",
    "Xn"
   ]
  },
  {
   "cell_type": "markdown",
   "metadata": {},
   "source": [
    "Now the Fourier series is evaluated for a finite upper and lower limit $N$\n",
    "\n",
    "\\begin{equation}\n",
    "x_N(t) = \\sum_{n = -N}^{N} X_n \\, e^{j n \\frac{2 \\pi}{T_\\text{p}} t}\n",
    "\\end{equation}"
   ]
  },
  {
   "cell_type": "code",
   "execution_count": null,
   "metadata": {},
   "outputs": [],
   "source": [
    "N = 15\n",
    "\n",
    "x = sym.Sum(Xn * sym.exp(sym.I*n*2*sym.pi/Tp*t), (n, -N, N)).doit()\n",
    "sym.plot(x, (t, 0, 10), xlabel='$t$', ylabel='$x_N(t)$')"
   ]
  },
  {
   "cell_type": "markdown",
   "metadata": {},
   "source": [
    "Overshoots can be observed at the discontinuities of the pulse train. The relative magnitude of these overshoots remains at constantly 9% even when increasing the limits of the truncated Fourier series expansion. This effect is known as [*Gibbs phenomenon*](https://en.wikipedia.org/wiki/Gibbs_phenomenon). Truncated Fourier series are therefore not very well suited for the approximation of signals with discontinuities."
   ]
  },
  {
   "cell_type": "markdown",
   "metadata": {},
   "source": [
    "**Exercise**\n",
    "\n",
    "* Examine the properties of the truncated Fourier series when you increase the limit $N$ in above example. Note: The evaluation of the Fourier series may take a while due to involved numerical complexity."
   ]
  },
  {
   "cell_type": "markdown",
   "metadata": {
    "nbsphinx": "hidden"
   },
   "source": [
    "**Copyright**\n",
    "\n",
    "The notebooks are provided as [Open Educational Resource](https://de.wikipedia.org/wiki/Open_Educational_Resources). Feel free to use the notebooks for your own educational purposes. The text is licensed under [Creative Commons Attribution 4.0](https://creativecommons.org/licenses/by/4.0/), the code of the IPython examples under the [MIT license](https://opensource.org/licenses/MIT). Please attribute the work as follows: *Lecture Notes on Signals and Systems* by Sascha Spors."
   ]
  }
 ],
 "metadata": {
  "kernelspec": {
   "display_name": "Python 3",
   "language": "python",
   "name": "python3"
  },
  "language_info": {
   "codemirror_mode": {
    "name": "ipython",
    "version": 3
   },
   "file_extension": ".py",
   "mimetype": "text/x-python",
   "name": "python",
   "nbconvert_exporter": "python",
   "pygments_lexer": "ipython3",
   "version": "3.7.3"
  }
 },
 "nbformat": 4,
 "nbformat_minor": 1
}

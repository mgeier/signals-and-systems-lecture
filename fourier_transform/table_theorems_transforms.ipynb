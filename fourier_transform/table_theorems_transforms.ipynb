{
 "cells": [
  {
   "cell_type": "markdown",
   "metadata": {
    "nbsphinx": "hidden"
   },
   "source": [
    "# The Fourier Transform\n",
    "\n",
    "*This Jupyter notebook is part of a [collection of notebooks](../index.ipynb) in the bachelors module Signals and Systems, Communications Engineering, Universität Rostock. Please direct questions and suggestions to [Sascha.Spors@uni-rostock.de](mailto:Sascha.Spors@uni-rostock.de).*"
   ]
  },
  {
   "cell_type": "markdown",
   "metadata": {},
   "source": [
    "## Summary of Properties, Theorems and Transforms\n",
    "\n",
    "The [properties](properties.ipynb), [theorems](theorems.ipynb) and transforms of the Fourier transform as derived in the previous sections are summarized in the following. The corresponding tables serve as a reference for the application of the Fourier transform in the theory of signals and systems. Please refer to the respective sections for details."
   ]
  },
  {
   "cell_type": "markdown",
   "metadata": {},
   "source": [
    "### Definition\n",
    "\n",
    "The Fourier transform and its inverse are defined as\n",
    "\n",
    "\\begin{align}\n",
    "X(j \\omega) &= \\int_{-\\infty}^{\\infty} x(t) \\, e^{- j \\omega t} \\; dt \\\\\n",
    "x(t) &= \\frac{1}{2 \\pi} \\int_{- \\infty}^{\\infty} X(j \\omega) \\, e^{j \\omega t} \\; d\\omega\n",
    "\\end{align}"
   ]
  },
  {
   "cell_type": "markdown",
   "metadata": {},
   "source": [
    "### Properties and Theorems\n",
    "\n",
    "The properties and theorems of the Fourier transform are given as\n",
    "\n",
    "|  | $x(t) \\qquad \\qquad \\qquad \\qquad$ | $X(j \\omega) = \\mathcal{F} \\{ x(t) \\} \\qquad \\qquad \\qquad$ |\n",
    "|:---|:---:|:---:|:---|\n",
    "| [Duality](properties.ipynb#Duality) | $ \\begin{align*} x_1(t) \\\\ x_2(j t) \\end{align*} $ | $ \\begin{align*} x_2(j \\omega) \\\\ 2 \\pi \\, x_1(- \\omega) \\end{align*} $ |\n",
    "| [Linearity](properties.ipynb#Linearity) | $A \\, x_1(t) + B \\, x_2(t)$ | $A \\, X_1(j \\omega) + B \\, X_2(j \\omega)$ |\n",
    "| [Real-valued signal](properties.ipynb#Real-valued-signals) | $x(t) = x^*(t)$ | $X(j \\omega) = X^*(- j \\omega)$ | \n",
    "| [Scaling](theorems.ipynb#Temporal-Scaling-Theorem) | $x(a t)$ | $\\frac{1}{\\lvert a \\rvert} X\\left( \\frac{j \\omega}{a} \\right)$ |\n",
    "| [Convolution](theorems.ipynb#Convolution-Theorem) | $x(t) * h(t)$ | $X(j \\omega) \\cdot H(j \\omega)$ |\n",
    "| [Shift](theorems.ipynb#Temporal-Shift-Theorem) | $x(t - \\tau)$ | $e^{-j \\omega \\tau} \\cdot X(j \\omega)$ |\n",
    "| [Differentiation](theorems.ipynb#Differentiation-Theorem) | $\\frac{d}{dt} x(t)$ | $j \\omega X(j \\omega)$ |\n",
    "| [Integration](theorems.ipynb#Integration-Theorem) | $\\int_{-\\infty}^{t} x(t) \\; dt$ | $\\frac{1}{j \\omega} X(j \\omega) + \\pi X(0) \\delta(\\omega)$ |\n",
    "| [Multiplication](theorems.ipynb#Multiplication-Theorem) | $x(t) \\cdot h(t)$ | $\\frac{1}{2 \\pi} X(j \\omega) * H(j \\omega)$ |\n",
    "| [Modulation](theorems.ipynb#Modulation-Theorem) | $e^{j \\omega_0 t}\\cdot x(t)$ | $X\\left(j (\\omega - \\omega_0) \\right)$ |\n",
    "\n",
    "where $A, B \\in \\mathbb{C}$, $a \\in \\mathbb{R} \\setminus \\{0\\}$ and $\\tau, \\omega_0 \\in \\mathbb{R}$"
   ]
  },
  {
   "cell_type": "markdown",
   "metadata": {
    "collapsed": true
   },
   "source": [
    "### Selected Transforms\n",
    "\n",
    "Fourier transforms which are frequently used are given as\n",
    "\n",
    "| $x(t) \\qquad \\qquad \\qquad \\qquad$ | $X(j \\omega) = \\mathcal{F} \\{ x(t) \\} \\qquad \\qquad \\qquad \\qquad \\qquad \\qquad$ |\n",
    "|:---:|:---:|:---|\n",
    "| $\\delta(t)$ | $1$ |\n",
    "| $1$ | $2 \\pi \\, \\delta(\\omega)$ |\n",
    "| $\\text{sgn}(t)$ | $\\frac{2}{j \\omega}$ |\n",
    "| $\\epsilon(t)$ | $\\pi \\, \\delta(\\omega) + \\frac{1}{j \\omega}$ |\n",
    "| $\\text{rect}(t)$ | $\\text{si} \\left( \\frac{\\omega}{2} \\right)$ |\n",
    "| $\\Lambda(t)$ | $\\text{si}^2 \\left( \\frac{\\omega}{2} \\right)$ |\n",
    "| $e^{- j \\omega_0 t}$ | $2 \\pi \\, \\delta(\\omega - \\omega_0)$ |\n",
    "| $\\sin(\\omega_0 t)$ | $j \\pi \\left( \\delta(\\omega+\\omega_0) - \\delta(\\omega-\\omega_0) \\right)$ |\n",
    "| $\\cos(\\omega_0 t)$ | $\\pi \\left( \\delta(\\omega+\\omega_0) + \\delta(\\omega-\\omega_0) \\right)$ |\n",
    "| $e^{- \\alpha^2 t^2}$ | $\\frac{\\sqrt{\\pi}}{\\alpha} e^{- \\frac{\\omega^2}{4 \\alpha^2}}$ |\n",
    "| ${\\bot \\!\\! \\bot \\!\\! \\bot} ( t )$ | ${\\bot \\!\\! \\bot \\!\\! \\bot} \\left( \\frac{\\omega}{2 \\pi} \\right)$ |\n",
    "\n",
    "where $\\omega_0 \\in \\mathbb{R}$, $\\alpha \\in \\mathbb{R}^+$ and ${\\bot \\!\\! \\bot \\!\\! \\bot} ( t ) = \\sum_{k = -\\infty}^{\\infty} \\delta(t - k)$. More Fourier transforms may be found in the literature or [online](https://en.wikipedia.org/wiki/Fourier_transform#Tables_of_important_Fourier_transforms)."
   ]
  },
  {
   "cell_type": "markdown",
   "metadata": {
    "nbsphinx": "hidden"
   },
   "source": [
    "**Copyright**\n",
    "\n",
    "The notebooks are provided as [Open Educational Resource](https://de.wikipedia.org/wiki/Open_Educational_Resources). Feel free to use the notebooks for your own educational purposes. The text is licensed under [Creative Commons Attribution 4.0](https://creativecommons.org/licenses/by/4.0/), the code of the IPython examples under the [MIT license](https://opensource.org/licenses/MIT). Please attribute the work as follows: *Lecture Notes on Signals and Systems* by Sascha Spors."
   ]
  }
 ],
 "metadata": {
  "kernelspec": {
   "display_name": "Python 3",
   "language": "python",
   "name": "python3"
  },
  "language_info": {
   "codemirror_mode": {
    "name": "ipython",
    "version": 3
   },
   "file_extension": ".py",
   "mimetype": "text/x-python",
   "name": "python",
   "nbconvert_exporter": "python",
   "pygments_lexer": "ipython3",
   "version": "3.6.4"
  }
 },
 "nbformat": 4,
 "nbformat_minor": 1
}

{
 "cells": [
  {
   "cell_type": "markdown",
   "metadata": {
    "nbsphinx": "hidden"
   },
   "source": [
    "# Characterization of Discrete Systems\n",
    "\n",
    "*This Jupyter notebook is part of a [collection of notebooks](../index.ipynb) in the bachelors module Signals and Systems, Comunications Engineering, Universität Rostock. Please direct questions and suggestions to <mailto:Sascha.Spors@uni-rostock.de>.*"
   ]
  },
  {
   "cell_type": "markdown",
   "metadata": {},
   "source": [
    "## Linear Convolution\n",
    "\n",
    "It was shown previously, that the convolution is an important operation in the theory of signals and linear time-invariant (LTI) systems. The linear convolution of two discrete signals $s[k]$ and $g[k]$ is defined as\n",
    "\n",
    "\\begin{equation}\n",
    "\\sum_{\\kappa = -\\infty}^{\\infty} s[\\kappa] \\cdot g[k - \\kappa] = s[k] * g[k]\n",
    "\\end{equation}\n",
    "\n",
    "where $*$ is a common short-hand notation of the convolution. The general properties of the linear convolution are discussed, followed by a geometrical interpretation of the operation."
   ]
  },
  {
   "cell_type": "markdown",
   "metadata": {},
   "source": [
    "### Properties\n",
    "\n",
    "For the discrete signals $s[k]$, $g[k]$, $h[k] \\in \\mathbb{C}$ the convolution shows the following properties \n",
    "\n",
    "1. The Dirac impulse is the [identity element](https://en.wikipedia.org/wiki/Identity_element) of the convolution\n",
    "    \\begin{equation}\n",
    "    s[k] * \\delta[k] = s[k]\n",
    "    \\end{equation}\n",
    "    \n",
    "2. The convolution is [commutative](https://en.wikipedia.org/wiki/Commutative_property)\n",
    "    \\begin{equation}\n",
    "    s[k] * g[k] = g[k] * s[k]\n",
    "    \\end{equation}\n",
    "    \n",
    "3. The convolution is [associative](https://en.wikipedia.org/wiki/Associative_property)\n",
    "    \\begin{equation}\n",
    "    \\left( s[k] * g[k] \\right) * h[k] = s[k] * \\left( g[k] * h[k] \\right) \n",
    "    \\end{equation}\n",
    "\n",
    "5. The convolution is [distributive](https://en.wikipedia.org/wiki/Distributive_property)\n",
    "    \\begin{equation}\n",
    "    s[k] * \\left( g[k] + h[k] \\right) = s[k] * g[k] + s[k] * h[k]\n",
    "    \\end{equation}\n",
    "\n",
    "5. Multiplication with a scalar $a \\in \\mathbb{C}$\n",
    "    \\begin{equation}\n",
    "    a \\cdot \\left( s[k] * g[k] \\right) = \\left( a \\cdot s[k] \\right) * g[k] = s[k] * \\left( a \\cdot g[k] \\right)\n",
    "    \\end{equation}\n",
    "\n",
    "The first property is a consequence of the sifting property of the Dirac pulse, the second to fifth property can be proven by considering the definition of the convolution."
   ]
  },
  {
   "cell_type": "markdown",
   "metadata": {},
   "source": [
    "### Geometrical Interpretation\n",
    "\n",
    "The convolution can be [interpreted in a graphical manner](https://en.wikipedia.org/wiki/Convolution#Visual_explanation). This provides valuable insights into its calculation and allows to estimate the result. The calculation of the linear convolution \n",
    "\n",
    "\\begin{equation}\n",
    "y[k] = x[k] * h[k] = \\sum_{\\kappa = -\\infty}^{\\infty} x[\\kappa] \\cdot h[k - \\kappa]\n",
    "\\end{equation}\n",
    "\n",
    "\n",
    "can be decomposed into four steps:\n",
    "\n",
    "1. substitute $k$ by $\\kappa$ in both $x[k]$ and $h[k]$,\n",
    "\n",
    "2. time-reverse $h[\\kappa]$ (reflection at vertical axis),\n",
    "\n",
    "3. shift $h[- \\kappa]$ by $k$ to the right to yield $h[k - \\kappa]$, check if it overlaps with $x[\\kappa]$ and sum up the product of the overlapping samples."
   ]
  },
  {
   "cell_type": "markdown",
   "metadata": {},
   "source": [
    "**Example**\n",
    "\n",
    "The procedure is illustrated with the signals\n",
    "\n",
    "\\begin{align}\n",
    "h[k] &= \\epsilon[k] \\cdot e^{- \\frac{k}{2}} \\\\\n",
    "x[k] &= \\text{rect}_N[k] \n",
    "\\end{align}\n",
    "\n",
    "for $N=6$. Before proceeding, some helper functions are defined."
   ]
  },
  {
   "cell_type": "code",
   "execution_count": null,
   "metadata": {},
   "outputs": [],
   "source": [
    "%matplotlib inline\n",
    "import numpy as np\n",
    "import matplotlib.pyplot as plt\n",
    "\n",
    "def heaviside(k):\n",
    "    return np.where(k >= 0, 1.0, 0.0)\n",
    "\n",
    "def rect(k, N):\n",
    "    return np.where((k>=0) & (k<N), 1.0, 0.0)\n",
    "\n",
    "def plot_signals(k, x, h, xlabel, hlabel, klabel):\n",
    "    plt.figure(figsize=(8,4))\n",
    "    plt.stem(k, x, linefmt='b-', markerfmt='bo', label=xlabel)\n",
    "    plt.stem(k, h, linefmt='r-', markerfmt='ro', label=hlabel)\n",
    "    plt.xlabel(klabel)\n",
    "    plt.legend()\n",
    "    plt.ylim([0, 1.5])"
   ]
  },
  {
   "cell_type": "markdown",
   "metadata": {},
   "source": [
    "Now let's compute and plot the signals $x[k]$ and $h[k]$"
   ]
  },
  {
   "cell_type": "code",
   "execution_count": null,
   "metadata": {},
   "outputs": [],
   "source": [
    "k = np.arange(-20, 20)\n",
    "h = heaviside(k) * np.exp(- k/2)\n",
    "x = rect(k, 6)\n",
    "\n",
    "plot_signals(k, x, h, '$x[k]$', '$h[k]$', '$k$')"
   ]
  },
  {
   "cell_type": "markdown",
   "metadata": {},
   "source": [
    "The **first step** is to substitute $k$ by $\\kappa$ in both $x[k]$ and $h[k]$ to yield $x[\\kappa]$ and $h[\\kappa]$"
   ]
  },
  {
   "cell_type": "code",
   "execution_count": null,
   "metadata": {},
   "outputs": [],
   "source": [
    "plot_signals(k, x, h, '$x[\\kappa]$', '$h[\\kappa]$', '$\\kappa$')"
   ]
  },
  {
   "cell_type": "markdown",
   "metadata": {},
   "source": [
    "The **second step** is to time-reverse $h[\\kappa]$ to yield $h[-\\kappa]$"
   ]
  },
  {
   "cell_type": "code",
   "execution_count": null,
   "metadata": {},
   "outputs": [],
   "source": [
    "h2 = heaviside(-k) * np.exp(k/2)\n",
    "\n",
    "plot_signals(k, x, h2, '$x[\\kappa]$', '$h[-\\kappa]$', '$\\kappa$')"
   ]
  },
  {
   "cell_type": "markdown",
   "metadata": {},
   "source": [
    "The impulse response $h[-\\kappa]$ is shifted by $k$ samples to the right in the **third step** to yield $h[k - \\kappa]$. This is illustrated for $k = -5$"
   ]
  },
  {
   "cell_type": "code",
   "execution_count": null,
   "metadata": {},
   "outputs": [],
   "source": [
    "h3 = heaviside(-(k+5)) * np.exp((k+5)/2)\n",
    "\n",
    "plot_signals(k, x, h3, '$x[\\kappa]$', '$h[5 -\\kappa]$', '$\\kappa$')"
   ]
  },
  {
   "cell_type": "markdown",
   "metadata": {},
   "source": [
    "It now becomes evident that with respect to the overlap of $h[k -\\kappa]$ and $x[\\kappa]$ three cases have to be considered:\n",
    "\n",
    "1. $k<0$: no overlap\n",
    "2. $0 \\leq k < N-1$: partial overlap\n",
    "3. $k \\geq N$: full overlap\n",
    "\n",
    "The evaluation of the summation for the three cases is left open as an exercise."
   ]
  },
  {
   "cell_type": "markdown",
   "metadata": {},
   "source": [
    "### Finite-Length Signals\n",
    "\n",
    "The length of a discrete signal $x[k]$ is defined as the total number of samples in between the first sample which is not zero and the last sample which is zero, plus one. A signal of finite-length or finite-length signal is a signal whose length is finite. The Dirac impulse $\\delta[k]$ is for instance a finite-length signal of length one.\n",
    "\n",
    "The convolution of two finite-length signals is of practical importance since the convolution can only be evaluated numerically for finite-length signals. Any infinite-length signal can be truncated to a finite length by multiplying it with the rectangular signal $\\text{rect}_N[k]$. It is hence sufficient to consider the convolution of two rectangular signals of length $N \\in \\mathbb{N}$ and $M \\in \\mathbb{N}$\n",
    "\n",
    "\\begin{equation}\n",
    "x[k] = \\text{rect}_N[k] * \\text{rect}_M[k]\n",
    "\\end{equation}\n",
    "\n",
    "in order to derive insights on the convolution of two arbitrary finite-length signals. By following above geometrical interpretation of the linear convolution, the result for $N \\leq M$ can be found as\n",
    "\n",
    "\\begin{equation}\n",
    "x[k] = \\begin{cases}\n",
    "0 & \\text{for }  k < 0 \\\\\n",
    "k+1 & \\text{for } 0 \\leq k < N \\\\\n",
    "N & \\text{for } N \\leq k < M \\\\\n",
    "N+M-1-k & \\text{for } M \\leq k < N+M-1\\\\\n",
    "0 & \\text{for } k \\geq N+M\n",
    "\\end{cases}\n",
    "\\end{equation}\n",
    "\n",
    "The convolution of two rectangular signals results in a finite-length signal. The length of the signal is $N+M-1$. This result can be generalized to the convolution of two arbitrary finite-length signals by following above reasoning. The convolution of two finite-length signals with length $N$ and $M$, respectively results in a finite-length signal of length $N+M-1$.\n",
    "\n",
    "For two causal signals $s[k]$ and $g[k]$ of finite length $N$ and $M$ the convolution reads\n",
    "\n",
    "\\begin{equation}\n",
    "s[k] * g[k] = \\sum_{\\kappa = 0}^{N-1} s[\\kappa] \\cdot g[k - \\kappa] = \\sum_{\\kappa = 0}^{M-1} s[k - \\kappa] \\cdot g[\\kappa]\n",
    "\\end{equation}\n",
    "\n",
    "The computation of each output sample requires at least $N$ multiplications and $N-1$ additions. The numerically complexity of the convolution for the computation of $N$ output samples is therefore [in the order of](https://en.wikipedia.org/wiki/Big_O_notation) $\\mathcal{0} ( N^2 )$."
   ]
  },
  {
   "cell_type": "markdown",
   "metadata": {},
   "source": [
    "**Example**\n",
    "\n",
    "The convolution of two rectangular signals $x[k] = \\text{rect}_N[k] * \\text{rect}_M[k]$ of length $N$ and $M$ is computed in the following. The resulting signal is plotted for illustration."
   ]
  },
  {
   "cell_type": "code",
   "execution_count": null,
   "metadata": {},
   "outputs": [],
   "source": [
    "N = 7\n",
    "M = 15\n",
    "\n",
    "k = np.arange(30)\n",
    "x = np.convolve(rect(k, N), rect(k, M), mode='full')\n",
    "\n",
    "plt.stem(x)\n",
    "plt.xlabel('$k$')\n",
    "plt.ylabel('$x[k]$')\n",
    "plt.ylim([0, N+.5]);"
   ]
  },
  {
   "cell_type": "markdown",
   "metadata": {},
   "source": [
    "**Exercise**\n",
    "\n",
    "* Compute the convolution of two rectangular signals of equal length analytically. Check your results by modifying the numerical example."
   ]
  },
  {
   "cell_type": "markdown",
   "metadata": {
    "nbsphinx": "hidden"
   },
   "source": [
    "**Copyright**\n",
    "\n",
    "The notebooks are provided as [Open Educational Resource](https://de.wikipedia.org/wiki/Open_Educational_Resources). Feel free to use the notebooks for your own educational purposes. The text is licensed under [Creative Commons Attribution 4.0](https://creativecommons.org/licenses/by/4.0/), the code of the IPython examples under the [MIT license](https://opensource.org/licenses/MIT). Please attribute the work as follows: *Lecture Notes on Signals and Systems* by Sascha Spors."
   ]
  }
 ],
 "metadata": {
  "kernelspec": {
   "display_name": "Python 3",
   "language": "python",
   "name": "python3"
  },
  "language_info": {
   "codemirror_mode": {
    "name": "ipython",
    "version": 3
   },
   "file_extension": ".py",
   "mimetype": "text/x-python",
   "name": "python",
   "nbconvert_exporter": "python",
   "pygments_lexer": "ipython3",
   "version": "3.5.1"
  }
 },
 "nbformat": 4,
 "nbformat_minor": 0
}

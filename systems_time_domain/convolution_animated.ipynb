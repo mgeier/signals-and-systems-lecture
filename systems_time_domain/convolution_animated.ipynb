{
 "cells": [
  {
   "cell_type": "code",
   "execution_count": null,
   "metadata": {},
   "outputs": [],
   "source": [
    "import numpy as np\n",
    "import matplotlib.pyplot as plt\n",
    "import matplotlib.animation as animation\n",
    "import sympy as sym\n",
    "\n",
    "from animation import animate_convolution\n",
    "plt.rcParams['animation.html'] = 'jshtml'"
   ]
  },
  {
   "cell_type": "markdown",
   "metadata": {},
   "source": [
    "# Examples"
   ]
  },
  {
   "cell_type": "code",
   "execution_count": null,
   "metadata": {},
   "outputs": [],
   "source": [
    "class rect(sym.Function):\n",
    "\n",
    "    @classmethod\n",
    "    def eval(cls, arg):\n",
    "        return sym.Heaviside(arg + sym.S.Half) - sym.Heaviside(arg - sym.S.Half)\n",
    "\n",
    "t, tau = sym.symbols('t tau', real=True)"
   ]
  },
  {
   "cell_type": "code",
   "execution_count": null,
   "metadata": {},
   "outputs": [],
   "source": [
    "h = sym.exp(-t) * sym.Heaviside(t)\n",
    "x = rect(t - 1/2)\n",
    "y = sym.integrate(h.subs(t,t-tau) * x.subs(t, tau), (tau, 0, t))  # causal signals\n",
    "\n",
    "anim = animate_convolution(x, h, y, t, tau, np.arange(-2, 5, .1), np.arange(-10, 10, 0.01))\n",
    "anim"
   ]
  },
  {
   "cell_type": "code",
   "execution_count": null,
   "metadata": {},
   "outputs": [],
   "source": [
    "h = rect(t/2 - 1/2)\n",
    "x = rect(t - 1/2)\n",
    "y = sym.integrate(h.subs(t,t-tau) * x.subs(t, tau), (tau, 0, t))  # causal signals\n",
    "\n",
    "anim = animate_convolution(x, h, y, t, tau, np.arange(-2, 5, .1), np.arange(-10, 10, 0.01))\n",
    "anim"
   ]
  }
 ],
 "metadata": {
  "kernelspec": {
   "display_name": "Python 3",
   "language": "python",
   "name": "python3"
  },
  "language_info": {
   "codemirror_mode": {
    "name": "ipython",
    "version": 3
   },
   "file_extension": ".py",
   "mimetype": "text/x-python",
   "name": "python",
   "nbconvert_exporter": "python",
   "pygments_lexer": "ipython3",
   "version": "3.7.3"
  }
 },
 "nbformat": 4,
 "nbformat_minor": 2
}

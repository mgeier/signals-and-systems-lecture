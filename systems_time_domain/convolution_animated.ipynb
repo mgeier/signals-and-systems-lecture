{
 "cells": [
  {
   "cell_type": "code",
   "execution_count": null,
   "metadata": {},
   "outputs": [],
   "source": [
    "import numpy as np\n",
    "import matplotlib.pyplot as plt\n",
    "import matplotlib.animation as animation\n",
    "import sympy as sym\n",
    "\n",
    "plt.rcParams['animation.html'] = 'jshtml'"
   ]
  },
  {
   "cell_type": "code",
   "execution_count": null,
   "metadata": {},
   "outputs": [],
   "source": [
    "def heaviside(x):\n",
    "    return np.heaviside(x, .5)\n",
    "\n",
    "def animate_convolution(x, h, y, td, taud):\n",
    "\n",
    "    # add numerical evaluation to symbolic functions\n",
    "    x_eval = sym.lambdify((tau), x.subs(t, tau), modules=['numpy', {'Heaviside': heaviside}])\n",
    "    h_eval = sym.lambdify((t, tau), h.subs(t, t - tau), modules=['numpy', {'Heaviside': heaviside}])\n",
    "    y_eval = sym.lambdify((t), y, modules=['numpy', {'Heaviside': heaviside}])\n",
    "\n",
    "    # setup plot and line styles\n",
    "    fig, ax = plt.subplots(2, 1)\n",
    "    fig.subplots_adjust(hspace=0.5)\n",
    "    plt.close()  # suppresses empty plot in notebook\n",
    "\n",
    "    lines = [ax[0].plot([], [], lw=2, label=r'$h(t-\\tau)$')[0]]\n",
    "    lines.append(ax[0].plot([], [], lw=2, label=r'$x(\\tau)$')[0])\n",
    "    lines.append(ax[1].plot([], [], 'g-', lw=2, label=r'$y(t) = x(t) * h(t)$')[0])\n",
    "    lines.append(ax[1].plot([], [], 'ro', lw=2)[0])\n",
    "\n",
    "    ax[0].set_xlim((-3, 5))\n",
    "    ax[0].set_ylim((-.1, 1.2))\n",
    "    ax[0].set_xlabel(r'$\\tau$')\n",
    "    ax[0].legend(loc='upper right')\n",
    "    ax[0].grid(True)\n",
    "\n",
    "    ax[1].set_xlim((-3, 5))\n",
    "    ax[1].set_ylim((-.1, 1.2))\n",
    "    ax[1].set_xlabel(r'$t$')\n",
    "    ax[1].legend(loc='upper right')\n",
    "    ax[1].grid(True)\n",
    "\n",
    "    \n",
    "    def animate(ti):\n",
    "        lines[0].set_data(taud, h_eval(ti, taud))\n",
    "        lines[1].set_data(taud, x_eval(taud))\n",
    "\n",
    "        lines[2].set_data(taud, y_eval(taud))\n",
    "        lines[3].set_data(ti, y_eval(ti))\n",
    "        \n",
    "        ax[0].collections.clear()\n",
    "        ax[0].fill_between(taud, 0, h_eval(ti, taud)*x_eval(taud), facecolor='green', alpha=0.5)\n",
    "\n",
    "        return lines\n",
    "\n",
    "    return animation.FuncAnimation(fig, animate, td, interval=50, blit=True)"
   ]
  },
  {
   "cell_type": "markdown",
   "metadata": {},
   "source": [
    "# Examples"
   ]
  },
  {
   "cell_type": "code",
   "execution_count": null,
   "metadata": {},
   "outputs": [],
   "source": [
    "class rect(sym.Function):\n",
    "\n",
    "    @classmethod\n",
    "    def eval(cls, arg):\n",
    "        return sym.Heaviside(arg + sym.S.Half) - sym.Heaviside(arg - sym.S.Half)\n",
    "\n",
    "t, tau = sym.symbols('t tau', real=True)"
   ]
  },
  {
   "cell_type": "code",
   "execution_count": null,
   "metadata": {},
   "outputs": [],
   "source": [
    "h = sym.exp(-t) * sym.Heaviside(t)\n",
    "x = rect(t - 1/2)\n",
    "y = sym.integrate(h.subs(t,t-tau) * x.subs(t, tau), (tau, 0, t))  # for causal signals\n",
    "\n",
    "anim = animate_convolution(x, h, y, np.arange(-2, 5, .1), np.arange(-10, 10, 0.01))\n",
    "anim"
   ]
  },
  {
   "cell_type": "code",
   "execution_count": null,
   "metadata": {},
   "outputs": [],
   "source": [
    "h = rect(t/2 - 1/2)\n",
    "x = rect(t - 1/2)\n",
    "y = sym.integrate(h.subs(t,t-tau) * x.subs(t, tau), (tau, 0, t))  # for causal signals\n",
    "\n",
    "anim = animate_convolution(x, h, y, np.arange(-2, 5, .1), np.arange(-10, 10, 0.01))\n",
    "anim"
   ]
  }
 ],
 "metadata": {
  "kernelspec": {
   "display_name": "Python 3",
   "language": "python",
   "name": "python3"
  },
  "language_info": {
   "codemirror_mode": {
    "name": "ipython",
    "version": 3
   },
   "file_extension": ".py",
   "mimetype": "text/x-python",
   "name": "python",
   "nbconvert_exporter": "python",
   "pygments_lexer": "ipython3",
   "version": "3.7.3"
  }
 },
 "nbformat": 4,
 "nbformat_minor": 2
}

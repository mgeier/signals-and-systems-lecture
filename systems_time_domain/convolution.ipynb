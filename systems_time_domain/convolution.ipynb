{
 "cells": [
  {
   "cell_type": "markdown",
   "metadata": {
    "nbsphinx": "hidden"
   },
   "source": [
    "# Characterization of Systems in the Time Domain\n",
    "\n",
    "*This Jupyter notebook is part of a [collection of notebooks](../index.ipynb) in the bachelors module Signals and Systems, Communications Engineering, Universität Rostock. Please direct questions and suggestions to [Sascha.Spors@uni-rostock.de](mailto:Sascha.Spors@uni-rostock.de).*"
   ]
  },
  {
   "cell_type": "markdown",
   "metadata": {},
   "source": [
    "## Convolution\n",
    "\n",
    "As shown in the previous Section, the convolution is an important operation in the theory of signals and systems. It also shows up in a wide range of other physical and mathematical problems. The [convolution operation](https://en.wikipedia.org/wiki/Convolution) is therefore of general interest and well known. The properties of the convolution are reviewed, followed by a widely used graphical interpretation of the operation.\n",
    "\n",
    "The convolution of two signals $x(t)$ and $h(t)$ is defined as\n",
    "\n",
    "\\begin{equation}\n",
    "(x * h)(t) = x(t) * h(t) = \\int_{-\\infty}^{\\infty} x(\\tau) \\cdot h(t - \\tau) \\; d\\tau = \n",
    "\\int_{-\\infty}^{\\infty} x(t - \\tau) \\cdot h(\\tau) \\; d\\tau\n",
    "\\end{equation}\n",
    "\n",
    "where $*$ is a common short-hand notation of the convolution."
   ]
  },
  {
   "cell_type": "markdown",
   "metadata": {},
   "source": [
    "### Properties\n",
    "\n",
    "For the signals $x(t)$, $h(t)$, $g(t) \\in \\mathbb{C}$ the convolution shows the following properties \n",
    "\n",
    "1. The Dirac impulse is the [identity element](https://en.wikipedia.org/wiki/Identity_element) of the convolution\n",
    "    \\begin{equation}\n",
    "    x(t) * \\delta(t) = x(t)\n",
    "    \\end{equation}\n",
    "\n",
    "2. The convolution is [commutative](https://en.wikipedia.org/wiki/Commutative_property)\n",
    "    \\begin{equation}\n",
    "    x(t) * h(t) = h(t) * x(t)\n",
    "    \\end{equation}\n",
    "\n",
    "3. The convolution is [associative](https://en.wikipedia.org/wiki/Associative_property)\n",
    "    \\begin{equation}\n",
    "    \\left[ x(t) * h(t) \\right] * g(t) = x(t) * \\left[ h(t) * g(t) \\right] \n",
    "    \\end{equation}\n",
    "\n",
    "5. The convolution is [distributive](https://en.wikipedia.org/wiki/Distributive_property)\n",
    "    \\begin{equation}\n",
    "    x(t) * \\left[ h(t) + g(t) \\right] = x(t) * h(t) + x(t) * g(t)\n",
    "    \\end{equation}\n",
    "\n",
    "5. Multiplication with a scalar $a \\in \\mathbb{C}$\n",
    "    \\begin{equation}\n",
    "    a \\cdot \\left[ x(t) * h(t) \\right] = \\left[ a \\cdot x(t) \\right] * h(t) = x(t) * \\left[ a \\cdot h(t) \\right]\n",
    "    \\end{equation}\n",
    "\n",
    "6. Derivative of the convolution\n",
    "    \\begin{equation}\n",
    "    \\frac{d}{dt} \\left[ x(t) * h(t) \\right] =  \\frac{d x(t)}{dt} * h(t) = x(t) * \\frac{d h(t)}{dt}\n",
    "    \\end{equation}\n",
    "\n",
    "The first property is a consequence of the sifting property of the Dirac pulse, the second to fifth property can be proven by considering the convolution integral and the sixth property follows from the properties of the derivative of the Dirac delta function."
   ]
  },
  {
   "cell_type": "markdown",
   "metadata": {},
   "source": [
    "### Graphical Interpretation\n",
    "\n",
    "The convolution is commonly [interpreted in a graphical manner](https://en.wikipedia.org/wiki/Convolution#Visual_explanation). This interpretation provides valuable insights into its calculation and allows to derive a first estimate of the result. The calculation of the convolution integral\n",
    "\n",
    "\\begin{equation}\n",
    "y(t) = \\int_{-\\infty}^{\\infty} x(\\tau) \\cdot h(t-\\tau) \\; d\\tau\n",
    "\\end{equation}\n",
    "\n",
    "\n",
    "can be decomposed into four subsequent operations:\n",
    "\n",
    "* 1. substitute $t$ by $\\tau$ in both $x(t)$ and $h(t)$,\n",
    "\n",
    "* 2. time-reverse $h(\\tau)$ (mirroring at vertical axis),\n",
    "\n",
    "* 3. shift $h(-\\tau)$ by $t$ to the right to yield $h(t - \\tau)$,\n",
    "\n",
    "* 4. shift $h(t - \\tau)$ throughout $t = -\\infty \\dots \\infty$, check if it overlaps with $x(\\tau)$ and calculate the convolution integral for the overlapping sections.\n",
    "\n",
    "The graphical interpretation of these operations is illustrated in the remainder by an example. "
   ]
  },
  {
   "cell_type": "markdown",
   "metadata": {},
   "source": [
    "**Example**\n",
    "\n",
    "The convolution $y(t) = x(t) * h(t)$ is graphically illustrated using the particular signals\n",
    "\n",
    "\\begin{align}\n",
    "h(t) &= e^{-t} \\\\\n",
    "x(t) &= \\text{rect} \\left(t - \\frac{1}{2}\\right)\n",
    "\\end{align}\n",
    "\n",
    "Before proceeding, helper functions for the rectangular signal and plotting of the signals are defined"
   ]
  },
  {
   "cell_type": "code",
   "execution_count": null,
   "metadata": {},
   "outputs": [],
   "source": [
    "import sympy as sym\n",
    "%matplotlib inline\n",
    "sym.init_printing()\n",
    "\n",
    "t, tau = sym.symbols('t tau', real=True)"
   ]
  },
  {
   "cell_type": "code",
   "execution_count": null,
   "metadata": {},
   "outputs": [],
   "source": [
    "class rect(sym.Function):\n",
    "\n",
    "    @classmethod\n",
    "    def eval(cls, arg):\n",
    "        return sym.Heaviside(arg + sym.S.Half) - sym.Heaviside(arg - sym.S.Half)"
   ]
  },
  {
   "cell_type": "code",
   "execution_count": null,
   "metadata": {},
   "outputs": [],
   "source": [
    "def plot_signals(x_axis, x, h, ylabel, xlabel):\n",
    "    p1 = sym.plot(x, (x_axis, -5, 5), show=False,\n",
    "                  line_color='b', ylabel=ylabel, xlabel=xlabel)\n",
    "    p2 = sym.plot(h, (x_axis, -5, 5), show=False, line_color='r')\n",
    "    p1.extend(p2)\n",
    "    p1.show()"
   ]
  },
  {
   "cell_type": "markdown",
   "metadata": {},
   "source": [
    "Now lets define and plot the signals. In the following, the impulse response $h(t)$ is illustrated by the red graph and the input signal $x(t)$ by the blue graph."
   ]
  },
  {
   "cell_type": "code",
   "execution_count": null,
   "metadata": {},
   "outputs": [],
   "source": [
    "h = sym.exp(-t) * sym.Heaviside(t)\n",
    "x = rect(t - 1/2)\n",
    "\n",
    "plot_signals(t, x, h, r'$h(t)$, $x(t)$', r'$t$')"
   ]
  },
  {
   "cell_type": "markdown",
   "metadata": {},
   "source": [
    "The **first step** is to substitute $t$ by $\\tau$ to yield $h(\\tau)$ and $x(\\tau)$. Note, the horizontal axis of the plot represents now $\\tau$"
   ]
  },
  {
   "cell_type": "code",
   "execution_count": null,
   "metadata": {},
   "outputs": [],
   "source": [
    "h1 = h.subs(t, tau)\n",
    "x1 = x.subs(t, tau)\n",
    "\n",
    "plot_signals(tau, x1, h1, r'$h(\\tau)$, $x(\\tau)$', r'$\\tau$')"
   ]
  },
  {
   "cell_type": "markdown",
   "metadata": {},
   "source": [
    "The **second step** is to time-reverse $h(\\tau)$ to yield $h(-\\tau)$"
   ]
  },
  {
   "cell_type": "code",
   "execution_count": null,
   "metadata": {},
   "outputs": [],
   "source": [
    "h2 = h.subs(t, -tau)\n",
    "\n",
    "plot_signals(tau, x1, h2, r'$h(-\\tau)$, $x(\\tau)$', r'$\\tau$')"
   ]
  },
  {
   "cell_type": "markdown",
   "metadata": {},
   "source": [
    "In the **third setp** the impulse response $h(-\\tau)$ is shifted by $t$ (to the **right** for $t>0$, to the **left** for $t<0$) to yield $h(t - \\tau)$."
   ]
  },
  {
   "cell_type": "code",
   "execution_count": null,
   "metadata": {},
   "outputs": [],
   "source": [
    "h3 = h.subs(t, t-tau)"
   ]
  },
  {
   "cell_type": "markdown",
   "metadata": {},
   "source": [
    "For the **fourth step** it is often useful to split the calculation of the result according to the overlap between $h(t-\\tau)$ and $x(\\tau)$. For the given particular signals three different cases may be considered\n",
    "\n",
    "1. no overlap for $t<0$,\n",
    "2. partial overlap for $0 \\leq t < 1$, and\n",
    "3. full overlap for $t > 0$."
   ]
  },
  {
   "cell_type": "markdown",
   "metadata": {},
   "source": [
    "The first case, no overlap, is illustrated for $t = -2$"
   ]
  },
  {
   "cell_type": "code",
   "execution_count": null,
   "metadata": {},
   "outputs": [],
   "source": [
    "plot_signals(tau, x1, h3.subs(t, -2), r'$h(t-\\tau)$, $x(\\tau)$', r'$\\tau$')"
   ]
  },
  {
   "cell_type": "markdown",
   "metadata": {},
   "source": [
    "Form this it becomes clear that the result for the first case is given as\n",
    "\n",
    "\\begin{equation}\n",
    "y(t) = 0 \\qquad \\text{for } t < 0\n",
    "\\end{equation}\n",
    "\n",
    "The second case, partial overlap, is illustrated for $t = \\frac{1}{2}$"
   ]
  },
  {
   "cell_type": "code",
   "execution_count": null,
   "metadata": {},
   "outputs": [],
   "source": [
    "plot_signals(tau, x1, h3.subs(t, .5), r'$h(t-\\tau)$, $x(\\tau)$', r'$\\tau$')"
   ]
  },
  {
   "cell_type": "markdown",
   "metadata": {},
   "source": [
    "Hence, for the second case the convolution integral degenerates to\n",
    "\n",
    "\\begin{equation}\n",
    "y(t) = \\int_{0}^{t} e^{-(t - \\tau)} d\\tau = 1 - e^{-t} \\qquad \\text{for } 0 < t < 1\n",
    "\\end{equation}\n",
    "\n",
    "The third case, full overlap, is illustrated for $t = 3$"
   ]
  },
  {
   "cell_type": "code",
   "execution_count": null,
   "metadata": {},
   "outputs": [],
   "source": [
    "plot_signals(tau, x1, h3.subs(t, 3), r'$h(t-\\tau)$, $x(\\tau)$', r'$\\tau$')"
   ]
  },
  {
   "cell_type": "markdown",
   "metadata": {},
   "source": [
    "For the third case the convolution integral degenerates to\n",
    "\n",
    "\\begin{equation}\n",
    "y(t) = \\int_{0}^{1} e^{-(t - \\tau)} d\\tau = (e - 1) e^{-t} \\qquad \\text{for } t > 1\n",
    "\\end{equation}"
   ]
  },
  {
   "cell_type": "markdown",
   "metadata": {},
   "source": [
    "The overall result is composed from the three individual results. \n",
    "\n",
    "As alternative and in order to plot the result, the convolution integral is evaluated in `SymPy`"
   ]
  },
  {
   "cell_type": "code",
   "execution_count": null,
   "metadata": {},
   "outputs": [],
   "source": [
    "y = sym.integrate(h.subs(t,t-tau) * x.subs(t, tau), (tau, 0, t))\n",
    "sym.plot(y, (t,0,6), ylabel=r'$y(t)$');"
   ]
  },
  {
   "cell_type": "markdown",
   "metadata": {},
   "source": [
    "### Alternative Graphical Representation\n",
    "\n",
    "The **order** of mirroring and time shifting of $h(\\tau)$ can be **exchanged**. The algorithm is then performed with the following four steps:\n",
    "\n",
    "* 1. Substitute $t$ by $\\tau$ in both $x(t)$ and $h(t)$, yielding $x(\\tau)$ and $h(\\tau)$ over $\\tau$, i.e. signals are the same only defined over time variable $\\tau$.\n",
    "\n",
    "* 2. Shift $h(\\tau)$ by $t$ to yield $h(\\tau-t)$, **delayed** for $t>0$, **leading** for $t<0$ as discussed in the continuous signal operations notebook.\n",
    "\n",
    "* 3. Create $h(-(\\tau-t)) = h(t-\\tau)$, which is mirroring the signal along vertical axis at the value $t$.\n",
    "\n",
    "* 4. Calculate the convolution integral for all overlapping sections of $x(\\tau)$ and $h(t-\\tau)$. This yields the specific convolution result at specified $t$.\n",
    "\n",
    "Perform 1st to 4th step for all $t$ - at least for all $t$ where overlapping occurs in the 4th step - to obtain the full convolution result.\n",
    "\n",
    "The graphical interpretation of these operations is illustrated in the remainder by the same example as above.\n",
    "\n",
    "In the following, the impulse response $h(t)$ is illustrated by the red graph and the input signal $x(t)$ by the blue graph."
   ]
  },
  {
   "cell_type": "code",
   "execution_count": null,
   "metadata": {},
   "outputs": [],
   "source": [
    "h = sym.exp(-t) * sym.Heaviside(t)\n",
    "x = rect(t-1/2)\n",
    "\n",
    "plot_signals(t, x, h, r'$h(t)$, $x(t)$', r'$t$')"
   ]
  },
  {
   "cell_type": "markdown",
   "metadata": {},
   "source": [
    "The **first step** (identical to the approach above) is to substitute $t$ by $\\tau$ to yield $h(\\tau)$ and $x(\\tau)$. Note, the horizontal axis of the plot represents now $\\tau$."
   ]
  },
  {
   "cell_type": "code",
   "execution_count": null,
   "metadata": {},
   "outputs": [],
   "source": [
    "h1 = h.subs(t, tau)\n",
    "x1 = x.subs(t, tau)\n",
    "\n",
    "plot_signals(tau, x1, h1, r'$h(\\tau)$, $x(\\tau)$', r'$\\tau$')"
   ]
  },
  {
   "cell_type": "markdown",
   "metadata": {},
   "source": [
    "The **second step** is to shift $h(\\tau)$ to yield $h(\\tau-t)$, for the example $t=-2$ is chosen, thus $h(\\tau-t)$ is now **leading** compared to $h(\\tau)$."
   ]
  },
  {
   "cell_type": "code",
   "execution_count": null,
   "metadata": {},
   "outputs": [],
   "source": [
    "h2 = h1.subs(tau, tau-t)\n",
    "\n",
    "plot_signals(tau, x1, h2.subs(t,-2), r'$h(\\tau-t)$, $x(\\tau)$', r'$\\tau$')"
   ]
  },
  {
   "cell_type": "markdown",
   "metadata": {},
   "source": [
    "In the **third** step we create $h(-(\\tau-t)) = h(t-\\tau)$, which is mirroring the signal $h(\\tau-t)$ along vertical axis at the value $t$."
   ]
  },
  {
   "cell_type": "code",
   "execution_count": null,
   "metadata": {},
   "outputs": [],
   "source": [
    "h3 = h1.subs(tau, -(tau-t))\n",
    "\n",
    "plot_signals(tau, x1, h3.subs(t,-2), r'$h(t-\\tau)$, $x(\\tau)$', r'$\\tau$')"
   ]
  },
  {
   "cell_type": "markdown",
   "metadata": {},
   "source": [
    "In the **fourth step** the convolution integral is evaluated. In the example for $t=1$ the largest overlap area yields the convolution result $y(t=1) = 1-\\mathrm{e}^{-1} \\approx 0.63$, which is the maximum of $y(t)$."
   ]
  },
  {
   "cell_type": "code",
   "execution_count": null,
   "metadata": {},
   "outputs": [],
   "source": [
    "# full overlap with largest area at t=1\n",
    "plot_signals(tau, x1, h3.subs(t,1), r'$h(t-\\tau)$, $x(\\tau)$', r'$\\tau$')"
   ]
  },
  {
   "cell_type": "markdown",
   "metadata": {},
   "source": [
    "Repeat steps one to four for all $t$ to obtain $y(t)$, $y(t)$ is zero for all $t$ where no overlap occurs.\n",
    "You might realize that only the 4th step must be repeatedly evaluated inserting a specific $t$. "
   ]
  },
  {
   "cell_type": "markdown",
   "metadata": {
    "nbsphinx": "hidden"
   },
   "source": [
    "**Copyright**\n",
    "\n",
    "The notebooks are provided as [Open Educational Resource](https://de.wikipedia.org/wiki/Open_Educational_Resources). Feel free to use the notebooks for your own educational purposes. The text is licensed under [Creative Commons Attribution 4.0](https://creativecommons.org/licenses/by/4.0/), the code of the IPython examples under the [MIT license](https://opensource.org/licenses/MIT). Please attribute the work as follows: *Lecture Notes on Signals and Systems* by Sascha Spors."
   ]
  }
 ],
 "metadata": {
  "kernelspec": {
   "display_name": "Python 3",
   "language": "python",
   "name": "python3"
  },
  "language_info": {
   "codemirror_mode": {
    "name": "ipython",
    "version": 3
   },
   "file_extension": ".py",
   "mimetype": "text/x-python",
   "name": "python",
   "nbconvert_exporter": "python",
   "pygments_lexer": "ipython3",
   "version": "3.7.2"
  }
 },
 "nbformat": 4,
 "nbformat_minor": 1
}

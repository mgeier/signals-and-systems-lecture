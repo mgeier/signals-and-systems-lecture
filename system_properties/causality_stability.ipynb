{
 "cells": [
  {
   "cell_type": "markdown",
   "metadata": {
    "nbsphinx": "hidden"
   },
   "source": [
    "# System Properties\n",
    "\n",
    "*This Jupyter notebook is part of a [collection of notebooks](../index.ipynb) in the bachelors module Signals and Systems, Communications Engineering, Universität Rostock. Please direct questions and suggestions to [Sascha.Spors@uni-rostock.de](mailto:Sascha.Spors@uni-rostock.de).*"
   ]
  },
  {
   "cell_type": "markdown",
   "metadata": {},
   "source": [
    "## Causality\n",
    "\n",
    "The [principle of causality](https://en.wikipedia.org/wiki/Causality) states that an effect has to follow its cause temporally. Theoretical systems may violate this fundamental principle which limits their practical applicability. Causality is hence an important aspect for the practical realization of systems. Conditions for the impulse response of a linear time-invariant (LTI) causal system as well as for its transfer function are derived in this section."
   ]
  },
  {
   "cell_type": "markdown",
   "metadata": {},
   "source": [
    "### Condition for the Impulse Response\n",
    "\n",
    "The output signal $y(t) = \\mathcal{H} \\{ x(t) \\}$ of an LTI system is given by convolving the input signal $x(t)$ with its impulse response $h(t)$\n",
    "\n",
    "\\begin{equation}\n",
    "y(t) = \\int_{-\\infty}^{\\infty} x(\\tau) \\cdot h(t-\\tau) \\; d\\tau = \\int_{-\\infty}^{\\infty} x(t - \\tau) \\cdot h(\\tau) \\; d\\tau\n",
    "\\end{equation}\n",
    "\n",
    "Analyzing the first integral reveals that the computation of the output signal $y(t)$ for some time instant $t=t_0$ requires knowledge of the input signal for all time instants. This includes also future time instants $t > t_0$. While this does not pose a problem for signals and impulse responses given in closed-form, this is not feasible in practice. Without imposing further restrictions, this would require the knowledge of the input signal for all future time instances.\n",
    "\n",
    "Causality is not violated if we modify the integration limits of the convolution integral\n",
    "\n",
    "\\begin{equation}\n",
    "y(t) = \\int_{-\\infty}^{t} x(\\tau) \\cdot h(t-\\tau) \\; d\\tau = \\int_{0}^{\\infty} x(t - \\tau) \\cdot h(\\tau) \\; d\\tau\n",
    "\\end{equation}\n",
    "\n",
    "Now the output signal $y(t)$ for a given time instant $t=t_0$ depends only on the input signal $x(t)$ for $t \\leq t_0$. Comparing the second equality with the second equality of the original convolution integral yields that the modified integration limits are equal to the assumption that  $h(t) = 0$ for $t < 0$.\n",
    "\n",
    "A system is termed *causal system* [iff](https://en.wikipedia.org/wiki/If_and_only_if) its impulse response $h(t)$ is a causal signal\n",
    "\n",
    "\\begin{equation}\n",
    "h(t) = 0 \\qquad \\text{for } t < 0\n",
    "\\end{equation}\n",
    "\n",
    "Only causal systems can be realized practically due to above reasoning."
   ]
  },
  {
   "cell_type": "markdown",
   "metadata": {},
   "source": [
    "### Condition for the Transfer Function\n",
    "\n",
    "The transfer function $H(j \\omega) = \\mathcal{F} \\{ h(t) \\}$ of a causal system shows specific symmetries. A causal impulse response $h(t)$ has to fulfill the following relation\n",
    "\n",
    "\\begin{equation}\n",
    "h(t) = h(t) \\cdot \\epsilon(t)\n",
    "\\end{equation}\n",
    "\n",
    "Fourier transformation of the left- and right-hand side yields\n",
    "\n",
    "\\begin{equation}\n",
    "H(j \\omega) = \\frac{1}{\\pi} H(j \\omega) * \\frac{1}{j \\omega}\n",
    "\\end{equation}\n",
    "\n",
    "by application of the [multiplication theorem](../fourier_transform/theorems.ipynb#Multiplication-Theorem) in conjunction with the [Fourier transform of the Heaviside signal](../fourier_transform/theorems.ipynb#Transformation-of-the-Heaviside-signal). Decomposing this result into the real and imaginary part of $H(j \\omega)$ derives the following symmetry relations for a causal system\n",
    "\n",
    "\\begin{align}\n",
    "\\Re \\{ H(j \\omega) \\} &= \\frac{1}{\\pi} \\Im \\{ H(j \\omega) \\} * \\frac{1}{\\omega} \\\\\n",
    "\\Im \\{ H(j \\omega) \\} &= - \\frac{1}{\\pi} \\Re \\{ H(j \\omega) \\} * \\frac{1}{\\omega}\n",
    "\\end{align}\n",
    "\n",
    "The convolution of a spectrum with $\\frac{1}{\\omega}$ is known as [Hilbert transform](https://en.wikipedia.org/wiki/Hilbert_transform). Above result states that the real and imaginary part of the spectrum $H(j \\omega)$ of a causal system are related by the Hilbert transform. The Hilbert transform is used for instance in the theory of [single-sideband modulation](https://en.wikipedia.org/wiki/Single-sideband_modulation) in order to express the [analytic signal](https://en.wikipedia.org/wiki/Analytic_signal)."
   ]
  },
  {
   "cell_type": "markdown",
   "metadata": {},
   "source": [
    "## Stability\n",
    "\n",
    "The stability of a system can be evaluated with respect to different criteria. The most common ones are [Lyapunov stability](https://en.wikipedia.org/wiki/Lyapunov_stability) and [bounded-input bounded-output stability](https://en.wikipedia.org/wiki/BIBO_stability). The latter is introduced in the following."
   ]
  },
  {
   "cell_type": "markdown",
   "metadata": {},
   "source": [
    "### Bounded-Input Bounded-Output Stability\n",
    "\n",
    "With respect to the bounded-input bounded-output (BIBO) principle, an LTI system is termed stable if its output signal $y(t) = \\mathcal{H} \\{ x(t) \\}$ is bounded for a bounded input signal $x(t)$. A signal is bounded if its magnitude does not exceed a given finite value. For the in- and output this condition is formulated as\n",
    "\n",
    "\\begin{align}\n",
    "|x(t)| &< B_x \\\\\n",
    "|y(t)| &< B_y\n",
    "\\end{align}\n",
    "\n",
    "where $B_x, B_y < \\infty$ denote constant finite bounds. The BIBO criterion is illustrated in the following\n",
    "\n",
    "![Criterion for Bounded-Input Bounded-Output stability](BIBO_stability.png)"
   ]
  },
  {
   "cell_type": "markdown",
   "metadata": {
    "collapsed": true
   },
   "source": [
    "#### Condition for the Impulse Response\n",
    "\n",
    "In order to derive a condition for the impulse response $h(t)$ of an LTI system that conforms to the BIBO criterion, the magnitude of the output signal $y(t)$ is expressed by convolving the input signal $x(t)$ with the impulse response\n",
    "\n",
    "\\begin{equation}\n",
    "|y(t)| = \\left| \\int_{-\\infty}^{\\infty} x(\\tau) \\cdot h(t-\\tau) \\; d\\tau \\right|\n",
    "\\end{equation}\n",
    "\n",
    "An upper bound for the magnitude of the output signal is found by applying the [triangle inequality](https://en.wikipedia.org/wiki/Triangle_inequality) together with the upper bound for $|x(t)|$\n",
    "\n",
    "\\begin{equation}\n",
    "|y(t)| \\leq \\int_{-\\infty}^{\\infty} |x(\\tau)| \\cdot |h(t-\\tau)| \\; d\\tau < \\int_{-\\infty}^{\\infty} B_x \\cdot |h(t-\\tau)| \\; d\\tau\n",
    "\\end{equation}\n",
    "\n",
    "Since the output signal $|y(t)|$ shall be bounded, it can be concluded that the impulse response needs to be an [absolutely integrable function](https://en.wikipedia.org/wiki/Absolutely_integrable_function)\n",
    "\n",
    "\\begin{equation}\n",
    "\\int_{-\\infty}^{\\infty} |h(t)| \\; dt < B_h\n",
    "\\end{equation}\n",
    "\n",
    "where $B_h < \\infty$ denotes a constant finite bound.\n",
    "\n",
    "An LTI system is stable in the sense of the BIBO stability criterion iff its impulse response is absolutely integrable. Since absolute integrability of a signal is sufficient for the [existence of its Fourier transform](../fourier_transform/definition.ipynb#Definition), this implies that the transfer function $H(j \\omega) = \\mathcal{F} \\{ h(t) \\}$ exists for stable systems."
   ]
  },
  {
   "cell_type": "markdown",
   "metadata": {},
   "source": [
    "#### Conditions for Rational Transfer Functions\n",
    "\n",
    "For a rational transfer function $H(s) = \\mathcal{L} \\{ h(t) \\}$, the BIBO stability of an LTI system implies constraints on the locations of its poles. These are derived in the following.\n",
    "\n",
    "The inverse Laplace transform of a right-sided signal can be computed in closed form [using the partial fraction decomposition](../laplace_transform/inverse.ipynb#Basic-Procedure) of its Laplace transform. Applying this to the transfer function $H(s)$, the impulse response $h(t) = \\mathcal{L}^{-1} \\{ H(s) \\}$ is given as\n",
    "\n",
    "\\begin{equation}\n",
    "h(t) = A_0 \\cdot \\delta(t) + \\epsilon(t) \\sum_{\\mu = 1}^{L} e^{s_{\\infty \\mu} t} \\sum_{\\nu = 1}^{R_\\mu} \\frac{A_{\\mu \\nu} \\, t^{\\mu - 1}}{(\\nu -1)!}\n",
    "\\end{equation}\n",
    "\n",
    "where $s_{\\infty \\mu}$ denotes the $\\mu$-th unique pole of $H(s)$, $R_\\mu$ its degree, $L$ the total number of different poles $\\mu = 1 \\dots L$, and $A_0$ and $A_{\\mu \\nu}$ the coefficients of the partial fraction decomposition. Above formula for the inverse Laplace transform holds if the order $M$ of the numerator is smaller or equal to the order $N$ of the denominator. In this case one has to check under which conditions the impulse response $h(t)$ is absolutely integrable. The first term $A_0 \\delta(t)$ does not pose a problem for $A_0 < \\infty$. Under the assumption $A_{\\mu \\nu} < \\infty$, the absolute integrability of the second term is checked by evaluating\n",
    "\n",
    "\\begin{equation}\n",
    "\\int_{-\\infty}^{\\infty} |\\epsilon(t) t^{\\mu - 1} e^{s_{\\infty \\mu} t}| \\; dt = \\int_0^{\\infty} t^{\\mu - 1} e^{\\sigma_{\\infty \\mu} t} \\; dt\n",
    "\\end{equation}\n",
    "\n",
    "where $s_{\\infty \\mu} = \\sigma_{\\infty \\mu} + j \\omega_{\\infty \\mu}$. Above integral is absolutely integrable if $\\sigma_{\\infty \\mu} < 0$. \n",
    "\n",
    "If $M > N$, the system is not stable in the BIBO sense. This statement can be proven by a counterexample. If $M > N$, a polynominal in $s$ with positive powers can be split off from the transfer function $H(s)$ by polynominal division. Lets consider one of these terms, for instance $H(s) = s$. It follows by application of the derivation theorem that $h(t) = \\frac{d}{dt} \\delta(t)$. For the bounded input signal $x(t) = \\cos(\\omega_0 t \\cdot t)$, the output signal $y(t) = \\cos(\\omega_0 t \\cdot t) * \\frac{d}{dt} \\delta(t) = \\frac{d}{dt} \\cos(\\omega_0 t \\cdot t) = - 2 \\omega_0 t \\sin(\\omega_0 t \\cdot t)$ is not bounded for $t \\to \\infty$. The same argumentation holds for positive powers of $s$ by repeated application of the derivation theorem.\n",
    "\n",
    "Combining the results it can be concluded that a system with rational transfer function $H(s)$ and right-sided impulse response $h(t)$ is stable with respect to the BIBO criterion if\n",
    "\n",
    "1. the order $M$ of its numerator is smaller or equal to the order $N$ of its numerator and \n",
    "1. all poles are located in the left $s$-half-plane\n",
    "    \\begin{equation}\n",
    "    \\Re \\{ s_{\\infty \\mu} \\} < 0 \\qquad \\forall \\mu\n",
    "    \\end{equation}\n",
    "\n",
    "The locations of the zeros of the transfer function have no influence on the stability of a system.\n",
    "\n",
    "In order to investigate the stability of a given system, the poles of its rational transfer function $H(s)$ have to be determined. This can be performed by computing the roots of the denominator polynomial. However, in order to avoid the computationally complex computation of roots, several stability tests have been developed. These determine the stability of a system from the coefficients of the denominator polynomial. An example of such a test is the [Routh–Hurwitz stability criterion](https://en.wikipedia.org/wiki/Routh%E2%80%93Hurwitz_stability_criterion)."
   ]
  },
  {
   "cell_type": "markdown",
   "metadata": {},
   "source": [
    "**Example**\n",
    "\n",
    "The impulse response $h(t) = \\mathcal{L}^{-1} \\{ H(s) \\}$ of a 2nd-order system with transfer function\n",
    "\n",
    "\\begin{equation}\n",
    "H(s) = \\frac{1}{(s-s_\\infty)(s-s^*_\\infty)}\n",
    "\\end{equation}\n",
    "\n",
    "is computed. First the case of a stable system is considered by assuming $\\Re \\{ s_\\infty \\} < 0$ with $s_\\infty = -1 + j$. The impulse response $h(t)$ is computed by inverse Laplace transform of the transfer function"
   ]
  },
  {
   "cell_type": "code",
   "execution_count": null,
   "metadata": {},
   "outputs": [],
   "source": [
    "%matplotlib inline\n",
    "import sympy as sym\n",
    "sym.init_printing()\n",
    "\n",
    "s = sym.symbols('s', complex=True)\n",
    "t = sym.symbols('t', real=True)\n",
    "s_inf = -1 + sym.I\n",
    "\n",
    "H = 1/((s - s_inf)*(s - sym.conjugate(s_inf)))\n",
    "h = sym.inverse_laplace_transform(H, s, t)\n",
    "h"
   ]
  },
  {
   "cell_type": "markdown",
   "metadata": {},
   "source": [
    "The impulse response is plotted for illustration"
   ]
  },
  {
   "cell_type": "code",
   "execution_count": null,
   "metadata": {},
   "outputs": [],
   "source": [
    "sym.plot(h, (t, 0, 10), xlabel='$t$', ylabel='$h(t)$');"
   ]
  },
  {
   "cell_type": "markdown",
   "metadata": {},
   "source": [
    "It can be observed that the amplitude of the impulse response decays exponentially with increasing time $t$. The absolute integrability of the impulse response is confirmed by noting that\n",
    "\n",
    "\\begin{equation}\n",
    "\\int_{-\\infty}^{\\infty} | \\epsilon(t) e^{-t} \\sin(t) | \\; dt = \\int_{0}^{\\infty} | e^{-t} \\sin(t) | \\; dt < \\int_{0}^{\\infty} | e^{-t} | \\; dt = 1\n",
    "\\end{equation}"
   ]
  },
  {
   "cell_type": "markdown",
   "metadata": {},
   "source": [
    "Now the impulse response of an instable system is computed by assuming $\\Re \\{ s_\\infty \\} > 0$ with $s_\\infty = 1 + j$"
   ]
  },
  {
   "cell_type": "code",
   "execution_count": null,
   "metadata": {},
   "outputs": [],
   "source": [
    "s_inf = 1 + sym.I\n",
    "\n",
    "H = 1/((s - s_inf)*(s - sym.conjugate(s_inf)))\n",
    "h = sym.inverse_laplace_transform(H, s, t)\n",
    "h"
   ]
  },
  {
   "cell_type": "markdown",
   "metadata": {},
   "source": [
    "Again the impulse response is plotted for illustration"
   ]
  },
  {
   "cell_type": "code",
   "execution_count": null,
   "metadata": {},
   "outputs": [],
   "source": [
    "sym.plot(h, (t, 0, 10), xlabel='$t$', ylabel='$h(t)$');"
   ]
  },
  {
   "cell_type": "markdown",
   "metadata": {},
   "source": [
    "The impulse response shows exponentially increasing negative values for increasing time. The impulse response is clearly not absolutely integrable and hence the system not stable in the BIBO sense."
   ]
  },
  {
   "cell_type": "markdown",
   "metadata": {},
   "source": [
    "## Realizability\n",
    "\n",
    "A system is said the be realizable if it is a causal and stable system. Realizability is a prerequisite for the practical implementation of systems. Causality implies that the impulse response $h(t)$ of the system has to be a causal signal. Hence the region of convergence (ROC) of its transfer function $H(s) = \\mathcal{L} \\{ h(t) \\}$ is the half-plane located right of all poles. Stability and causality of a system with rational transfer function $H(s)$ implies that its poles are located in the left $s$-half-plane.\n",
    "\n",
    "Summarizing, a system with rational transfer function $H(s)$ is realizable iff all poles of $H(s)$ are located in the left $s$-half-plane not including the imaginary axis and the order of the numerator is lower or equal to the order of the denominator. The ROC is given by a right-sided $s$-half-plane including the imaginary axis. The locations of the zeros of the transfer function have no influence on the realizability of systems."
   ]
  },
  {
   "cell_type": "markdown",
   "metadata": {
    "nbsphinx": "hidden"
   },
   "source": [
    "**Copyright**\n",
    "\n",
    "The notebooks are provided as [Open Educational Resource](https://de.wikipedia.org/wiki/Open_Educational_Resources). Feel free to use the notebooks for your own educational purposes. The text is licensed under [Creative Commons Attribution 4.0](https://creativecommons.org/licenses/by/4.0/), the code of the IPython examples under the [MIT license](https://opensource.org/licenses/MIT). Please attribute the work as follows: *Lecture Notes on Signals and Systems* by Sascha Spors."
   ]
  }
 ],
 "metadata": {
  "kernelspec": {
   "display_name": "Python 3",
   "language": "python",
   "name": "python3"
  },
  "language_info": {
   "codemirror_mode": {
    "name": "ipython",
    "version": 3
   },
   "file_extension": ".py",
   "mimetype": "text/x-python",
   "name": "python",
   "nbconvert_exporter": "python",
   "pygments_lexer": "ipython3",
   "version": "3.6.4"
  }
 },
 "nbformat": 4,
 "nbformat_minor": 1
}

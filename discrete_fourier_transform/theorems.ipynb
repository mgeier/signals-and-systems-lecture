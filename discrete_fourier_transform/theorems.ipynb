{
 "cells": [
  {
   "cell_type": "markdown",
   "metadata": {
    "nbsphinx": "hidden"
   },
   "source": [
    "# The Discrete Fourier Transform\n",
    "\n",
    "*This Jupyter notebook is part of a [collection of notebooks](../index.ipynb) in the bachelors module Signals and Systems, Comunications Engineering, Universität Rostock. Please direct questions and suggestions to [Sascha.Spors@uni-rostock.de](mailto:Sascha.Spors@uni-rostock.de).*"
   ]
  },
  {
   "cell_type": "markdown",
   "metadata": {},
   "source": [
    "## Theorems\n",
    "\n",
    "The theorems of the discrete Fourier transform (DFT) relate basic operations applied to discrete signals to their equivalents in the spectral domain. They are of use to transform signals composed from modified [standard signals](../discrete_signals/standard_signals.ipynb), for the computation of the response of a linear time-invariant (LTI) system and to predict the consequences of modifying a signal or system by certain operations."
   ]
  },
  {
   "cell_type": "markdown",
   "metadata": {},
   "source": [
    "### Convolution Theorem\n",
    "\n",
    "The DFT $X[\\mu] = \\text{DFT}_N \\{ x[k] \\}$ and its inverse $x[k] = \\text{IDFT}_N \\{ X[\\mu] \\}$ are both periodic with period $N$. The linear convolution of two periodic signals is not defined. The periodic convolution introduced in the following is used instead for the convolution theorem of the DFT."
   ]
  },
  {
   "cell_type": "markdown",
   "metadata": {},
   "source": [
    "#### Periodic Convolution\n",
    "\n",
    "The [periodic (or circular/cyclic) convolution](https://en.wikipedia.org/wiki/Circular_convolution) of two aperiodic signals $h[k]$ and $g[k]$ is defined as\n",
    "\n",
    "\\begin{equation}\n",
    "h[k] \\circledast_N g[k] = \\sum_{\\kappa = -\\infty}^{\\infty} h[\\kappa] \\cdot \\tilde{g}[k-\\kappa]\n",
    "\\end{equation}\n",
    "\n",
    "where $\\tilde{g}[k]$ denotes the periodic summation of $g[k]$ with period $N$\n",
    "\n",
    "\\begin{equation}\n",
    "\\tilde{g}[k] = \\sum_{\\nu = -\\infty}^{\\infty} g[k - \\nu N]\n",
    "\\end{equation}\n",
    "\n",
    "The result of the periodic convolution is periodic with period N. If the signal $h[k]$ is causal and of finite length $N$, the infinite summation of the convolution degenerates to\n",
    "\n",
    "\\begin{equation}\n",
    "h[k] \\circledast_N g[k] = \\sum_{\\kappa = 0}^{N-1} h[\\kappa] \\cdot \\tilde{g}[k-\\kappa]\n",
    "\\end{equation}\n",
    "\n",
    "The same relation holds if $h[k]$ is periodic with period $N$."
   ]
  },
  {
   "cell_type": "markdown",
   "metadata": {},
   "source": [
    "**Example**\n",
    "\n",
    "The periodic convolution of two finite-length signals $h[k]$ and $g[k]$ can be expressed as matrix/vector multiplication $\\mathbf{y} = \\mathbf{H} \\, \\mathbf{g}$ where the matrix $ \\mathbf{H}$ is given as the [circulant matrix](https://en.wikipedia.org/wiki/Circulant_matrix) containing the samples of the signal $h[k]$ in its first column and the vector $\\mathbf{g}$ contains the samples of the signal $g[k]$. The resulting vector $\\mathbf{y}$ is composed from the samples $y[k] = h[k] \\circledast_N g[k]$ for one period $k=0,1,\\dots, N-1$ of the periodic convolution. \n",
    "\n",
    "This is illustrated by the numerical evaluation of the periodic convolution $y[k] = \\text{rect}_M[k] \\circledast_N \\text{rect}_M[k]$ of the rectangular signal by itself. "
   ]
  },
  {
   "cell_type": "code",
   "execution_count": null,
   "metadata": {},
   "outputs": [],
   "source": [
    "%matplotlib inline\n",
    "import numpy as np\n",
    "from scipy.linalg import circulant\n",
    "import matplotlib.pyplot as plt\n",
    "\n",
    "def rect(k, N):\n",
    "    return np.where((0 <= k) & (k < N), 1.0, 0.0)\n",
    "\n",
    "\n",
    "N = 16\n",
    "M = 6\n",
    "\n",
    "k = np.arange(N)\n",
    "g = rect(k, M)\n",
    "H = circulant(g)\n",
    "y = np.matmul(H, g)\n",
    "\n",
    "plt.figure(figsize=(8,4))\n",
    "\n",
    "plt.subplot(1,2,1)\n",
    "plt.stem(g)\n",
    "plt.xlabel('$k$')\n",
    "plt.ylabel('$\\mathrm{rect}_M[k]$')\n",
    "plt.gca().margins(y=0.1)\n",
    "\n",
    "plt.subplot(1,2,2)\n",
    "plt.stem(y)\n",
    "plt.xlabel('$k$')\n",
    "plt.ylabel('$y[k]$');\n",
    "plt.gca().margins(y=0.1)"
   ]
  },
  {
   "cell_type": "markdown",
   "metadata": {},
   "source": [
    "**Exercise**\n",
    "\n",
    "* Change the length $M$ of the rectangular signal. How does the result of the periodic convolution change?\n",
    "* Compare the result of the periodic convolution with the result of the linear convolution. For which values of $M$ is the result the same?"
   ]
  },
  {
   "cell_type": "markdown",
   "metadata": {},
   "source": [
    "#### Convolution Theorem\n",
    "\n",
    "The convolution theorem states that the DFT of the periodic convolution of two discrete signals $x[k]$ and $y[k]$ is equal to the scalar multiplication of their DFTs $X[\\mu] = \\text{DFT}_N \\{ x[k] \\}$ and $Y[\\mu] = \\text{DFT}_N \\{ y[k] \\}$\n",
    "\n",
    "\\begin{equation}\n",
    "\\text{DFT}_N \\{ x[k] \\circledast_N y[k] \\} = X[\\mu] \\cdot Y[\\mu]\n",
    "\\end{equation}\n",
    "\n",
    "for $k, \\mu =0,1, \\dots, N-1$.\n",
    "\n",
    "The theorem can be proven by introducing the definition of the periodic convolution into the [definition of the DFT](definition.ipynb) and changing the order of summation\n",
    "\n",
    "\\begin{align}\n",
    "\\text{DFT} \\{ x[k] \\circledast_N y[k] \\} &= \\sum_{k = 0}^{N-1} \\left( \\sum_{\\kappa = 0}^{N-1} x[\\kappa] \\cdot \\tilde{y}[k - \\kappa] \\right) w_N^{\\mu k}  \\\\\n",
    "&= \\sum_{\\kappa = 0}^{N-1} \\left( \\sum_{k = 0}^{N-1} \\tilde{y}[k - \\kappa] \\, w_N^{\\mu k} \\right) x[\\kappa] \\\\\n",
    "&= Y[\\mu] \\cdot \\sum_{\\kappa = 0}^{N-1} x[\\kappa] \\, w_N^{\\mu \\kappa} \\\\\n",
    "&= Y[\\mu] \\cdot X[\\mu]\n",
    "\\end{align}\n",
    "\n",
    "It can be concluded from the convolution theorem that a scalar multiplication of the two spectra results in a circular convolution of the corresponding signals. For a linear time-invariant (LTI) system, the output signal is given as the linear convolution of the input signal $x[k]$ with the impulse response $h[k] = \\mathcal{H} \\{ \\delta[k] \\}$. The convolution theorem cannot be applied straightforward for the computation of the output signal of an LTI system. The [fast convolution technique](fast_convolution.ipynb) introduced later provides an efficient algorithm for the linear convolution of two signals using the convolution theorem."
   ]
  },
  {
   "cell_type": "markdown",
   "metadata": {},
   "source": [
    "### Shift Theorem\n",
    "\n",
    "Since the convolution theorem of the DFT is given in terms of the periodic convolution, the shift theorem of the DFT is given in terms of the periodic shift. The [periodic (circular) shift](https://en.wikipedia.org/wiki/Circular_shift) of a causal signal $x[k]$ of finite length $N$ can be expressed by a periodic convolution with a shifted Dirac impulse\n",
    "\n",
    "\\begin{equation}\n",
    "x[k - \\kappa] = x[k] \\circledast_N \\delta[k - \\kappa]\n",
    "\\end{equation}\n",
    "\n",
    "for $\\kappa \\in 0,1,\\dots, N-1$. This follows from the definition of the periodic convolution in combination with the sifting property of the Dirac impulse. Applying the DFT to the left- and right-hand side and exploiting the convolution theorem yields\n",
    "\n",
    "\\begin{equation}\n",
    "\\text{DFT}_N \\{ x[k - \\kappa] \\} = X[\\mu] \\cdot e^{-j \\mu \\frac{2 \\pi}{N} \\kappa}\n",
    "\\end{equation}\n",
    "\n",
    "where $X[\\mu] = \\text{DFT}_N \\{ x[k] \\}$. Above relation is known as shift theorem of the DFT.\n",
    "\n",
    "Expressing the DFT $X[\\mu] = |X[\\mu]| \\cdot e^{j \\varphi[\\mu]}$ by its absolute value $|X[\\mu]|$ and phase $\\varphi[\\mu]$ results in\n",
    "\n",
    "\\begin{equation}\n",
    "\\text{DFT}_N \\{ x[k - \\kappa] \\} = |X[\\mu]| \\cdot e^{j (\\varphi[\\mu] - \\mu \\frac{2 \\pi}{N} \\kappa)}\n",
    "\\end{equation}\n",
    "\n",
    "The periodic shift of a signal does not change the absolute value of its spectrum but subtracts the linear contribution $\\mu \\frac{2 \\pi}{N} \\kappa$ from its phase."
   ]
  },
  {
   "cell_type": "markdown",
   "metadata": {},
   "source": [
    "**Example**\n",
    "\n",
    "A cosine signal $x[k] = \\cos(\\Omega_0 k)$ is shifted in the spectral domain by multiplying its spectrum $X[\\mu] = \\text{DFT}_N \\{ x[k] \\}$ with $e^{-j \\mu \\frac{2 \\pi}{N} \\kappa}$ followed by an IDFT."
   ]
  },
  {
   "cell_type": "code",
   "execution_count": null,
   "metadata": {},
   "outputs": [],
   "source": [
    "from scipy.linalg import dft\n",
    "\n",
    "N = 16\n",
    "M = 1\n",
    "kappa = 2\n",
    "\n",
    "W0 = M * 2*np.pi/N\n",
    "k = np.arange(N)\n",
    "x = np.cos(W0 * k)\n",
    "\n",
    "F = dft(N)\n",
    "mu = np.arange(N)\n",
    "X = np.matmul(F, x)\n",
    "X2 = X * np.exp(-1j * mu * 2*np.pi/N * kappa)\n",
    "IF = 1/N * np.conjugate(np.transpose(F))\n",
    "x2 = np.matmul(IF, X2)\n",
    "\n",
    "plt.stem(k, x, linefmt='b-', markerfmt='bo', label='$x[k]$')\n",
    "plt.stem(k, np.real(x2), linefmt='r-', markerfmt='ro', label='$x[k - \\kappa]$')\n",
    "plt.xlabel('$k$')\n",
    "plt.legend(loc=9);"
   ]
  },
  {
   "cell_type": "markdown",
   "metadata": {},
   "source": [
    "### Multiplication Theorem\n",
    "\n",
    "The transform of a multiplication of two signals $x[k] \\cdot y[k]$ is derived by introducing the signals into the definition of the DFT, expressing the signal $x[k]$ by its spectrum $X[\\mu] = \\text{IDFT}_N \\{ x[k] \\}$ and rearranging terms\n",
    "\n",
    "\\begin{align}\n",
    "\\text{DFT}_N \\{ x[k] \\cdot y[k] \\} &= \\sum_{k=0}^{N-1} x[k] \\cdot y[k] \\, w_N^{\\mu k} \\\\\n",
    "&= \\sum_{k=0}^{N-1} \\left( \\frac{1}{N} \\sum_{\\nu=0}^{N-1} X[\\nu] \\, w_N^{-\\nu k} \\right) y[k] \\, w_N^{\\mu k} \\\\\n",
    "&= \\frac{1}{N} \\sum_{\\nu=0}^{N-1} X[\\nu] \\sum_{k=0}^{N-1} y[k] \\, w_N^{(\\mu - \\nu) k}  \\\\\n",
    "&= \\frac{1}{N} \\sum_{\\nu=0}^{N-1} X[\\nu] \\cdot Y[\\mu - \\nu] \\\\\n",
    "&= X[\\mu] \\circledast_N Y[\\mu]\n",
    "\\end{align}\n",
    "\n",
    "where $Y[\\mu] = \\text{IDFT}_N \\{ y[k] \\}$ and $k, \\mu = 0,1,\\dots,N-1$. The DFT of a multiplication of two signals $x[k] \\cdot y[k]$ is given by the periodic convolution of their spectra $X[\\mu]$ and $Y[\\mu]$ weighted by $\\frac{1}{N}$. The periodic convolution has a period of $N$ and it is performed with respect to the normalized angular frequency $\\mu$.\n",
    "\n",
    "Applications of the multiplication theorem include the modulation and windowing of signals. The former leads to the modulation theorem introduced in the following."
   ]
  },
  {
   "cell_type": "markdown",
   "metadata": {},
   "source": [
    "### Modulation Theorem\n",
    "\n",
    "The complex modulation of a signal $x[k]$ is defined as $e^{j \\Omega_0 k} \\cdot x[k]$ with $\\Omega_0 = M \\frac{2 \\pi}{N}$, $M \\in \\mathbb{Z}$. The DFT of the modulated signal is derived by applying the multiplication theorem\n",
    "\n",
    "\\begin{equation}\n",
    "\\text{DFT} \\left\\{ e^{j M \\frac{2 \\pi}{N} k} \\cdot x[k] \\right\\} = \\delta[\\mu - M]  \\circledast_N X[\\mu] = X[\\mu - M]\n",
    "\\end{equation}\n",
    "\n",
    "where $X[\\mu] = \\text{DFT}_N \\{ x[k] \\}$ and $X[\\mu - M]$ denotes the periodic shift of $X[\\mu]$.  Above result states that the complex modulation of a signal leads to a periodic shift of its spectrum. This result is known as modulation theorem."
   ]
  },
  {
   "cell_type": "markdown",
   "metadata": {},
   "source": [
    "**Example**\n",
    "\n",
    "An example for the application of the modulation theorem is the [downsampling/decimation](https://en.wikipedia.org/wiki/Decimation_(signal_processing&#041;) of a discrete signal $x[k]$. Downsampling refers to lowering the sampling rate of a signal. The example focuses on the special case of removing every second sample, hence halving the sampling rate. The downsampling is modeled by defining a signal $x_\\frac{1}{2}[k]$ where every second sample is set to zero\n",
    "\n",
    "\\begin{equation}\n",
    "x_\\frac{1}{2}[k] = \\begin{cases} \n",
    "x[k] & \\text{for even } k \\\\\n",
    "0 & \\text{for odd } k\n",
    "\\end{cases}\n",
    "\\end{equation}\n",
    "\n",
    "In order to derive the spectrum $X_\\frac{1}{2}[\\mu] = \\text{DFT}_N \\{ x_\\frac{1}{2}[k] \\}$ for even $N$, the signal $u[k]$ is introduced where every second sample is zero\n",
    "\n",
    "\\begin{equation}\n",
    "u[k] = \\frac{1}{2} ( 1 + e^{j \\pi k} ) = \\begin{cases} 1 & \\text{for even } k \\\\\n",
    "0 & \\text{for odd } k \\end{cases}\n",
    "\\end{equation}\n",
    "\n",
    "Using $u[k]$, the process of setting every second sample of $x[k]$ to zero can be expressed as\n",
    "\n",
    "\\begin{equation}\n",
    "x_\\frac{1}{2}[k] = u[k] \\cdot x[k]\n",
    "\\end{equation}\n",
    "\n",
    "Now the spectrum $X_\\frac{1}{2}[\\mu]$ is derived by applying the multiplication theorem and introducing the [DFT of the exponential signal](definition.ipynb#Transformation-of-the-Exponential-Signal). This results in\n",
    "\n",
    "\\begin{equation}\n",
    "X_\\frac{1}{2}[\\mu] = \\frac{1}{N} \\left(  \\frac{N}{2} \\delta[\\mu] + \\frac{N}{2} \\delta[\\mu - \\frac{N}{2}]  \\right) \\circledast X[\\mu] =\n",
    "\\frac{1}{2} X[\\mu] + \\frac{1}{2} X[\\mu - \\frac{N}{2}]\n",
    "\\end{equation}\n",
    "\n",
    "where $X[\\mu] = \\text{DFT}_N \\{ x[k] \\}$. The spectrum $X_\\frac{1}{2}[\\mu]$ consists of the spectrum of the original signal $X[\\mu]$ superimposed by the shifted spectrum $X[\\mu - \\frac{N}{2}]$ of the original signal. This may lead to overlaps that constitute aliasing. In order to avoid aliasing, the spectrum of the signal $x[k]$ has to be band-limited to $0 < \\mu < \\frac{N}{2}$ before downsampling."
   ]
  },
  {
   "cell_type": "markdown",
   "metadata": {},
   "source": [
    "**Example**\n",
    "\n",
    "The subsampling of a complex exponential signal is illustrated in the following. The signal $x[k] = \\cos (\\Omega_0 k)$ is subsampled by setting every second sample to zero. The DFT of the original signal and subsampled signal is computed and their magnitude is plotted for illustration."
   ]
  },
  {
   "cell_type": "code",
   "execution_count": null,
   "metadata": {},
   "outputs": [],
   "source": [
    "N = 16\n",
    "M = 3.3\n",
    "\n",
    "W0 = M*2*np.pi/N\n",
    "k = np.arange(N)\n",
    "x = np.exp(1j*W0*k)\n",
    "x2 = np.copy(x)\n",
    "x2[::2] = 0\n",
    "\n",
    "F = dft(N)\n",
    "X = np.matmul(F, x)\n",
    "X2 = np.matmul(F, x2)\n",
    "\n",
    "plt.figure(figsize=(8,4))\n",
    "plt.subplot(1,2,1)\n",
    "plt.stem(abs(X))\n",
    "plt.xlabel('$\\mu$')\n",
    "plt.ylabel(r'|$X[\\mu]$|')\n",
    "\n",
    "plt.subplot(1,2,2)\n",
    "plt.stem(abs(X2))\n",
    "plt.xlabel('$\\mu$')\n",
    "plt.ylabel(r'|$X_{1/2}[\\mu]$|');"
   ]
  },
  {
   "cell_type": "markdown",
   "metadata": {},
   "source": [
    "**Exercise**\n",
    "\n",
    "* What happens in the spectrum of the downsampled signal if you set $M > \\frac{N}{2}$?"
   ]
  },
  {
   "cell_type": "markdown",
   "metadata": {},
   "source": [
    "### Parseval's Theorem\n",
    "\n",
    "[Parseval's theorem](https://en.wikipedia.org/wiki/Parseval's_theorem) relates the energy of a discrete signal to its spectrum. The squared absolute value of a signal $x[k]$ represents its instantaneous power. It can be expressed as\n",
    "\n",
    "\\begin{equation}\n",
    "| x[k] |^2 = x[k] \\cdot x^*[k]\n",
    "\\end{equation}\n",
    "\n",
    "where $x^*[k]$ denotes the complex conjugate of $x[k]$. It is assumed in the following that the signal $x[k]$ is causal and of finite length $N$ or periodic with perodid $N$. Transformation of the right-hand side and application of the multiplication theorem results in\n",
    "\n",
    "\\begin{equation}\n",
    "\\text{DFT}_N \\{ x[k] \\cdot x^*[k] \\} = \\frac{1}{N} \\cdot X[\\mu] \\circledast_{N} X^*[N -\\mu]\n",
    "\\end{equation}\n",
    "\n",
    "Introducing the definition of the DFT and the periodic convolution yields\n",
    "\n",
    "\\begin{equation}\n",
    "\\sum_{k = 0}^{N-1} x[k] \\cdot x^*[k] \\, w_N^{\\mu k}  =\n",
    "\\frac{1}{N} \\sum_{\\nu = 0}^{N-1} X[\\nu] \\cdot \\tilde{X}^*[N-\\mu-\\nu]\n",
    "\\end{equation}\n",
    "\n",
    "Setting $\\mu = 0$ followed by the substitution $\\nu = \\mu$ yields Parseval's theorem\n",
    "\n",
    "\\begin{equation}\n",
    "\\sum_{k = 0}^{N-1} | x[k] |^2 = \\frac{1}{N} \\sum_{\\nu = 0}^{N-1} |X[\\mu]|^2 \n",
    "\\end{equation}\n",
    "\n",
    "The sum over the samples of the squared magnitude of the signal $x[k]$ is equal to the sum over its squared magnitude spectrum divided by $N$. Since the left-hand side represents the energy $E$ of the signal $x[k]$, Parseval's theorem states that the energy can be computed alternatively in the spectral domain by summing over the squared magnitude values of the spectrum."
   ]
  },
  {
   "cell_type": "markdown",
   "metadata": {
    "nbsphinx": "hidden"
   },
   "source": [
    "**Copyright**\n",
    "\n",
    "The notebooks are provided as [Open Educational Resource](https://de.wikipedia.org/wiki/Open_Educational_Resources). Feel free to use the notebooks for your own educational purposes. The text is licensed under [Creative Commons Attribution 4.0](https://creativecommons.org/licenses/by/4.0/), the code of the IPython examples under the [MIT license](https://opensource.org/licenses/MIT). Please attribute the work as follows: *Lecture Notes on Signals and Systems* by Sascha Spors."
   ]
  }
 ],
 "metadata": {
  "kernelspec": {
   "display_name": "Python 3",
   "language": "python",
   "name": "python3"
  },
  "language_info": {
   "codemirror_mode": {
    "name": "ipython",
    "version": 3
   },
   "file_extension": ".py",
   "mimetype": "text/x-python",
   "name": "python",
   "nbconvert_exporter": "python",
   "pygments_lexer": "ipython3",
   "version": "3.5.1"
  }
 },
 "nbformat": 4,
 "nbformat_minor": 0
}

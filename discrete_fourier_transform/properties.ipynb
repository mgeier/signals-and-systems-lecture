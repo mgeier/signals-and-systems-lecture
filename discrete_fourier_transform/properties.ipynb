{
 "cells": [
  {
   "cell_type": "markdown",
   "metadata": {
    "nbsphinx": "hidden"
   },
   "source": [
    "# The Discrete Fourier Transform\n",
    "\n",
    "*This Jupyter notebook is part of a [collection of notebooks](../index.ipynb) in the bachelors module Signals and Systems, Comunications Engineering, Universität Rostock. Please direct questions and suggestions to [Sascha.Spors@uni-rostock.de](mailto:Sascha.Spors@uni-rostock.de).*"
   ]
  },
  {
   "cell_type": "markdown",
   "metadata": {},
   "source": [
    "## Properties\n",
    "\n",
    "The discrete Fourier transform (DFT) has a number of specific properties that are reviewed in the following."
   ]
  },
  {
   "cell_type": "markdown",
   "metadata": {},
   "source": [
    "### Invertibility\n",
    "\n",
    "The discrete signal $x[k]$ can be recovered from its DFT $X[\\mu] = \\text{DFT}_N \\{ x[k] \\}$ by an inverse DFT (IDFT)\n",
    "\n",
    "\\begin{equation}\n",
    "x[k] = \\text{IDFT}_N \\left\\{ \\text{DFT}_N \\{ x[k] \\} \\right\\}\n",
    "\\end{equation}\n",
    "\n",
    "for $k=0,1, \\dots, N-1$. This can be proven by introducing the [definition of the DFT](definition.ipynb) into the definition of the IDFT\n",
    "\n",
    "\\begin{align}\n",
    "x[k] &= \\frac{1}{N} \\sum_{\\mu = 0}^{N-1} \\left( \\sum_{n = 0}^{N-1} x[n] w_N^{\\mu n} \\right) w_N^{-\\mu k} \\\\\n",
    "&= \\frac{1}{N} \\sum_{n = 0}^{N-1} x[n] \\sum_{\\mu = 0}^{N-1} w_N^{\\mu n} w_N^{- \\mu k} \\\\\n",
    "&= x[k]\n",
    "\\end{align}\n",
    "\n",
    "where $w_N = e^{- j \\frac{2 \\pi}{N}}$. The last equality follows from the DFT of the shifted Dirac impulse (orthogonality of the complex exponentials)\n",
    "\n",
    "\\begin{equation}\n",
    "\\text{DFT}_N \\{ \\delta[k-n] \\} = w_N^{\\mu n}\n",
    "\\end{equation}\n",
    "\n",
    "and its sifting property."
   ]
  },
  {
   "cell_type": "markdown",
   "metadata": {},
   "source": [
    "**Example**\n",
    "\n",
    "The invertibility of the DFT is illustrated at the example of the [rectangular signal](../discrete_signals/standard_signals.ipynb#Rectangular-Signal) $x[k] = \\text{rect}_M[k]$. The signal $x[k]$, its magnitude spectrum $|X[\\mu]|$ as well as the IDFT of the spectrum $\\text{IDFT} \\{ X[\\mu] \\}$ are plotted. Note that the IDFT is not exactly real valued due to numerical effects."
   ]
  },
  {
   "cell_type": "code",
   "execution_count": null,
   "metadata": {},
   "outputs": [],
   "source": [
    "%matplotlib inline\n",
    "import numpy as np\n",
    "import matplotlib.pyplot as plt\n",
    "from scipy.linalg import dft\n",
    "\n",
    "def rect(k, N):\n",
    "    return np.where((0 <= k) & (k < N), 1.0, 0.0)\n",
    "\n",
    "N = 16\n",
    "M = 8\n",
    "\n",
    "F = dft(N)\n",
    "IF = 1/N*np.conjugate(np.transpose(F))\n",
    "k = np.arange(N)\n",
    "x = rect(k, M)\n",
    "X = np.matmul(F, x)\n",
    "xr = np.matmul(IF, X)\n",
    "\n",
    "plt.figure(figsize=(10,3))\n",
    "plt.subplot(1, 3, 1)\n",
    "plt.stem(x)\n",
    "plt.xlabel('$k$')\n",
    "plt.ylabel('$x[k]$')\n",
    "plt.ylim([-.1, 1.1])\n",
    "\n",
    "plt.subplot(1, 3, 2)\n",
    "plt.stem(abs(X))\n",
    "plt.xlabel('$\\mu$')\n",
    "plt.ylabel('$|X[\\mu]|$')\n",
    "\n",
    "plt.subplot(1, 3, 3)\n",
    "plt.stem(np.real(xr))\n",
    "plt.xlabel('$k$')\n",
    "plt.ylabel(r'$\\mathrm{IDFT}_N {X[\\mu]}$')\n",
    "plt.ylim([-.1, 1.1])\n",
    "plt.tight_layout()"
   ]
  },
  {
   "cell_type": "markdown",
   "metadata": {},
   "source": [
    "### Linearity\n",
    "\n",
    "The DFT is a linear operation. For two signals $x_1[k]$ and $x_2[k]$ with transforms $X_1[\\mu] = \\text{DFT}_N \\{ x_1[k] \\}$ and $X_2[\\mu] = \\text{DFT}_N \\{ x_2[k] \\}$ the following holds\n",
    "\n",
    "\\begin{equation}\n",
    "\\text{DFT}_N \\{ A \\cdot x_1[k] + B \\cdot x_2[k] \\} = A \\cdot X_1[\\mu] + B \\cdot X_2[\\mu]\n",
    "\\end{equation}\n",
    "\n",
    "with $A, B \\in \\mathbb{C}$. The DFT of a weighted superposition of discrete signals is equal to the weighted superposition of the individual DFTs. This property is useful to derive the DFT of signals that can be expressed as superposition of other signals for which the DFT is known or can be calculated easier. Linearity holds also for the inverse DFT."
   ]
  },
  {
   "cell_type": "markdown",
   "metadata": {},
   "source": [
    "#### Transformation of the cosine and sine signal\n",
    "\n",
    "The DTFT of $\\cos(\\Omega_0 k)$ and $\\sin(\\Omega_0 k)$ is derived by expressing both as harmonic exponential signals using [Euler's formula](https://en.wikipedia.org/wiki/Euler's_formula)\n",
    "\n",
    "\\begin{align}\n",
    "\\cos(\\Omega_0 k) &= \\frac{1}{2} \\left(  e^{-j \\Omega_0 k} + e^{j \\Omega_0 k} \\right) \\\\\n",
    "\\sin(\\Omega_0 k) &= \\frac{j}{2} \\left( e^{-j \\Omega_0 k} - e^{j \\Omega_0 k}  \\right)\n",
    "\\end{align}\n",
    "\n",
    "together with the $\\text{DFT}_N \\{ e^{j \\Omega_0 k} \\} = \\frac{1 - e^{j (\\Omega_0 - \\mu \\frac{2 \\pi}{N}) N}}{1 - e^{j (\\Omega_0 - \\mu \\frac{2 \\pi}{N})}}$ of the [complex exponential signal](definition.ipynb#Transformation-of-the-Exponential-Signal) yields\n",
    "\n",
    "\\begin{align}\n",
    "\\text{DFT}_N \\{ \\cos(\\Omega_0 k) \\} &= \\frac{1}{2} \\left( \n",
    "\\frac{1 - e^{- j (\\Omega_0 + \\mu \\frac{2 \\pi}{N}) N}}{1 - e^{-j (\\Omega_0 + \\mu \\frac{2 \\pi}{N})}} +\n",
    "\\frac{1 - e^{j (\\Omega_0 - \\mu \\frac{2 \\pi}{N}) N}}{1 - e^{j (\\Omega_0 - \\mu \\frac{2 \\pi}{N})}}\n",
    "\\right) \\\\\n",
    "\\text{DFT}_N \\{ \\sin(\\Omega_0 k) \\} &= \\frac{j}{2} \\left( \n",
    "\\frac{1 - e^{- j (\\Omega_0 + \\mu \\frac{2 \\pi}{N}) N}}{1 - e^{-j (\\Omega_0 + \\mu \\frac{2 \\pi}{N})}} -\n",
    "\\frac{1 - e^{j (\\Omega_0 - \\mu \\frac{2 \\pi}{N}) N}}{1 - e^{j (\\Omega_0 - \\mu \\frac{2 \\pi}{N})}}\n",
    "\\right)\n",
    "\\end{align}\n",
    "\n",
    "for the special case of a periodic cosine/sine signal with $\\Omega_0 = M \\frac{2 \\pi}{N}$, $M \\in \\mathbb{Z}$ the DFTs simplify to\n",
    "\n",
    "\\begin{align}\n",
    "\\text{DFT}_N \\{ \\cos(\\Omega_0 k) \\} &= \\frac{N}{2} \\left( \\delta[\\mu + M - N] + \\delta[\\mu - M] \\right) \\\\\n",
    "\\text{DFT}_N \\{ \\sin(\\Omega_0 k) \\} &= \\frac{j N}{2} \\left( \\delta[\\mu + M - N] - \\delta[\\mu - M] \\right)\n",
    "\\end{align}"
   ]
  },
  {
   "cell_type": "markdown",
   "metadata": {},
   "source": [
    "**Example**\n",
    "\n",
    "The $\\text{DFT}_N \\{ \\cos(\\Omega_0 k) \\}$ of a cosine signal is computed by numerical evaluation of the definition of the DFT. The magnitude spectrum $|X[\\mu]|$ is plotted for illustration."
   ]
  },
  {
   "cell_type": "code",
   "execution_count": null,
   "metadata": {},
   "outputs": [],
   "source": [
    "M = 3.3\n",
    "N = 16\n",
    "\n",
    "W0 = 3.3 * 2*np.pi/N\n",
    "x = np.cos(W0*k)\n",
    "F = dft(N)\n",
    "X = np.matmul(F, x)\n",
    "\n",
    "plt.stem(abs(X))\n",
    "plt.xlabel('$\\mu$')\n",
    "plt.ylabel(r'$|X[\\mu]|$');"
   ]
  },
  {
   "cell_type": "markdown",
   "metadata": {},
   "source": [
    "**Exercise**\n",
    "\n",
    "* Rerun the example with different normalized frequencies $\\Omega_0 = M \\frac{2 \\pi}{N}$ resulting in periodic or aperiodic cosine signals."
   ]
  },
  {
   "cell_type": "markdown",
   "metadata": {},
   "source": [
    "### Symmetries\n",
    "\n",
    "In order to investigate the symmetries of the DFT $X[\\mu] = \\text{DFT}_N \\{ x[k] \\}$ of a signal $x[k]$, first the even and odd part of a discrete signal of finite length is introduced. Based on this, the symmetries of the DFT of a real valued signal $x[k] \\in \\mathbb{R}$ are derived. The results are then generalized to complex signals $x[k] \\in \\mathbb{C}$."
   ]
  },
  {
   "cell_type": "markdown",
   "metadata": {},
   "source": [
    "#### Even and odd part of a finite-length signal\n",
    "\n",
    "The symmetry relations of [even and odd functions](https://en.wikipedia.org/wiki/Even_and_odd_functions) are typically formulated in terms of the behavior of a function when its argument changes the sign. These definitions cannot be applied straightforward to causal discrete signals $x[k]$ of finite length $N$, since $x[k] = 0$ for $k<0$. An alternative definition for the symmetry relations of even and odd signals of finite length is based on the periodic continuation $\\tilde{x}[k]$ of the finite-length signal $x[k]$. It is given as\n",
    "\n",
    "\\begin{equation}\n",
    "\\tilde{x}[k] = \\sum_{\\nu = -\\infty}^{\\infty} x[k - \\nu N]\n",
    "\\end{equation}\n",
    "\n",
    "Using the periodic continuation, a causal finite length signal $x_\\text{e}[k]$ with even symmetry is defined by\n",
    "\n",
    "\\begin{equation}\n",
    "\\tilde{x}_\\text{e}[k] = \\tilde{x}_\\text{e}[-k]\n",
    "\\end{equation}\n",
    "\n",
    "and a causal finite length signal $x_\\text{o}[k]$ with odd symmetry by\n",
    "\n",
    "\\begin{equation}\n",
    "\\tilde{x}_\\text{o}[k] = - \\tilde{x}_\\text{o}[-k]\n",
    "\\end{equation}\n",
    "\n",
    "Using these definitions signal $x[k]$ can be decomposed into its even and odd part\n",
    "\n",
    "\\begin{align}\n",
    "x_\\text{e}[k] &= \\frac{1}{2} \\left( \\tilde{x}[k] + \\tilde{x}[-k] \\right) \\\\\n",
    "x_\\text{o}[k] &= \\frac{1}{2} \\left( \\tilde{x}[k] - \\tilde{x}[-k] \\right)\n",
    "\\end{align}\n",
    "\n",
    "with $x[k] = x_\\text{e}[k] + x_\\text{o}[k]$. It follows from these relations that $x_\\text{e}[0] = x[0]$ and $x_\\text{o}[0] = 0$."
   ]
  },
  {
   "cell_type": "markdown",
   "metadata": {},
   "source": [
    "**Example**\n",
    "\n",
    "The decomposition of the signal $x[k] = \\text{rect}_8[k]$ of length $N$ into its even and odd part is illustrated. Note, the reversal of the periodic continuation $\\tilde{x}[-k]$ is realized in `Python` by reversing the order of the vector containing the values of the signal $x[k]$ followed by a circular shift by one."
   ]
  },
  {
   "cell_type": "code",
   "execution_count": null,
   "metadata": {},
   "outputs": [],
   "source": [
    "N = 16\n",
    "k = np.arange(N)\n",
    "x = rect(k, 8)\n",
    "xe = 1/2 * (x + np.roll(x[::-1], 1))\n",
    "xo = 1/2 * (x - np.roll(x[::-1], 1))\n",
    "\n",
    "plt.figure(figsize=(10,3))\n",
    "plt.subplot(1, 3, 1)\n",
    "plt.stem(x)\n",
    "plt.xlabel('$k$')\n",
    "plt.ylabel('$x[k]$')\n",
    "plt.ylim([-1.1, 1.1])\n",
    "\n",
    "plt.subplot(1, 3, 2)\n",
    "plt.stem(xe)\n",
    "plt.xlabel('$k$')\n",
    "plt.ylabel('$x_\\mathrm{e}[k]$')\n",
    "plt.ylim([-1.1, 1.1])\n",
    "\n",
    "plt.subplot(1, 3, 3)\n",
    "plt.stem(xo)\n",
    "plt.xlabel('$k$')\n",
    "plt.ylabel('$x_\\mathrm{o}[k]$')\n",
    "plt.ylim([-1.1, 1.1])\n",
    "plt.tight_layout()"
   ]
  },
  {
   "cell_type": "markdown",
   "metadata": {},
   "source": [
    "**Exercise**\n",
    "\n",
    "* Examine the symmetries of the periodic cosine $x[k] = \\cos(M \\frac{2 \\pi}{N} k)$ and sine $x[k] = \\sin(M \\frac{2 \\pi}{N} k)$ signals for $M \\in 0,1, \\dots, N-1$."
   ]
  },
  {
   "cell_type": "markdown",
   "metadata": {},
   "source": [
    "#### Real valued signals\n",
    "\n",
    "Decomposing a real valued signal $x[k] \\in \\mathbb{R}$ into its even and odd part $x[k] = x_\\text{e}[k] + x_\\text{o}[k]$ and introducing these into the definition of the DFT yields\n",
    "\n",
    "\\begin{align}\n",
    "X[\\mu] &= \\sum_{k = 0}^{N-1} \\left( x_\\text{e}[k] + x_\\text{o}[k] \\right) e^{-j \\mu \\frac{2 \\pi}{N} k} \\\\\n",
    "&= \\sum_{k = 0}^{N-1} \\left( x_\\text{e}[k] + x_\\text{o}[k] \\right) \\cdot \\left( \\cos(\\mu \\frac{2 \\pi}{N} k) - j \\sin(\\mu \\frac{2 \\pi}{N} k) \\right) \\\\\n",
    "&= \\underbrace{\\sum_{k = 0}^{N-1} x_\\text{e}[k] \\cos(\\mu \\frac{2 \\pi}{N} k)}_{X_\\text{e}[\\mu]} + \n",
    "j \\underbrace{\\sum_{k = 0}^{N-1} - x_\\text{o}[k] \\sin(\\mu \\frac{2 \\pi}{N} k) }_{X_\\text{o}[\\mu]}\n",
    "\\end{align}\n",
    "\n",
    "For the last equality the fact was exploited that the periodic cosine and sine show even and odd symmetry, respectively and that the summation is zero for odd series. In order to conclude on the symmetry of $X[\\mu]$, the behavior of its periodic continuation $\\tilde{X}[\\mu]$ for a reverse of the sign of $\\mu$ has to be investigated. Due to the even and odd symmetry of $\\cos(\\mu \\frac{2 \\pi}{N} k)$ and $\\sin(\\mu \\frac{2 \\pi}{N} k)$, it follows that the DFT of the\n",
    "\n",
    "* even part $x_\\text{e}[k]$ is real valued with even symmetry $\\tilde{X}_\\text{e}[\\mu] = \\tilde{X}_\\text{e}[-\\mu]$\n",
    "* odd part $x_\\text{o}[k]$ is imaginary with odd symmetry $\\tilde{X}_\\text{o}[\\mu] = - \\tilde{X}_\\text{o}[-\\mu]$\n",
    "\n",
    "where $\\tilde{X}_\\text{e}[\\mu]$ and $\\tilde{X}_\\text{o}[\\mu]$ denote the periodic continuation of the even and odd part of $X[\\mu]$. Combining the results, it can be concluded that the DFT $X[\\mu]$ of a real-valued signal $x[k] \\in \\mathbb{R}$ shows complex conjugate symmetry\n",
    "\n",
    "\\begin{equation}\n",
    "\\tilde{X}[\\mu] = \\tilde{X}^*[-\\mu]\n",
    "\\end{equation}"
   ]
  },
  {
   "cell_type": "markdown",
   "metadata": {},
   "source": [
    "#### Complex signals\n",
    "\n",
    "By following the same procedure as above for an imaginary signal, the symmetries of the DFT of the even and odd part of an imaginary signal can be derived. The results can be combined, by decomposing a complex signal $x[k] \\in \\mathbb{C}$ and its DFT into its even and odd part for both the real and imaginary part. This results in the following symmetry relations\n",
    "\n",
    "![Symmetries of the discrete Fourier transform](symmetries.png)\n",
    "\n",
    "The transformation symbols $\\circ \\!\\! - \\!\\! \\bullet$ illustrate which part of the signal $x[k]$ is related to which part of its spectrum $X[\\mu]$. For instance, the odd part of the real part $\\Re \\{ x_\\text{o} [k] \\}$ results in an imaginary spectrum with odd symmetry $\\Im \\{ X_\\text{o} [\\mu] \\}$. This holds for instance for the spectrum of the periodic sine function derived above."
   ]
  },
  {
   "cell_type": "markdown",
   "metadata": {
    "nbsphinx": "hidden"
   },
   "source": [
    "**Copyright**\n",
    "\n",
    "The notebooks are provided as [Open Educational Resource](https://de.wikipedia.org/wiki/Open_Educational_Resources). Feel free to use the notebooks for your own educational purposes. The text is licensed under [Creative Commons Attribution 4.0](https://creativecommons.org/licenses/by/4.0/), the code of the IPython examples under the [MIT license](https://opensource.org/licenses/MIT). Please attribute the work as follows: *Lecture Notes on Signals and Systems* by Sascha Spors."
   ]
  }
 ],
 "metadata": {
  "kernelspec": {
   "display_name": "Python 3",
   "language": "python",
   "name": "python3"
  },
  "language_info": {
   "codemirror_mode": {
    "name": "ipython",
    "version": 3
   },
   "file_extension": ".py",
   "mimetype": "text/x-python",
   "name": "python",
   "nbconvert_exporter": "python",
   "pygments_lexer": "ipython3",
   "version": "3.6.4"
  }
 },
 "nbformat": 4,
 "nbformat_minor": 1
}

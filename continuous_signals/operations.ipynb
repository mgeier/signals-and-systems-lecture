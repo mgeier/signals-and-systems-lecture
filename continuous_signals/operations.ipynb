{
 "cells": [
  {
   "cell_type": "markdown",
   "metadata": {
    "nbsphinx": "hidden"
   },
   "source": [
    "# Continuous Signals\n",
    "\n",
    "*This Jupyter notebook is part of a [collection of notebooks](../index.ipynb) in the bachelors module Signals and Systems, Comunications Engineering, Universität Rostock. Please direct questions and suggestions to [Sascha.Spors@uni-rostock.de](mailto:Sascha.Spors@uni-rostock.de).*"
   ]
  },
  {
   "cell_type": "markdown",
   "metadata": {},
   "source": [
    "## Elementary Operations\n",
    "\n",
    "Operations like superposition, temporal shifting and scaling can be used to construct signals with a more complex structure than the introduced [standard signals](standard_signals.ipynb). A set of elementary operations is introduced in the following that are frequently used in signal processing for this purpose."
   ]
  },
  {
   "cell_type": "markdown",
   "metadata": {},
   "source": [
    "### Superposition\n",
    "\n",
    "The weighted superposition $x(t)$ of two signals $x_1(t)$ and $x_2(t)$ is given as\n",
    "\n",
    "\\begin{equation}\n",
    "x(t) = A \\cdot x_1(t) + B \\cdot x_2(t)\n",
    "\\end{equation}\n",
    "\n",
    "with the complex weights $A, B \\in \\mathbb{C}$."
   ]
  },
  {
   "cell_type": "markdown",
   "metadata": {},
   "source": [
    "**Example**\n",
    "\n",
    "The following example illustrates the superposition of two harmonic signals $x(t) = A \\cdot \\cos(\\omega_1 t) + B \\cdot \\cos(\\omega_2 t)$ with weights $A$, $B$ and angular frequencies $\\omega_1$ and $\\omega_2$."
   ]
  },
  {
   "cell_type": "code",
   "execution_count": null,
   "metadata": {},
   "outputs": [],
   "source": [
    "%matplotlib inline\n",
    "import sympy as sym\n",
    "sym.init_printing()\n",
    "\n",
    "t = sym.symbols('t', real=True)\n",
    "\n",
    "A = .3\n",
    "om1=3\n",
    "B = .5\n",
    "om2=5\n",
    "\n",
    "x = A*sym.cos(om1*t) + B*sym.cos(om2*t)\n",
    "\n",
    "sym.plot(x, (t, -5, 5), ylim=[-1.2, 1.2], ylabel=r'$x(t)$');"
   ]
  },
  {
   "cell_type": "markdown",
   "metadata": {},
   "source": [
    "### Temporal Shift\n",
    "\n",
    "The temporal shift of a signal $s(t)$ by the time $\\tau$ is a frequently applied operation in signal processing. For instance, to model the propagation of signals from an actuator to a sensor. The temporally shifted signal $x(t)$ is defined as\n",
    "\n",
    "\\begin{equation}\n",
    "x(t) = s(t-\\tau)\n",
    "\\end{equation}\n",
    "\n",
    "with $\\tau \\in \\mathbb{R}$. The signal $s(t)$ is\n",
    "\n",
    "* shifted to the right (*delayed*) for $\\tau > 0$\n",
    "* shifted to the left for $\\tau < 0$"
   ]
  },
  {
   "cell_type": "markdown",
   "metadata": {},
   "source": [
    "**Example**\n",
    "\n",
    "In order to illustrate the temporal shifting of signals, the construction of a staircase signal by a superposition of shifted [rectangular signals](standard_signals.ipynb#Rectangular-Signal) is considered\n",
    "\n",
    "\\begin{equation}\n",
    "x(t) = \\text{rect}\\left(t - \\frac{2}{3} \\right) + \\frac{2}{3} \\cdot \\text{rect}\\left(t-\\frac{3}{2} \\right) + \\frac{1}{3} \\cdot \\text{rect} \\left(t-\\frac{5}{2} \\right)\n",
    "\\end{equation}\n",
    "\n"
   ]
  },
  {
   "cell_type": "code",
   "execution_count": null,
   "metadata": {},
   "outputs": [],
   "source": [
    "rect = sym.Heaviside(t + 1/2) - sym.Heaviside(t - 1/2)\n",
    "x = rect.subs(t, t-1/2) + 2/3*rect.subs(t, t-3/2) + 1/3*rect.subs(t, t-5/2)\n",
    "\n",
    "sym.plot(x, (t, -1, 5), ylim=[-0.2, 1.2], ylabel='$x(t)$');"
   ]
  },
  {
   "cell_type": "markdown",
   "metadata": {},
   "source": [
    "### Temporal Scaling\n",
    "\n",
    "The temporally scaling of a signal $s(t)$ is defined as\n",
    "\n",
    "\\begin{equation}\n",
    "x(t) = s(a \\cdot t)\n",
    "\\end{equation}\n",
    "\n",
    "with $a \\in \\mathbb{R}$. The signal $s(t)$ is\n",
    "\n",
    "* stretched for $0 < a < 1$\n",
    "* compressed for $a > 1$\n",
    "* time-reversed and scaled for $a < 0$\n",
    "\n",
    "An application of temporal scaling in signal processing is the modeling of the [Doppler effect](https://en.wikipedia.org/wiki/Doppler_effect)."
   ]
  },
  {
   "cell_type": "markdown",
   "metadata": {},
   "source": [
    "**Example**\n",
    "\n",
    "The following example illustrates the scaling of the staircase signal $y(t) = x(a \\cdot t)$ introduced in the previous example."
   ]
  },
  {
   "cell_type": "code",
   "execution_count": null,
   "metadata": {},
   "outputs": [],
   "source": [
    "a = .5\n",
    "y = x.subs(t, a*t)\n",
    "\n",
    "sym.plot(y.subs(a, 1/2), (t, -3, 7), ylim=[-0.2, 1.2], ylabel=r'$y(t)$');"
   ]
  },
  {
   "cell_type": "markdown",
   "metadata": {},
   "source": [
    "**Exercise**\n",
    "\n",
    "* Change above example such that the signal is compressed.\n",
    "* Change above example such that the signal is scaled and time reversed. What scaling factor `a` leads to a stretching/compression in this context?"
   ]
  },
  {
   "cell_type": "markdown",
   "metadata": {},
   "source": [
    "### Temporal Flipping"
   ]
  },
  {
   "cell_type": "markdown",
   "metadata": {},
   "source": [
    "The temporal flipping of a signal $s(t)$ is defined as\n",
    "\n",
    "\\begin{equation}\n",
    "x(t) = s(\\tau - t)\n",
    "\\end{equation}\n",
    "\n",
    "for $\\tau \\in \\mathbb{R}$. As $s(\\tau - t) = s(- (t - \\tau))$ the flipping operation can also be represented as a time-reversal of the signal $s(t)$ followed by a delay of $\\tau$ of the reversed signal. For $\\tau = 0$ this results in only a time-reversal of the signal. \n",
    "\n",
    "The operation can interpreted geometrically as a mirroring of the signal $s(t)$ at the vertical axis $t=\\frac{\\tau}{2}$. "
   ]
  },
  {
   "cell_type": "markdown",
   "metadata": {},
   "source": [
    "**Example**\n",
    "\n",
    "The following example illustrates the temporal flipping of the staircase signal $x(t)$ introduced above."
   ]
  },
  {
   "cell_type": "code",
   "execution_count": null,
   "metadata": {},
   "outputs": [],
   "source": [
    "tau = 2\n",
    "y = x.subs(t, tau - t)\n",
    "\n",
    "sym.plot(y,(t, -5, 5), ylim=[-0.2, 1.2], ylabel=r'$s(\\tau-t)$');"
   ]
  },
  {
   "cell_type": "markdown",
   "metadata": {},
   "source": [
    "**Excercise**\n",
    "\n",
    "* For what value $\\tau$ does the signal start at $t=0$?\n",
    "* Realize the temporal flipping by splitting it into two operations: (i) time-reversal and (ii) temporal shift."
   ]
  },
  {
   "cell_type": "markdown",
   "metadata": {
    "nbsphinx": "hidden"
   },
   "source": [
    "### Copyright\n",
    "\n",
    "<p xmlns:dct=\"http://purl.org/dc/terms/\">\n",
    "  <a rel=\"license\"\n",
    "     href=\"http://creativecommons.org/publicdomain/zero/1.0/\">\n",
    "    <img src=\"http://i.creativecommons.org/p/zero/1.0/88x31.png\" style=\"border-style: none;\" alt=\"CC0\" />\n",
    "  </a>\n",
    "  <br />\n",
    "  To the extent possible under law,\n",
    "  <span rel=\"dct:publisher\" resource=\"[_:publisher]\">the person who associated CC0</span>\n",
    "  with this work has waived all copyright and related or neighboring\n",
    "  rights to this work.\n",
    "</p>"
   ]
  }
 ],
 "metadata": {
  "kernelspec": {
   "display_name": "Python 3",
   "language": "python",
   "name": "python3"
  },
  "language_info": {
   "codemirror_mode": {
    "name": "ipython",
    "version": 3
   },
   "file_extension": ".py",
   "mimetype": "text/x-python",
   "name": "python",
   "nbconvert_exporter": "python",
   "pygments_lexer": "ipython3",
   "version": "3.5.1"
  }
 },
 "nbformat": 4,
 "nbformat_minor": 0
}

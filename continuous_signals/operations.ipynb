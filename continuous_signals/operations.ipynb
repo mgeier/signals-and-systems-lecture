{
 "cells": [
  {
   "cell_type": "markdown",
   "metadata": {
    "nbsphinx": "hidden"
   },
   "source": [
    "# Continuous Signals\n",
    "\n",
    "*This Jupyter notebook is part of a [collection of notebooks](../index.ipynb) in the bachelors module Signals and Systems, Communications Engineering, Universität Rostock. Please direct questions and suggestions to [Sascha.Spors@uni-rostock.de](mailto:Sascha.Spors@uni-rostock.de).*"
   ]
  },
  {
   "cell_type": "markdown",
   "metadata": {},
   "source": [
    "## Elementary Operations\n",
    "\n",
    "Operations like superposition, temporal shifting and scaling are used to construct signals with a more complex structure than the previously introduced [standard signals](standard_signals.ipynb). A set of elementary operations are introduced that are frequently used in signal processing."
   ]
  },
  {
   "cell_type": "markdown",
   "metadata": {},
   "source": [
    "### Superposition\n",
    "\n",
    "The weighted superposition $x(t)$ of two signals $x_\\text{A}(t)$ and $x_\\text{B}(t)$ is given as\n",
    "\n",
    "\\begin{equation}\n",
    "x(t) = A \\cdot x_\\text{A}(t) + B \\cdot x_\\text{B}(t)\n",
    "\\end{equation}\n",
    "\n",
    "with the complex weights $A, B \\in \\mathbb{C}$."
   ]
  },
  {
   "cell_type": "markdown",
   "metadata": {},
   "source": [
    "**Example**\n",
    "\n",
    "The following example illustrates the superposition of two harmonic signals $x_\\text{A}(t) = A \\cdot \\cos(\\omega_\\text{A} t)$ and  $x_\\text{B}(t) = B \\cdot \\cos(\\omega_\\text{B} t)$ with weights $A$, $B$ and angular frequencies $\\omega_\\text{A}$ and $\\omega_\\text{B}$."
   ]
  },
  {
   "cell_type": "code",
   "execution_count": null,
   "metadata": {},
   "outputs": [],
   "source": [
    "import sympy as sym\n",
    "%matplotlib inline\n",
    "sym.init_printing()\n",
    "\n",
    "t = sym.symbols('t', real=True)\n",
    "\n",
    "A = .3\n",
    "omA = 3\n",
    "B = .5\n",
    "omB = 5\n",
    "\n",
    "x = A*sym.cos(omA*t) + B*sym.cos(omB*t)\n",
    "\n",
    "sym.plot(x, (t, -5, 5), ylim=[-1.2, 1.2], ylabel=r'$x(t)$')"
   ]
  },
  {
   "cell_type": "markdown",
   "metadata": {},
   "source": [
    "### Temporal Shift\n",
    "\n",
    "The temporal shift of a signal $x(t)$ by the time $\\tau$ is a frequently applied operation in signal processing. For instance, to model the propagation of signals from an actuator to a sensor.\n",
    "\n",
    "The temporally shifted signal $x(t)$ is defined as\n",
    "\n",
    "\\begin{equation}\n",
    "y(t) = x(t-\\tau)\n",
    "\\end{equation}\n",
    "with $\\tau \\in \\mathbb{R}$. The signal $x(t)$ is\n",
    "\n",
    "* shifted to the right (*delayed*) for $\\tau > 0$\n",
    "* shifted to the left (*leading*) for $\\tau < 0$"
   ]
  },
  {
   "cell_type": "markdown",
   "metadata": {},
   "source": [
    "**Example**\n",
    "\n",
    "In order to illustrate the temporal shifting of signals, the construction of a staircase signal by a superposition of shifted [rectangular signals](standard_signals.ipynb#Rectangular-Signal) is considered\n",
    "\n",
    "\\begin{equation}\n",
    "x(t) = \\text{rect}\\left(t - \\frac{1}{2} \\right) + \\frac{2}{3} \\cdot \\text{rect}\\left(t-\\frac{3}{2} \\right) + \\frac{1}{3} \\cdot \\text{rect} \\left(t-\\frac{5}{2} \\right)\n",
    "\\end{equation}"
   ]
  },
  {
   "cell_type": "code",
   "execution_count": null,
   "metadata": {},
   "outputs": [],
   "source": [
    "rect = sym.Heaviside(t + 1/2) - sym.Heaviside(t - 1/2)\n",
    "x = rect.subs(t, t-1/2) + 2/3*rect.subs(t, t-3/2) + 1/3*rect.subs(t, t-5/2)\n",
    "\n",
    "sym.plot(x, (t, -1, 5), ylim=[-0.2, 1.2], ylabel='$x(t)$');"
   ]
  },
  {
   "cell_type": "markdown",
   "metadata": {},
   "source": [
    "**Exercise**\n",
    "\n",
    "* Add another step to the beginning of the staircase signal by modifying above example."
   ]
  },
  {
   "cell_type": "markdown",
   "metadata": {},
   "source": [
    "### Temporal Scaling\n",
    "\n",
    "The temporal scaling of a signal $x(t)$ is defined as\n",
    "\n",
    "\\begin{equation}\n",
    "y(t) = x(a \\cdot t)\n",
    "\\end{equation}\n",
    "\n",
    "with $a \\in \\mathbb{R}$. The signal $x(t)$ is\n",
    "\n",
    "* stretched for $0 < a < 1$\n",
    "* compressed for $a > 1$\n",
    "* time-reversed and scaled for $a < 0$\n",
    "\n",
    "An application of temporal scaling in signal processing is the adaption of the time scale for standard signals and the modeling of the [Doppler effect](https://en.wikipedia.org/wiki/Doppler_effect)."
   ]
  },
  {
   "cell_type": "markdown",
   "metadata": {},
   "source": [
    "**Example**\n",
    "\n",
    "The following example illustrates the temporal scaling of the staircase signal $y(t) = x(a \\cdot t)$ introduced in the previous example. The original $x(t)$ is plotted in gray, the scaled signal $y(t)$ in blue. Here stretching is realized, such that $y(t)$ is twice as long as $x(t)$."
   ]
  },
  {
   "cell_type": "code",
   "execution_count": null,
   "metadata": {},
   "outputs": [],
   "source": [
    "a = .5\n",
    "y = x.subs(t, a*t)\n",
    "\n",
    "px = sym.plot(x, (t, -3, 7), ylim=[-0.2, 1.2],\n",
    "              ylabel=r'$y(t)$', show=False, line_color='gray')\n",
    "py = sym.plot(y.subs(a, 1/2), (t, -3, 7),\n",
    "              ylim=[-0.2, 1.2], ylabel=r'$y(t)$', show=False)\n",
    "px.extend(py)\n",
    "px.show()"
   ]
  },
  {
   "cell_type": "markdown",
   "metadata": {},
   "source": [
    "**Exercise**\n",
    "\n",
    "* Modify above example such that the signal is compressed.\n",
    "* Modify above example such that the signal is scaled and time reversed. What scaling factors `a` lead to  stretching/compression in this context?"
   ]
  },
  {
   "cell_type": "markdown",
   "metadata": {},
   "source": [
    "### Temporal Flipping"
   ]
  },
  {
   "cell_type": "markdown",
   "metadata": {},
   "source": [
    "The temporal flipping of a signal $x(t)$ is defined as\n",
    "\n",
    "\\begin{equation}\n",
    "y(t) = x(\\tau - t)\n",
    "\\end{equation}\n",
    "\n",
    "for $\\tau \\in \\mathbb{R}$. As $x(\\tau - t) = x(- (t - \\tau))$ the flipping operation can also be represented as a time-reversal of the signal $x(t)$ followed by a shift of $\\tau$ of the reversed signal. For $\\tau = 0$ this results in only a time-reversal of the signal. \n",
    "\n",
    "The temporal flipping operation can be interpreted geometrically as a mirroring of the signal $x(t)$ at the vertical axis $t=\\frac{\\tau}{2}$."
   ]
  },
  {
   "cell_type": "markdown",
   "metadata": {},
   "source": [
    "**Example**\n",
    "\n",
    "The following example illustrates the temporal flipping $y(t) = x(\\tau - t)$ of the staircase signal $x(t)$ introduced before."
   ]
  },
  {
   "cell_type": "code",
   "execution_count": null,
   "metadata": {},
   "outputs": [],
   "source": [
    "tau = -1\n",
    "y = x.subs(t, tau - t)\n",
    "\n",
    "px = sym.plot(x, (t, -5, 5), ylim=[-0.2, 1.2],\n",
    "              ylabel=r'$y(t)$', show=False, line_color='gray')\n",
    "py = sym.plot(y, (t, -5, 5), ylim=[-0.2, 1.2], ylabel=r'$y(t)$', show=False)\n",
    "px.extend(py)\n",
    "px.show()"
   ]
  },
  {
   "cell_type": "markdown",
   "metadata": {},
   "source": [
    "**Excercise**\n",
    "\n",
    "* For what value $\\tau$ does the signal start at $t=0$?\n",
    "* Realize the temporal flipping by splitting it into two consecutive operations: (i) time-reversal and (ii) temporal shift."
   ]
  },
  {
   "cell_type": "markdown",
   "metadata": {
    "nbsphinx": "hidden"
   },
   "source": [
    "**Copyright**\n",
    "\n",
    "The notebook is provided as [Open Educational Resource](https://de.wikipedia.org/wiki/Open_Educational_Resources). Feel free to use the notebook for your own educational purposes. The text is licensed under [Creative Commons Attribution 4.0](https://creativecommons.org/licenses/by/4.0/), the code of the IPython examples under the [MIT license](https://opensource.org/licenses/MIT). Please attribute the work as follows: *Signals and Systems* by Sascha Spors."
   ]
  }
 ],
 "metadata": {
  "kernelspec": {
   "display_name": "Python 3",
   "language": "python",
   "name": "python3"
  },
  "language_info": {
   "codemirror_mode": {
    "name": "ipython",
    "version": 3
   },
   "file_extension": ".py",
   "mimetype": "text/x-python",
   "name": "python",
   "nbconvert_exporter": "python",
   "pygments_lexer": "ipython3",
   "version": "3.7.3"
  }
 },
 "nbformat": 4,
 "nbformat_minor": 1
}

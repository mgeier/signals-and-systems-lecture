{
 "cells": [
  {
   "cell_type": "markdown",
   "metadata": {
    "nbsphinx": "hidden"
   },
   "source": [
    "# The Laplace Transform\n",
    "\n",
    "*This Jupyter notebook is part of a [collection of notebooks](../index.ipynb) in the bachelors module Signals and Systems, Communications Engineering, Universität Rostock. Please direct questions and suggestions to [Sascha.Spors@uni-rostock.de](mailto:Sascha.Spors@uni-rostock.de).*"
   ]
  },
  {
   "cell_type": "markdown",
   "metadata": {},
   "source": [
    "## Summary of Properties, Theorems and Transforms\n",
    "\n",
    "The [properties](properties.ipynb), [theorems](theorems.ipynb) and transforms of the two-sided Laplace transform as derived in the previous sections are summarized in the following. The corresponding tables serve as a reference for the application of the Laplace transform in the theory of signals and systems. Please refer to the respective sections for details."
   ]
  },
  {
   "cell_type": "markdown",
   "metadata": {},
   "source": [
    "### Definition\n",
    "\n",
    "The two-sided Laplace transform and its inverse are defined as\n",
    "\n",
    "\\begin{align}\n",
    "X(s) &= \\int_{-\\infty}^{\\infty} x(t) \\, e^{- s t} \\; dt \\\\\n",
    "x(t) &= \\frac{1}{2 \\pi j} \\int_{\\sigma - j \\infty}^{\\sigma + j \\infty} X(s) \\, e^{s t} \\; ds\n",
    "\\end{align}\n",
    "\n",
    "where $s \\in \\text{ROC} \\{ x(t) \\}$."
   ]
  },
  {
   "cell_type": "markdown",
   "metadata": {},
   "source": [
    "### Properties and Theorems\n",
    "\n",
    "The properties and theorems of the two-sided Laplace transform are given as\n",
    "\n",
    "| &#65279;  | $x(t)$ | $X(s) = \\mathcal{L} \\{ x(t) \\}$ | ROC |\n",
    "|:---|:---:|:---:|:---|\n",
    "| [Linearity](properties.ipynb#Linearity) | $A \\, x_1(t) + B \\, x_2(t)$ | $A \\, X_1(s) + B \\, X_2(s)$ | $\\supseteq \\text{ROC}\\{x_1(t)\\} \\cap \\text{ROC}\\{x_2(t)\\}$ |\n",
    "| [Real-valued signal](properties.ipynb#Symmetry-for-Real-Valued-Signals) | $x(t) = x^*(t)$ | $X(s) = X^*(s^*)$ | | \n",
    "| [Scaling](theorems.ipynb#Temporal-Scaling-Theorem) | $x(a t)$ | $\\frac{1}{\\lvert a \\rvert} X\\left( \\frac{s}{a} \\right)$ | $s: \\frac{s}{a} \\in \\text{ROC}\\{x(t)\\}$ |\n",
    "| [Convolution](theorems.ipynb#Convolution-Theorem) | $x(t) * h(t)$ | $X(s) \\cdot H(s)$ | $\\supseteq \\text{ROC}\\{x(t)\\} \\cap \\text{ROC}\\{h(t)\\}$ |\n",
    "| [Shift](theorems.ipynb#Temporal-Shift-Theorem) | $x(t - \\tau)$ | $e^{-s \\tau} \\cdot X(s)$ | $\\text{ROC}\\{x(t)\\}$ |\n",
    "| [Differentiation](theorems.ipynb#Differentiation-Theorem) (causal signal) | $\\frac{d}{dt} x(t)$ | $s \\cdot X(s) - x(0+)$ | $\\supseteq \\text{ROC}\\{x(t)\\}$ |\n",
    "| [Integration](theorems.ipynb#Integration-Theorem) | $\\int_{-\\infty}^{t} x(t) \\; dt$ | $\\frac{1}{s} \\cdot X(s)$ | $\\supseteq \\text{ROC}\\{x(t)\\} \\cap \\{s: \\Re \\{s\\} > 0 \\}$ |\n",
    "| [Modulation](theorems.ipynb#Modulation-Theorem) | $e^{s_0 t}\\cdot x(t)$ | $X(s - s_0)$ | $s: s - \\Re \\{s_0\\} \\in \\text{ROC}\\{x(t)\\}$ |\n",
    "\n",
    "where $A, B, s_0 \\in \\mathbb{C}$, $a \\in \\mathbb{R} \\setminus \\{0\\}$ and $\\tau \\in \\mathbb{R}$."
   ]
  },
  {
   "cell_type": "markdown",
   "metadata": {
    "collapsed": true
   },
   "source": [
    "### Selected Transforms\n",
    "\n",
    "Two-sided Laplace transforms which are frequently used are given as\n",
    "\n",
    "| $x(t)$ | $X(s) = \\mathcal{L} \\{ x(t) \\}$ | ROC |\n",
    "|:---:|:---:|:---|\n",
    "| $\\delta(t)$ | $1$ | $\\mathbb{C}$ |\n",
    "| $\\epsilon(t)$ | $\\frac{1}{s}$ | $\\Re \\{s\\} > 0$ |\n",
    "| $t \\epsilon(t)$ | $\\frac{1}{s^2}$ | $\\Re \\{s\\} > 0$ |\n",
    "| $e^{- s_0 t} \\epsilon(t)$ | $\\frac{1}{s + s_0}$ | $\\Re \\{s\\} > \\text{Re}\\{-s_0\\}$ |\n",
    "| $\\sin(\\omega_0 t) \\epsilon(t)$ | $\\frac{\\omega_0}{s^2 + \\omega_0^2}$ | $\\Re \\{s\\} > 0$ |\n",
    "| $\\cos(\\omega_0 t) \\epsilon(t)$ | $\\frac{s}{s^2 + \\omega_0^2}$ | $\\Re \\{s\\} > 0$ |\n",
    "| $t^n e^{-s_0 t} \\epsilon(t)$ | $\\frac{n!}{(s+s_0)^{n+1}}$ | $\\Re \\{s\\} > \\text{Re}\\{-s_0\\}$ |\n",
    "| $e^{-s_0 t} \\cos(\\omega_0 t) \\epsilon(t)$ | $\\frac{s + s_0}{(s+s_0)^2 + \\omega_0^2}$ | $\\Re \\{s\\} > \\Re \\{-s_0\\}$ |\n",
    "| $e^{-s_0 t} \\sin(\\omega_0 t) \\epsilon(t)$ | $\\frac{\\omega_0}{(s+s_0)^2 + \\omega_0^2}$ | $\\Re \\{s\\} > \\Re \\{-s_0\\}$ |\n",
    "| $t \\cos(\\omega_0 t) \\epsilon(t)$ | $\\frac{s^2 - \\omega_0^2}{(s^2 + \\omega_0^2)^2}$ | $\\Re \\{s\\} > 0$ |\n",
    "| $t \\sin(\\omega_0 t) \\epsilon(t)$ | $\\frac{2 \\omega_0 s}{(s^2 + \\omega_0^2)^2}$ | $\\Re \\{s\\} > 0$ |\n",
    "\n",
    "where $s_0 \\in \\mathbb{C}$, $\\omega_0 \\in \\mathbb{R}$ and $n \\in \\mathbb{N}$. More one- and two-sided transforms may be found in the literature or [online](https://en.wikipedia.org/wiki/List_of_Laplace_transforms)."
   ]
  },
  {
   "cell_type": "markdown",
   "metadata": {
    "nbsphinx": "hidden"
   },
   "source": [
    "**Copyright**\n",
    "\n",
    "The notebooks are provided as [Open Educational Resource](https://de.wikipedia.org/wiki/Open_Educational_Resources). Feel free to use the notebooks for your own educational purposes. The text is licensed under [Creative Commons Attribution 4.0](https://creativecommons.org/licenses/by/4.0/), the code of the IPython examples under the [MIT license](https://opensource.org/licenses/MIT). Please attribute the work as follows: *Lecture Notes on Signals and Systems* by Sascha Spors."
   ]
  }
 ],
 "metadata": {
  "kernelspec": {
   "display_name": "Python 3",
   "language": "python",
   "name": "python3"
  },
  "language_info": {
   "codemirror_mode": {
    "name": "ipython",
    "version": 3
   },
   "file_extension": ".py",
   "mimetype": "text/x-python",
   "name": "python",
   "nbconvert_exporter": "python",
   "pygments_lexer": "ipython3",
   "version": "3.7.3"
  }
 },
 "nbformat": 4,
 "nbformat_minor": 1
}

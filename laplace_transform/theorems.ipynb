{
 "cells": [
  {
   "cell_type": "markdown",
   "metadata": {
    "nbsphinx": "hidden"
   },
   "source": [
    "# The Laplace Transform\n",
    "\n",
    "*This Jupyter notebook is part of a [collection of notebooks](../index.ipynb) in the bachelors module Signals and Systems, Communications Engineering, Universität Rostock. Please direct questions and suggestions to [Sascha.Spors@uni-rostock.de](mailto:Sascha.Spors@uni-rostock.de).*"
   ]
  },
  {
   "cell_type": "markdown",
   "metadata": {},
   "source": [
    "## Theorems\n",
    "\n",
    "The theorems of the Laplace transformation relate basic time-domain operations to their equivalents in the Laplace domain. They are of use for the computation of Laplace transforms of signals composed from modified [standard signals](../continuous_signals/standard_signals.ipynb) and for the computation of the response of systems to an input signal. The theorems allow further to predict the consequences of modifying a signal or system by certain operations."
   ]
  },
  {
   "cell_type": "markdown",
   "metadata": {},
   "source": [
    "### Temporal Scaling Theorem\n",
    "\n",
    "A signal $x(t)$ is given for which the Laplace transform $X(s) = \\mathcal{L} \\{ x(t) \\}$ exists. The Laplace transform of the [temporally scaled signal](../continuous_signals/operations.ipynb#Temporal-Scaling) $x(a t)$ with $a \\in \\mathbb{R} \\setminus \\{0\\}$ reads\n",
    "\n",
    "\\begin{equation}\n",
    "\\mathcal{L} \\{ x(a t) \\} = \\frac{1}{|a|} \\cdot X \\left( \\frac{s}{a} \\right)\n",
    "\\end{equation}\n",
    "\n",
    "The Laplace transformation of a temporally scaled signal is given by weighting the inversely scaled Laplace transform of the unscaled signal with $\\frac{1}{|a|}$. The scaling of the Laplace transform can be interpreted as a scaling of the complex $s$-plane. The region of convergence (ROC) of the temporally scaled signal $x(a t)$ is consequently the inversely scaled ROC of the unscaled signal $x(t)$\n",
    "\n",
    "\\begin{equation}\n",
    "\\text{ROC} \\{ x(a t) \\} = \\left\\{ s: \\frac{s}{a} \\in \\text{ROC} \\{ x(t) \\} \\right\\}\n",
    "\\end{equation}\n",
    "\n",
    "Above relation is known as scaling theorem of the Laplace transform. The scaling theorem can be proven by introducing the scaled signal $x(a t)$ into the definition of the Laplace transformation\n",
    "\n",
    "\\begin{equation}\n",
    "\\mathcal{L} \\{ x(a t) \\} = \\int_{-\\infty}^{\\infty} x(a t) \\, e^{- s t} \\; dt = \\frac{1}{|a|} \\int_{-\\infty}^{\\infty} x(t') \\, e^{-\\frac{s}{a} t'} \\; dt' = \\frac{1}{|a|} \\cdot X \\left( \\frac{s}{a} \\right)\n",
    "\\end{equation}\n",
    "\n",
    "where the substitution $t' = a t$ was used. Note that a negative value of $a$ would result in a reversal of the integration limits. In this case a second reversal of the integration limits together with the sign of the integration element $d t'= a \\, dt$ was consolidated into the absolute value of $a$."
   ]
  },
  {
   "cell_type": "markdown",
   "metadata": {},
   "source": [
    "### Convolution Theorem\n",
    "\n",
    "The convolution theorem states that the Laplace transform of the convolution of two signals $x(t)$ and $y(t)$ is equal to the scalar multiplication of their Laplace transforms $X(s)$ and $Y(s)$\n",
    "\n",
    "\\begin{equation}\n",
    "\\mathcal{L} \\{ x(t) * y(t) \\} = X(s) \\cdot Y(s)\n",
    "\\end{equation}\n",
    "\n",
    "under the assumption that both Laplace transforms $X(s) = \\mathcal{L} \\{ x(t) \\}$ and $Y(s) = \\mathcal{L} \\{ y(t) \\}$ exist, respectively. The ROC of the convolution $x(t) * y(t)$ includes at least the intersection of the ROCs of $x(t)$ and $y(t)$\n",
    "\n",
    "\\begin{equation}\n",
    "\\text{ROC} \\{ x(t) * y(t) \\} \\supseteq \\text{ROC} \\{ x(t) \\} \\cap \\text{ROC} \\{ y(t) \\}\n",
    "\\end{equation}\n",
    "\n",
    "\n",
    "The theorem can be proven by introducing the [definition of the convolution](../systems_time_domain/convolution.ipynb) into the [definition of the Laplace transform](definition.ipynb) and changing the order of integration\n",
    "\n",
    "\\begin{align}\n",
    "\\mathcal{L} \\{ x(t) * y(t) \\} &= \\int_{-\\infty}^{\\infty} \\left( \\int_{-\\infty}^{\\infty} x(\\tau) \\cdot y(t-\\tau) \\; d \\tau \\right) e^{-s t} \\; dt \\\\\n",
    "&= \\int_{-\\infty}^{\\infty} \\left( \\int_{-\\infty}^{\\infty} y(t-\\tau) \\, e^{-s t} \\; dt \\right) x(\\tau) \\; d\\tau \\\\\n",
    "&= Y(s) \\cdot \\int_{-\\infty}^{\\infty} x(\\tau) \\, e^{-s \\tau} \\; d \\tau \\\\\n",
    "&= Y(s) \\cdot X(s)\n",
    "\\end{align}\n",
    "\n",
    "\n",
    "\n",
    "The convolution theorem is very useful in the context of linear time-invariant (LTI) systems. The output signal $y(t)$ of an LTI system is given as the convolution of the input signal $x(t)$ with the impulse response $h(t)$. The signals can be represented either in the time or Laplace domain. This leads to the following equivalent representations of an LTI system in the time and Laplace domain, respectively\n",
    "\n",
    "![Representation of an LTI system in the time- and Laplace-domain](LTI_system_Laplace_domain.png)\n",
    "\n",
    "Calculation of the system response by transforming the problem into the Laplace domain can be beneficial since this replaces the evaluation of the convolution integral by a scalar multiplication. In many cases this procedure simplifies the calculation of the system response significantly. A prominent example is the [analysis of a passive electrical network](network_analysis.ipynb). The convolution theorem can also be useful to derive an unknown Laplace transform. The key is here to express the signal as convolution of two other signals for which the Laplace transforms are known. This is illustrated by the following example."
   ]
  },
  {
   "cell_type": "markdown",
   "metadata": {},
   "source": [
    "**Example**\n",
    "\n",
    "The Laplace transform of the convolution of a causal cosine signal $\\epsilon(t) \\cdot \\cos(\\omega_0 t)$ with a causal sine signal $\\epsilon(t) \\cdot \\sin(\\omega_0 t)$ is derived by the convolution theorem\n",
    "\n",
    "\\begin{equation}\n",
    "\\mathcal{L} \\{ \\epsilon(t) \\cdot ( \\cos(\\omega_0 t) * \\sin(\\omega_0 t) \\} \n",
    "= \\frac{s}{s^2 + \\omega_0^2} \\cdot \\frac{\\omega_0}{s^2 + \\omega_0^2}\n",
    "= \\frac{\\omega_0 s}{(s^2 + \\omega_0^2)^2}\n",
    "\\end{equation}\n",
    "\n",
    "where the [Laplace transforms of the causal cosine and sine signals](properties.ipynb#Transformation-of-the-cosine-and-sine-signal) were used. The ROC of the causal cosine and sine signal is $\\Re \\{ s \\} > 0$. The ROC for their convolution is also $\\Re \\{ s \\} > 0$, since no poles and zeros cancel out. Above Laplace transform has one zero $s_{00} = 0$, and two poles of second degree $s_{\\infty 0} = s_{\\infty 1} = j \\omega_0$ and $s_{\\infty 2} = s_{\\infty 3} = - j \\omega_0$.\n",
    "\n",
    "This example is evaluated numerically in the following. First the convolution of the causal cosine and sine signal is computed"
   ]
  },
  {
   "cell_type": "code",
   "execution_count": null,
   "metadata": {},
   "outputs": [],
   "source": [
    "%matplotlib inline\n",
    "import sympy as sym\n",
    "sym.init_printing()\n",
    "\n",
    "t, tau = sym.symbols('t tau', real=True)\n",
    "s = sym.symbols('s', complex=True)\n",
    "w0 = sym.symbols('omega0', positive=True)\n",
    "\n",
    "x = sym.integrate(sym.cos(w0*tau) * sym.sin(w0*(t-tau)), (tau, 0, t))\n",
    "x = x.doit()\n",
    "x"
   ]
  },
  {
   "cell_type": "markdown",
   "metadata": {},
   "source": [
    "For the sake of illustration let's plot the signal for $\\omega_0 = 1$"
   ]
  },
  {
   "cell_type": "code",
   "execution_count": null,
   "metadata": {},
   "outputs": [],
   "source": [
    "sym.plot(x.subs(w0, 1), (t, 0, 50), xlabel=r'$t$', ylabel=r'$x(t)$');"
   ]
  },
  {
   "cell_type": "markdown",
   "metadata": {},
   "source": [
    "The Laplace transform is computed"
   ]
  },
  {
   "cell_type": "code",
   "execution_count": null,
   "metadata": {},
   "outputs": [],
   "source": [
    "X, a, cond = sym.laplace_transform(x, t, s)\n",
    "X, a"
   ]
  },
  {
   "cell_type": "markdown",
   "metadata": {},
   "source": [
    "which exists for $\\Re \\{ s \\} > 0$. Its zeros are given as"
   ]
  },
  {
   "cell_type": "code",
   "execution_count": null,
   "metadata": {},
   "outputs": [],
   "source": [
    "sym.roots(sym.numer(X), s)"
   ]
  },
  {
   "cell_type": "markdown",
   "metadata": {},
   "source": [
    "and its poles as"
   ]
  },
  {
   "cell_type": "code",
   "execution_count": null,
   "metadata": {},
   "outputs": [],
   "source": [
    "sym.roots(sym.denom(X), s)"
   ]
  },
  {
   "cell_type": "markdown",
   "metadata": {},
   "source": [
    "### Temporal Shift Theorem\n",
    "\n",
    "The [temporal shift of a signal](../continuous_signals/operations.ipynb#Temporal-Shift) $x(t - \\tau)$ for $\\tau \\in \\mathbb{R}$ can be expressed by the convolution of the signal $x(t)$ with a shifted Dirac impulse\n",
    "\n",
    "\\begin{equation}\n",
    "x(t - \\tau) = x(t) * \\delta(t - \\tau)\n",
    "\\end{equation}\n",
    "\n",
    "This follows from the sifting property of the Dirac impulse. Applying a two-sided Laplace transform to the left- and right-hand side and exploiting the convolution theorem yields\n",
    "\n",
    "\\begin{equation}\n",
    "\\mathcal{L} \\{ x(t - \\tau) \\} = X(s) \\cdot e^{- s \\tau}\n",
    "\\end{equation}\n",
    "\n",
    "where $X(s) = \\mathcal{L} \\{ x(t) \\}$ is assumed to exist. Note that $\\mathcal{L} \\{ \\delta(t - \\tau) \\} = e^{- s \\tau}$ can be derived from the definition of the two-sided Laplace transform together with the sifting property of the Dirac impulse. The Laplace transform of a shifted signal is given by multiplying the Laplace transform of the original signal with $e^{- s \\tau}$. The ROC does not change\n",
    "\n",
    "\\begin{equation}\n",
    "\\text{ROC} \\{ x(t-\\tau) \\} = \\text{ROC} \\{ x(t) \\}\n",
    "\\end{equation}\n",
    "\n",
    "This result is known as shift theorem of the Laplace transform. For a causal signal $x(t)$ and $\\tau > 0$ the shift theorem of the one-sided Laplace transform is equal to the shift theorem of the two-sided transform."
   ]
  },
  {
   "cell_type": "markdown",
   "metadata": {},
   "source": [
    "#### Transformation of the rectangular signal\n",
    "\n",
    "The Laplace transform of the [rectangular signal](../continuous_signals/standard_signals.ipynb#Rectangular-Signal) $x(t) = \\text{rect}(t)$ is derived by expressing it by the Heaviside signal\n",
    "\n",
    "\\begin{equation}\n",
    "\\text{rect}(t) = \\epsilon \\left(t + \\frac{1}{2} \\right) - \\epsilon \\left(t - \\frac{1}{2} \\right)\n",
    "\\end{equation}\n",
    "\n",
    "Applying the shift theorem to the [transform of the Heaviside signal](definition.ipynb#Transformation-of-the-Heaviside-Signal) and the linearity of the Laplace transform yields\n",
    "\n",
    "\\begin{equation}\n",
    "\\mathcal{L} \\{ \\text{rect}(t) \\} = \\frac{1}{s} e^{s \\frac{1}{2}} - \\frac{1}{s} e^{- s \\frac{1}{2}} = \\frac{\\sinh \\left( \\frac{s}{2} \\right) }{\\frac{s}{2}}\n",
    "\\end{equation}\n",
    "\n",
    "where $\\sinh(\\cdot)$ denotes the [hyperbolic sine function](https://en.wikipedia.org/wiki/Hyperbolic_function#Sinh). The ROC of the Heaviside signal is given as $\\Re \\{ s \\} > 0$. Applying [l'Hopitals rule](https://en.wikipedia.org/wiki/L'H%C3%B4pital's_rule) the pole at $s=0$ can be disregarded leading to\n",
    "\n",
    "\\begin{equation}\n",
    "\\text{ROC} \\{ \\text{rect}(t) \\} = \\mathbb{C}\n",
    "\\end{equation}\n",
    "\n",
    "For illustration, the magnitude of the Laplace transform $|X(s)|$ is plotted in the $s$-plane, as well as $X(\\sigma)$ and $X(j \\omega)$ for the real and imaginary part of the complex frequency $s = \\sigma + j \\omega$."
   ]
  },
  {
   "cell_type": "code",
   "execution_count": null,
   "metadata": {},
   "outputs": [],
   "source": [
    "sigma, omega = sym.symbols('sigma omega')\n",
    "X = sym.sinh(s/2)*2/s\n",
    "\n",
    "sym.plotting.plot3d(abs(X.subs(s, sigma+sym.I*omega)), (sigma, -5, 5), (omega, -20, 20),\n",
    "                    xlabel=r'$\\Re\\{s\\}$', ylabel=r'$\\Im\\{s\\}$', title=r'$|X(s)|$')\n",
    "\n",
    "sym.plot(X.subs(s, sigma) , (sigma, -5, 5), xlabel=r'$\\Re\\{s\\}$', ylabel=r'$X(s)$', ylim=(0, 3))\n",
    "\n",
    "sym.plot(X.subs(s, sym.I*omega) , (omega, -20, 20), xlabel=r'$\\Im\\{s\\}$', ylabel=r'$X(s)$');"
   ]
  },
  {
   "cell_type": "markdown",
   "metadata": {},
   "source": [
    "**Exercise**\n",
    "\n",
    "* Derive the Laplace transform $X(s) = \\mathcal{L} \\{ x(t) \\}$ of the causal rectangular signal $x(t) = \\text{rect} (a t - \\frac{1}{2 a})$\n",
    "* Derive the Laplace transform of the [triangular signal](../fourier_transform/theorems.ipynb#Transformation-of-the-triangular-signal) $x(t) = \\Lambda(a t)$ with $a \\in \\mathbb{R} \\setminus \\{0\\}$"
   ]
  },
  {
   "cell_type": "markdown",
   "metadata": {},
   "source": [
    "### Differentiation Theorem\n",
    "\n",
    "Derivatives of signals are the fundamental operations of differential equations. Ordinary differential equations (ODEs) with constant coefficients play an important role in the theory of time-invariant (LTI) systems. Consequently, the representation of the derivative of a signal in the Laplace domain is of special interest."
   ]
  },
  {
   "cell_type": "markdown",
   "metadata": {},
   "source": [
    "#### Two-sided transform\n",
    "\n",
    "A differentiable signal $x(t)$ whose temporal derivative $\\frac{d x(t)}{dt}$ exists is given. Using the [derivation property of the Dirac impulse](../continuous_signals/standard_signals.ipynb#Dirac-Impulse), the derivative of the signal can be expressed by the convolution\n",
    "\n",
    "\\begin{equation}\n",
    "\\frac{d x(t)}{dt} = \\frac{d \\delta(t)}{dt} * x(t)\n",
    "\\end{equation}\n",
    "\n",
    "Applying a two-sided Laplace transformation to the left- and right-hand side together with the [convolution theorem](#Convolution-Theorem) yields the Laplace transform of the derivative of $x(t)$\n",
    "\n",
    "\\begin{equation}\n",
    "\\mathcal{L} \\left\\{ \\frac{d x(t)}{dt} \\right\\} = s \\cdot X(s)\n",
    "\\end{equation}\n",
    "\n",
    "where $X(s) = \\mathcal{L} \\{ x(t) \\}$. The two-sided Laplace transform $\\mathcal{L} \\{ \\frac{d \\delta(t)}{dt} \\} = s$ can be derived by applying the definition of the Laplace transform together with the derivation property of the Dirac impulse. The ROC is given as a superset of the ROC for $x(t)$\n",
    "\n",
    "\\begin{equation}\n",
    "\\text{ROC} \\left\\{ \\frac{d x(t)}{dt} \\right\\} \\supseteq \\text{ROC} \\{ x(t) \\}\n",
    "\\end{equation}\n",
    "\n",
    "due to the zero at $s=0$ which may cancel out a pole.\n",
    "\n",
    "Above result is known as differentiation theorem of the two-sided Laplace transform. It states that the differentiation of a signal in the time domain is equivalent to a multiplication of its spectrum by $s$."
   ]
  },
  {
   "cell_type": "markdown",
   "metadata": {},
   "source": [
    "#### One-sided transform\n",
    "\n",
    "Many practical signals and systems are causal, hence $x(t) = 0$ for $t < 0$. A causal signal is potentially discontinuous for $t=0$. The direct application of above result for the two-sided Laplace transform is not possible since it assumes that the signal is differentiable for every time $t$. The potential discontinuity at $t=0$ has to be considered explicitly for the derivation of the differentiation theorem for the one-sided Laplace transform [[Girod et al.](index.ipynb#Literature)]\n",
    "\n",
    "\\begin{equation}\n",
    "\\mathcal{L} \\left\\{ \\frac{d x(t)}{dt} \\right\\} = s \\cdot X(s) - x(0+)\n",
    "\\end{equation}\n",
    "\n",
    "where $x(0+) := \\lim_{\\epsilon \\to 0} x(0+\\epsilon)$ denotes the right sided limit value of $x(t)$ for $t=0$. The ROC is given as a superset of the ROC of $x(t)$\n",
    "\n",
    "\\begin{equation}\n",
    "\\text{ROC} \\left\\{ \\frac{d x(t)}{dt} \\right\\} \\supseteq \\text{ROC} \\{ x(t) \\}\n",
    "\\end{equation}\n",
    "\n",
    "due to the zero at $s=0$ which may cancel out a pole. The one-sided Laplace transform of a causal signal is equal to its two-sided transform. Above result holds therefore also for the two-sided transform of a causal signal.\n",
    "\n",
    "The main application of the differentiation theorem is the transformation and solution of differential equations under consideration of initial values. Another application area is the derivation of transforms of signals which can be expressed as derivatives of other signals."
   ]
  },
  {
   "cell_type": "markdown",
   "metadata": {},
   "source": [
    "### Integration Theorem\n",
    "\n",
    "An integrable signal $x(t)$ for which the integral $\\int_{-\\infty}^{t} x(\\tau) \\; d\\tau$ exists is given. The integration can be represented as convolution with the rectangular signal $\\epsilon(t)$\n",
    "\n",
    "\\begin{equation}\n",
    "\\int_{-\\infty}^{t} x(\\tau) \\; d\\tau = \\int_{-\\infty}^{\\infty} x(\\tau) \\cdot \\epsilon(t - \\tau) \\; d\\tau = \\epsilon(t) * x(t)\n",
    "\\end{equation}\n",
    "\n",
    "as illustrated below\n",
    "\n",
    "![Representation of an integration as convolution](integration_as_convolution.png)\n",
    "\n",
    "Two-sided Laplace transformation of the left- and right-hand side of above equation, application of the convolution theorem and using the Laplace transform of the Heaviside signal $\\epsilon(t)$ yields\n",
    "\n",
    "\\begin{equation}\n",
    "\\mathcal{L} \\left\\{ \\int_{-\\infty}^{t} x(\\tau) \\; d\\tau \\right\\} \n",
    "= \\frac{1}{s} \\cdot X(s)\n",
    "\\end{equation}\n",
    "\n",
    "The ROC is given as a superset of the intersection of the ROC of $x(t)$ and the right $s$-half-plane\n",
    "\n",
    "\\begin{equation}\n",
    "\\text{ROC} \\left\\{ \\int_{-\\infty}^{t} x(\\tau) \\; d\\tau \\right\\} \\supseteq \\text{ROC} \\{ x(t) \\} \\cap \\{s : \\Re \\{ s \\} > 0\\}\n",
    "\\end{equation}\n",
    "\n",
    "due to the pole at $s=0$. This integration theorem holds also for the one-sided Laplace transform."
   ]
  },
  {
   "cell_type": "markdown",
   "metadata": {},
   "source": [
    "#### Transformation of the ramp signal\n",
    "\n",
    "The Laplace transform of the causal [ramp signal](https://en.wikipedia.org/wiki/Ramp_function) $t \\cdot \\epsilon(t)$ is derived by the integration theorem. The ramp signal can be expressed as integration over the Heaviside signal\n",
    "\n",
    "\\begin{equation}\n",
    "t \\cdot \\epsilon(t) = \\int_{-\\infty}^{t} \\tau \\cdot \\epsilon(\\tau) \\; d \\tau\n",
    "\\end{equation}\n",
    "\n",
    "Laplace transformation of the left- and right-hand side and application of the integration theorem together with the Laplace transform of the Heaviside signal yields\n",
    "\n",
    "\\begin{equation}\n",
    "\\mathcal{L} \\{ t \\cdot \\epsilon(t) \\} = \\frac{1}{s^2}\n",
    "\\end{equation}\n",
    "\n",
    "with\n",
    "\n",
    "\\begin{equation}\n",
    "\\text{ROC} \\{ t \\cdot \\epsilon(t) \\} = \\{s : \\Re \\{ s \\} > 0\\}\n",
    "\\end{equation}"
   ]
  },
  {
   "cell_type": "markdown",
   "metadata": {},
   "source": [
    "**Exercise**\n",
    "\n",
    "* Derive the Laplace transform $X(s) = \\mathcal{L} \\{ x(t) \\}$ of the signal $x(t) = t^n \\cdot \\epsilon(t)$ with $n \\geq 0$ by repeated application of the integration theorem.\n",
    "* Compare your result to the numerical result below. Note that $\\Gamma(n+1) = n!$ for $n \\in \\mathbb{N}$."
   ]
  },
  {
   "cell_type": "code",
   "execution_count": null,
   "metadata": {},
   "outputs": [],
   "source": [
    "n = sym.symbols('n', integer=True)\n",
    "\n",
    "X, a, cond = sym.laplace_transform(t**n, t, s)\n",
    "X, a, cond"
   ]
  },
  {
   "cell_type": "markdown",
   "metadata": {},
   "source": [
    "### Modulation Theorem\n",
    "\n",
    "The complex modulation of a signal $x(t)$ is defined as $e^{s_0 t} \\cdot x(t)$ with $s_0 \\in \\mathbb{C}$. The Laplace transform of a modulated signal is derived by introducing it into the definition of the two-sided Laplace transform\n",
    "\n",
    "\\begin{align}\n",
    "\\mathcal{L} \\left\\{ e^{s_0 t} \\cdot x(t) \\right\\} &=\n",
    "\\int_{-\\infty}^{\\infty} e^{s_0 t} x(t) \\, e^{-s t} \\; dt =\n",
    "\\int_{-\\infty}^{\\infty} x(t) \\, e^{- (s - s_0) t} \\; dt \\\\\n",
    "&= X(s-s_0)\n",
    "\\end{align}\n",
    "\n",
    "where $X(s) = \\mathcal{L} \\{ x(t) \\}$. Modulation of the signal $x(t)$ leads to a translation of the $s$-plane into the direction given by the complex value $s_0$. Consequently, the ROC is also shifted \n",
    "\n",
    "\\begin{equation}\n",
    "\\text{ROC} \\{ e^{s_0 t} \\cdot x(t) \\} = \\{s: s - \\Re \\{ s_0 \\} \\in \\text{ROC} \\{ x(t) \\} \\}\n",
    "\\end{equation}\n",
    "\n",
    "This relation is known as modulation theorem."
   ]
  },
  {
   "cell_type": "markdown",
   "metadata": {},
   "source": [
    "**Example**\n",
    "\n",
    "The Laplace transform of the signal $t^n \\cdot \\epsilon(t)$ \n",
    "\n",
    "\\begin{equation}\n",
    "\\mathcal{L} \\{ t^n \\cdot \\epsilon(t) \\} = \\frac{n!}{s^{n+1}}\n",
    "\\end{equation}\n",
    "\n",
    "for $\\Re \\{ s \\} > 0$ was derived in the previous example. This result can be extended to the class of signals $t^n e^{-s_0 t} \\epsilon(t)$ with $s_0 \\in \\mathbb{C}$ using the modulation theorem\n",
    "\n",
    "\\begin{equation}\n",
    "\\mathcal{L} \\{ t^n e^{-s_0 t} \\epsilon(t) \\} = \\frac{n!}{(s + s_0)^{n+1}} \\qquad \\text{for } \\Re \\{ s \\} > \\Re \\{ - s_0 \\}.\n",
    "\\end{equation}"
   ]
  },
  {
   "cell_type": "markdown",
   "metadata": {
    "nbsphinx": "hidden"
   },
   "source": [
    "**Copyright**\n",
    "\n",
    "The notebooks are provided as [Open Educational Resource](https://de.wikipedia.org/wiki/Open_Educational_Resources). Feel free to use the notebooks for your own educational purposes. The text is licensed under [Creative Commons Attribution 4.0](https://creativecommons.org/licenses/by/4.0/), the code of the IPython examples under the [MIT license](https://opensource.org/licenses/MIT). Please attribute the work as follows: *Lecture Notes on Signals and Systems* by Sascha Spors."
   ]
  }
 ],
 "metadata": {
  "kernelspec": {
   "display_name": "Python 3",
   "language": "python",
   "name": "python3"
  },
  "language_info": {
   "codemirror_mode": {
    "name": "ipython",
    "version": 3
   },
   "file_extension": ".py",
   "mimetype": "text/x-python",
   "name": "python",
   "nbconvert_exporter": "python",
   "pygments_lexer": "ipython3",
   "version": "3.5.2"
  }
 },
 "nbformat": 4,
 "nbformat_minor": 1
}

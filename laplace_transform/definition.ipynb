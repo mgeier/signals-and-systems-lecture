{
 "cells": [
  {
   "cell_type": "markdown",
   "metadata": {
    "nbsphinx": "hidden"
   },
   "source": [
    "# The Laplace Transform\n",
    "\n",
    "*This Jupyter notebook is part of a [collection of notebooks](../index.ipynb) in the bachelors module Signals and Systems, Comunications Engineering, Universität Rostock. Please direct questions and suggestions to [Sascha.Spors@uni-rostock.de](mailto:Sascha.Spors@uni-rostock.de).*"
   ]
  },
  {
   "cell_type": "markdown",
   "metadata": {},
   "source": [
    "## Definition\n",
    "\n",
    "The [Laplace transform](https://en.wikipedia.org/wiki/Laplace_transform), as the [Fourier transform](../fourier_transform/definition.ipynb), is an integral transform which represents a signal $x(t)$ in the frequency domain. Unlike the Fourier transform which uses the harmonic complex exponential function $e^{j \\omega t}$ with $\\omega \\in \\mathbb{R}$ as kernel, the Laplace transformation bases on the complex exponential function $e^{s t}$ with $s \\in \\mathbb{C}$ as kernel. The Laplace transform is named after its discoverer [Pierre-Simon Laplace](https://en.wikipedia.org/wiki/Pierre-Simon_Laplace)."
   ]
  },
  {
   "cell_type": "markdown",
   "metadata": {},
   "source": [
    "### Two-Sided Laplace Transform\n",
    "\n",
    "The two-sided (or bilateral) Laplace transform is defined as\n",
    "\n",
    "\\begin{equation}\n",
    "X(s) = \\int_{-\\infty}^{\\infty} x(t) \\, e^{- s t} \\; dt\n",
    "\\end{equation}\n",
    "\n",
    "where $X(s) = \\mathcal{L} \\{ x(t) \\}$ denotes the Laplace transform of $x(t)$. A complex signal $x(t) \\in \\mathbb{C}$ with real-valued dependent variable $t \\in \\mathbb{R}$ is represented by its complex valued Laplace transform $X(s) \\in \\mathbb{C}$ with complex dependent variable $s \\in \\mathbb{C}$. The variable $s$ can be interpreted as [complex frequency](../continuous_signals/standard_signals.ipynb#Complex-Exponential-Signal) $s = \\sigma + j \\omega$ with $\\sigma, \\omega \\in \\mathbb{R}$.\n",
    "\n",
    "Whether a Laplace transform $X(s) = \\mathcal{L} \\{ x(t) \\}$ exists depends on the complex frequency $s$ and the signal $x(t)$ itself. All values $s$ for which the Laplace transform converges form a [*region of convergence*](https://en.wikipedia.org/wiki/Radius_of_convergence) (ROC). The Laplace transforms of two different signals may differ only with respect to the ROC. Consequently, the ROC needs to be explicitly given for unique inversion of the Laplace transform."
   ]
  },
  {
   "cell_type": "markdown",
   "metadata": {},
   "source": [
    "### One-Sided Laplace Transform\n",
    "\n",
    "Causal signals play an important role in the theory of signals and system. For a causal signal $x(t) = 0$ for $t <0$, the relation $x(t) = x(t) \\cdot \\epsilon(t)$ holds. Introducing this into the definition of the two-sided Laplace transformation results in\n",
    "\n",
    "\\begin{equation}\n",
    "X(s) = \\int_{-\\infty}^{\\infty} x(t) \\cdot \\epsilon(t) \\, e^{- s t} \\; dt = \\int_{0}^{\\infty} x(t) \\, e^{- s t} \\; dt\n",
    "\\end{equation}\n",
    "\n",
    "This motivates the definition of the one-sided Laplace transform\n",
    "\n",
    "\\begin{equation}\n",
    "X(s) = \\int_{0}^{\\infty} x(t) \\, e^{- s t} \\; dt\n",
    "\\end{equation}\n",
    "\n",
    "In the literature both the one- and two-sided Laplace transform are termed as Laplace transform. For causal signals both give the same result."
   ]
  },
  {
   "cell_type": "markdown",
   "metadata": {},
   "source": [
    "### Transformation of the Dirac Impulse\n",
    "\n",
    "The transform $\\mathcal{L} \\{ \\delta(t) \\}$ of the [Dirac impulse](../continuous_signals/standard_signals.ipynb#Dirac-Impulse) is derived by introducing $\\delta(t)$ into the definition of the two-sided Laplace transform and exploiting the sifting property of the Dirac delta function\n",
    "\n",
    "\\begin{equation}\n",
    "\\mathcal{L} \\{ \\delta(t) \\} = \\int_{-\\infty}^{\\infty} \\delta(t) \\, e^{- s t} dt = 1\n",
    "\\end{equation}\n",
    "for $s \\in \\mathbb{C}$. The ROC covers the entire complex plane.\n",
    "\n",
    "The transform of the Dirac impulse is equal to one. Hence, all complex frequencies $s$ are present with equal weight. This is an important property in the theory of signals and systems, since the Dirac impulse is used to characterize linear time-invariant (LTI) systems by their [impulse response](../systems_time_domain/impulse_response.ipynb) $h(t) = \\mathcal{H} \\{ \\delta(t) \\}$."
   ]
  },
  {
   "cell_type": "markdown",
   "metadata": {},
   "source": [
    "**Example**\n",
    "\n",
    "The Laplace transform of the Dirac impulse can be derived in `SymPy` by direct evaluation of above integral"
   ]
  },
  {
   "cell_type": "code",
   "execution_count": null,
   "metadata": {},
   "outputs": [],
   "source": [
    "%matplotlib inline\n",
    "import sympy as sym\n",
    "sym.init_printing()\n",
    "\n",
    "t = sym.symbols('t', real=True)\n",
    "s = sym.symbols('s', complex=True)\n",
    "\n",
    "X = sym.integrate(sym.DiracDelta(t)*sym.exp(-s*t), (t, -sym.oo, sym.oo))\n",
    "X"
   ]
  },
  {
   "cell_type": "markdown",
   "metadata": {},
   "source": [
    "**Exercise**\n",
    "\n",
    "* Derive the two-sided Laplace transform of a shifted Dirac impulse $\\delta(t - \\tau)$ either by manual evaluation of the integral or by modification of above example.\n",
    "\n",
    "* Derive the one-sided Laplace transform of a shifted Dirac impulse $\\delta(t - \\tau)$. Hint: Differentiate between the cases $\\tau < 0$ and $\\tau > 0$."
   ]
  },
  {
   "cell_type": "markdown",
   "metadata": {},
   "source": [
    "### Transformation of the Causal Complex Exponential Signal\n",
    "\n",
    "The transform $X(s) = \\mathcal{L} \\{ x(t) \\}$ of the causal complex exponential signal\n",
    "\n",
    "\\begin{equation}\n",
    "x(t) = \\epsilon(t) \\cdot e^{-s_0 t}\n",
    "\\end{equation}\n",
    "\n",
    "with complex frequency $s_0 \\in \\mathbb{C}$ is derived by evaluation of the definition of the one-sided Laplace transform\n",
    "\n",
    "\\begin{align}\n",
    "X(s) &= \\int_{0}^{\\infty} e^{-s_0 t} \\cdot e^{-s t} \\; dt = \\frac{-e^{-(s+s_0)t}}{s+s_0} \\, \\bigg\\vert_{0}^{\\infty} = \\frac{-1}{s+s_0} \\left[ \\lim_{t \\to \\infty} \\left( e^{- (s+s_0) t} \\right) -1 \\right] \\\\\n",
    "&= \\frac{1}{s + s_0}\n",
    "\\end{align}\n",
    "\n",
    "The Laplace transform converges only for $\\Re \\{ s + s_0 \\} > 0$. Hence, the ROC is given as\n",
    "\n",
    "\\begin{equation}\n",
    "\\Re \\{ s \\} > \\Re \\{ - s_0 \\} \n",
    "\\end{equation}\n",
    "\n",
    "Combining above results, the transformation of the causal complex exponential signal reads\n",
    "\n",
    "\\begin{equation}\n",
    "\\mathcal{L} \\{ \\epsilon(t) \\cdot e^{-s_0 t} \\} = \\frac{1}{s + s_0} \\qquad \\text{for } \\Re \\{ s \\} > \\Re \\{ - s_0 \\}\n",
    "\\end{equation}"
   ]
  },
  {
   "cell_type": "markdown",
   "metadata": {},
   "source": [
    "**Example**\n",
    "\n",
    "In `SymPy` the [Laplace transform](http://docs.sympy.org/latest/modules/integrals/integrals.html?highlight=laplace#sympy.integrals.transforms.laplace_transform) is defined as one-sided transformation. The function is utilized in the following to calculate the transform of the causal complex exponential signal."
   ]
  },
  {
   "cell_type": "code",
   "execution_count": null,
   "metadata": {},
   "outputs": [],
   "source": [
    "s0 = sym.symbols('s0', complex=True)\n",
    "\n",
    "X, a, cond = sym.laplace_transform(sym.exp(-s0*t), t, s)\n",
    "X, a, cond"
   ]
  },
  {
   "cell_type": "markdown",
   "metadata": {},
   "source": [
    "The function returns three results. Its first element is the Laplace transform $X(s)$, the second element $a$ is the half-plane of convergence with $\\Re \\{ s \\} > a$ the third element are auxiliary convergence conditions."
   ]
  },
  {
   "cell_type": "markdown",
   "metadata": {},
   "source": [
    "### Transformation of the Heaviside Signal\n",
    "\n",
    "The Laplace transform of the [Heaviside signal](../continuous_signals/standard_signals.ipynb#Heaviside-Signal) is derived from above transform of the causal complex exponential signal $\\epsilon(t) \\cdot e^{-s_0 t}$ by setting $s_0 = 0$\n",
    "\n",
    "\\begin{equation}\n",
    "\\mathcal{L} \\{ \\epsilon(t) \\} = \\frac{1}{s} \\qquad \\text{for } \\Re \\{ s \\} > 0\n",
    "\\end{equation}"
   ]
  },
  {
   "cell_type": "markdown",
   "metadata": {},
   "source": [
    "## Convergence\n",
    "\n",
    "A sufficient but not necessary condition for the existence of the Laplace transform $X(s) = \\mathcal{L} \\{ x(t) \\}$ of a given signal $x(t)$ is\n",
    "\n",
    "\\begin{equation}\n",
    "\\int_{-\\infty}^{\\infty} | x(t) \\cdot e^{- \\sigma t} | \\; dt < \\infty\n",
    "\\end{equation}\n",
    "\n",
    "where $\\sigma = \\Re\\{ s \\}$ denotes the real part of the complex frequency $s = \\sigma + j \\omega$ of the Laplace transform. Formally the signal $x(t)$ has to be a [locally integrable function](https://en.wikipedia.org/wiki/Locally_integrable_function).\n",
    "\n",
    "The imaginary part $\\omega = \\Im \\{ s \\}$ of the complex frequency $s$ has no effect in terms of convergence. Consequently, the ROC is determined solely by its real part $\\sigma$. For a right-sided signal with $x(t) = 0$ for $t < T_0$, the ROC is given in the form of $\\Re \\{ s \\} > a$ with $a \\in \\mathbb{R}$. This can be concluded from the decay of the exponential term $e^{- \\sigma t}$ for $t \\to \\infty$, which ensures convergence for a given $a$. However this holds only for signals with [exponential growth](https://en.wikipedia.org/wiki/Exponential_growth). Please refer to the [Laplace transform of the causal exponential signal](#Transformation-of-the-Causal-Complex-Exponential-Signal) for an example. \n",
    "\n",
    "The same reasoning leads to the ROCs for a left-sided and two-sided signal. The resulting ROCs are shown in the following illustration\n",
    "\n",
    "![Region of convergence for left-/two-/right-sided signal](ROC.png)\n",
    "\n",
    "The gray areas denote the values $s$ for which the Laplace transformation converges. The borders $a$ of these areas (dashed lines) depend on the signal $s(t)$. A more detailed discussion of the ROCs for the Laplace transform can be found in the literature, e.g. [[Girod et al.](index.ipynb#Literature)]"
   ]
  },
  {
   "cell_type": "markdown",
   "metadata": {},
   "source": [
    "## Relation to the Fourier-Transform\n",
    "\n",
    "The Laplace transform $X(s) = \\mathcal{L} \\{ x(t) \\}$ of a signal $x(t)$ can be related to its Fourier transform $X(j \\omega) = \\mathcal{F} \\{ x(t) \\}$ by inspecting the kernels of both transforms. The Laplace transform has the complex exponential function $e^{- s t}$ with $s \\in \\mathbb{C}$ as kernel. The [Fourier transform](../fourier_transform/definition.ipynb), as introduced before, has the harmonic exponential function $e^{- j \\omega t}$ with $\\omega \\in \\mathbb{R}$ as kernel. Both can be related to each other by considering that $s = \\sigma + j \\omega$. Hence, if the ROC includes the imaginary axis $s = j \\omega$ of the $s$-plane, the Fourier transform of a signal $x(t)$ can be derived from its Laplace transform by\n",
    "\n",
    "\\begin{equation}\n",
    "\\mathcal{F} \\{ x(t) \\} = \\mathcal{L} \\{ x(t) \\} \\bigr\\rvert_{s = j \\omega}\n",
    "\\end{equation}\n",
    "\n",
    "If the ROC does not include the imaginary axis, the Fourier transform of a given signal $x(t)$ does not exist. An benefit of the Laplace over the Fourier transform is that it can be applied to a wider class of signals. As shown later, the one-sided Laplace transform also allows to conveniently consider initial values of differential equations."
   ]
  },
  {
   "cell_type": "markdown",
   "metadata": {},
   "source": [
    "**Example**\n",
    "\n",
    "The Fourier transform $X(j \\omega) = \\mathcal{F} \\{ x(t) \\}$ of the causal exponential signal\n",
    "\n",
    "\\begin{equation}\n",
    "x(t) = \\epsilon(t) \\cdot e^{- \\alpha t} \n",
    "\\end{equation}\n",
    "\n",
    "with $\\alpha \\in \\mathbb{R}^+$ is derived from the Laplace transform of the [causal complex exponential signal](#Transformation-of-the-Causal-Complex-Exponential-Signal). Using the substituting $s_0 = \\alpha$ yields\n",
    "\n",
    "\\begin{equation}\n",
    "X(s) = \\frac{1}{s + \\alpha}\n",
    "\\end{equation}\n",
    "\n",
    "with the ROC $\\Re \\{ s \\} > - \\alpha$. Hence for $0 < \\alpha < \\infty$, the ROC includes the imaginary axis. The Fourier transform can be derived from the Laplace transform as\n",
    "\n",
    "\\begin{equation}\n",
    "X(j \\omega) = \\frac{1}{j \\omega + \\alpha}\n",
    "\\end{equation}"
   ]
  },
  {
   "cell_type": "markdown",
   "metadata": {},
   "source": [
    "## Representation\n",
    "\n",
    "The Laplace transform $X(s) = \\mathcal{L} \\{ x(t) \\}$ depends on the complex frequency $s \\in \\mathbb{C}$ and is in general complex valued $X(s) \\in \\mathbb{C}$. It can be illustrated by plotting its magnitude $|X(s)|$ and phase $\\varphi (s)$ or real $\\Re \\{ X(s) \\}$ and imaginary $\\Im \\{ X(s) \\}$ part in the complex $s$-plane. The resulting three-dimensional plots are often not very illustrative. \n",
    "\n",
    "However, many Laplace transforms of interest in the theory of signals and systems are [rational functions](https://en.wikipedia.org/wiki/Rational_function) in $s$. The polynomials of the numerator and denominator can be represented by their complex [roots](https://en.wikipedia.org/wiki/Zero_of_a_function#Polynomial_roots) and a constant factor. The roots of the numerator are termed as *zeros* while the roots of the denominator a termed as *poles* of $X(s)$. The polynomial and the zero/pole representation of a rational Laplace transform are equivalent\n",
    "\n",
    "\\begin{equation}\n",
    "X(s) = \\frac{\\sum_{m=0}^{M} \\beta_m s^m}{\\sum_{n=0}^{N} \\alpha_n s^n} = K \\cdot \\frac{\\prod_{\\mu=0}^{Q} (s - s_{0 \\mu})}{\\prod_{\\nu=0}^{P} (s - s_{\\infty \\nu})}\n",
    "\\end{equation}\n",
    "\n",
    "where $M$ and $N$ denote the order of the numerator/denominator polynomial, $s_{0 \\mu}$ and $s_{\\infty \\nu}$ the $\\mu$-th zero/$\\nu$-th pole of $X(s)$, and $Q = M-1$ and $P = N-1$ the total number of zeros and poles, respectively. For $M=N$ the factor $K = \\frac{\\beta_M}{\\alpha_N}$. If \n",
    "\n",
    "* $M > N$ at least one pole is located at $|s| = \\infty$,\n",
    "* $M < N$ at least one pole is located at $s = 0$.\n",
    "\n",
    "It is common to illustrate the poles and zeros in a [pole-zero plot](https://en.wikipedia.org/wiki/Pole%E2%80%93zero_plot). Here the locations of the complex poles and zeros, their degrees and the factor $K$ are plotted in the $s$-plane\n",
    "\n",
    "![](pz_plot.png)\n",
    "\n",
    "The locations of the poles and zeros provide insights into the composition of a signal. For instance, the Laplace transform of the [complex exponential signal](#Transformation-of-the-Causal-Complex-Exponential-Signal) has a pole at $s = - s_0$. A signal which is composed from a superposition of complex exponential signals will have multiple poles whose positions are related to the complex frequencies of the signals it is composed of."
   ]
  },
  {
   "cell_type": "markdown",
   "metadata": {},
   "source": [
    "**Exercise**\n",
    "\n",
    "* Derive $X(s)$ together with its ROC from above pole-zero plot."
   ]
  },
  {
   "cell_type": "markdown",
   "metadata": {},
   "source": [
    "**Example**\n",
    "\n",
    "The Laplace transform of the causal complex exponential function\n",
    "\n",
    "\\begin{equation}\n",
    "X(s) = \\frac{1}{s + s_0} \\qquad \\text{for } \\Re \\{ s \\} > \\Re \\{ - s_0 \\}\n",
    "\\end{equation}\n",
    "\n",
    "is illustrated by plotting its magnitude $|X(s)|$ over the $s$-plane $s = \\sigma + j \\omega$ for $s_0 = 1 + j$"
   ]
  },
  {
   "cell_type": "code",
   "execution_count": null,
   "metadata": {},
   "outputs": [],
   "source": [
    "sigma, omega = sym.symbols('sigma omega')\n",
    "\n",
    "X = 1/(s + s0)\n",
    "X1 = X.subs({s: sigma+sym.I*omega, s0: 1+sym.I})\n",
    "\n",
    "sym.plotting.plot3d(abs(X1), (sigma, -2, 2), (omega, -2, 2),\n",
    "                    xlabel=r'$\\Re\\{s\\}$', ylabel=r'$\\Im\\{s\\}$', title=r'$|X(s)|$');"
   ]
  },
  {
   "cell_type": "markdown",
   "metadata": {},
   "source": [
    "Alternatively, the Laplace transform is illustrated by its pole-zero plot. First the poles"
   ]
  },
  {
   "cell_type": "code",
   "execution_count": null,
   "metadata": {},
   "outputs": [],
   "source": [
    "poles = sym.roots(sym.denom(X), s)\n",
    "poles"
   ]
  },
  {
   "cell_type": "markdown",
   "metadata": {},
   "source": [
    "and zeros are computed"
   ]
  },
  {
   "cell_type": "code",
   "execution_count": null,
   "metadata": {},
   "outputs": [],
   "source": [
    "zeros = sym.roots(sym.numer(X), s)\n",
    "zeros"
   ]
  },
  {
   "cell_type": "markdown",
   "metadata": {},
   "source": [
    "Above dictionaries are composed of the poles and zeros, and their degrees. \n",
    "\n",
    "In order to illustrate the location of poles and zeros in the $s$-plane, a function is defined for a pole-zero plot using the Python library [`matplotlib`](http://matplotlib.org/)"
   ]
  },
  {
   "cell_type": "code",
   "execution_count": null,
   "metadata": {},
   "outputs": [],
   "source": [
    "import matplotlib.pyplot as plt\n",
    "\n",
    "def pole_zero_plot(poles, zeros, ax=None):\n",
    "    \n",
    "    for pole in poles:\n",
    "        plt.plot(complex(pole).real, complex(pole).imag, 'rx', markersize=10)\n",
    "    for zero in zeros:\n",
    "        plt.plot(complex(zero).real, complex(zero).imag, 'bo', markersize=10)\n",
    "    \n",
    "    if ax is None:\n",
    "        ax = plt.gca()\n",
    "    ax.set_aspect(1)\n",
    "    \n",
    "    plt.axis([-2, 2, -2, 2])\n",
    "    plt.xlabel(r'$\\Re \\{ s \\}$')\n",
    "    plt.ylabel(r'$\\Im \\{ s \\}$')\n",
    "    plt.grid()"
   ]
  },
  {
   "cell_type": "markdown",
   "metadata": {},
   "source": [
    "The pole-zero plot is shown for $s_0 = 1 + j$"
   ]
  },
  {
   "cell_type": "code",
   "execution_count": null,
   "metadata": {},
   "outputs": [],
   "source": [
    "X2 = X.subs(s0, 1+sym.I)\n",
    "pole_zero_plot(sym.roots(sym.denom(X2), s), sym.roots(sym.numer(X2), s))"
   ]
  },
  {
   "cell_type": "markdown",
   "metadata": {
    "nbsphinx": "hidden"
   },
   "source": [
    "**Copyright**\n",
    "\n",
    "The notebooks are provided as [Open Educational Resource](https://de.wikipedia.org/wiki/Open_Educational_Resources). Feel free to use the notebooks for your own educational purposes. The text is licensed under [Creative Commons Attribution 4.0](https://creativecommons.org/licenses/by/4.0/), the code of the IPython examples under the [MIT license](https://opensource.org/licenses/MIT). Please attribute the work as follows: *Lecture Notes on Signals and Systems* by Sascha Spors."
   ]
  }
 ],
 "metadata": {
  "kernelspec": {
   "display_name": "Python 3",
   "language": "python",
   "name": "python3"
  },
  "language_info": {
   "codemirror_mode": {
    "name": "ipython",
    "version": 3
   },
   "file_extension": ".py",
   "mimetype": "text/x-python",
   "name": "python",
   "nbconvert_exporter": "python",
   "pygments_lexer": "ipython3",
   "version": "3.5.1"
  }
 },
 "nbformat": 4,
 "nbformat_minor": 0
}

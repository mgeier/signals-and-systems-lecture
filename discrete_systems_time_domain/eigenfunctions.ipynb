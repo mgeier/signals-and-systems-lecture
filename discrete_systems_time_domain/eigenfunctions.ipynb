{
 "cells": [
  {
   "cell_type": "markdown",
   "metadata": {
    "nbsphinx": "hidden"
   },
   "source": [
    "# Characterization of Discrete Systems in the Time Domain\n",
    "\n",
    "*This Jupyter notebook is part of a [collection of notebooks](../index.ipynb) in the bachelors module Signals and Systems, Comunications Engineering, Universität Rostock. Please direct questions and suggestions to [Sascha.Spors@uni-rostock.de](mailto:Sascha.Spors@uni-rostock.de).*"
   ]
  },
  {
   "cell_type": "markdown",
   "metadata": {},
   "source": [
    "## Eigenfunctions\n",
    "\n",
    "An [eigenfunction](https://en.wikipedia.org/wiki/Eigenfunction) of a discrete system is defined as the input signal $x[k]$ which produces the output signal $y[k] = \\mathcal{H}\\{ x[k] \\} = \\lambda \\cdot x[k]$ with $\\lambda \\in \\mathbb{C}$. The weight $\\lambda$ associated with $x[k]$ is known as scalar eigenvalue of the system. Hence besides a weighting factor, an eigenfunction is not modified by passing through the system.\n",
    "\n",
    "[Complex exponential signals](../discrete_signals/standard_signals.ipynb#Complex-Exponential-Signal) $z^k$ with $z \\in \\mathbb{C}$ are eigenfunctions of discrete linear time-invariant (LTI) systems. Let's assume a generic LTI system with input signal $x[k] = z^k$ and output signal $y[k] = \\mathcal{H}\\{ x[k] \\}$. Due to the time-invariance of the system, the response to a shifted input signal $x(k-\\kappa) = z^{k - \\kappa}$ reads\n",
    "\n",
    "\\begin{equation}\n",
    "y[k- \\kappa] = \\mathcal{H}\\{ x[k - \\kappa] \\} = \\mathcal{H}\\{ z^{- \\kappa} \\cdot z^k  \\}\n",
    "\\end{equation}\n",
    "\n",
    "Due to the linearity of the system this can be reformulated as\n",
    "\n",
    "\\begin{equation}\n",
    "y[k- \\kappa] =  z^{- \\kappa} \\cdot \\mathcal{H}\\{ z^k  \\} = z^{- \\kappa} \\cdot y[k]\n",
    "\\end{equation}\n",
    "\n",
    "If the complex exponential signal $z^k$ is an eigenfunction of the LTI system, the output \n",
    "signal is a weighted exponential signal $y[k] = \\lambda \\cdot z^k$. Introducing $y[k]$ into the left- and right-hand side of above equation yields\n",
    "\n",
    "\\begin{equation}\n",
    "\\lambda z^k z^{- \\kappa} = z^{- \\kappa} \\lambda z^k\n",
    "\\end{equation}\n",
    "\n",
    "which obviously is fulfilled. This proves that the exponential signal $z^k$ is an eigenfunction of LTI systems."
   ]
  },
  {
   "cell_type": "markdown",
   "metadata": {},
   "source": [
    "**Example**\n",
    "\n",
    "The output signal of the previously introduced [second-order recursive LTI system](difference_equation.ipynb#Second-Order-System) with the difference equation\n",
    "\n",
    "\\begin{equation}\n",
    "y[k] - y[k-1] + \\frac{1}{2} y[k-2] = x[k]\n",
    "\\end{equation}\n",
    "\n",
    "is computed for a complex exponential signal $x[k] = z^k$ at the input. The output signal should be a weighted complex exponential due to above reasoning."
   ]
  },
  {
   "cell_type": "code",
   "execution_count": null,
   "metadata": {},
   "outputs": [],
   "source": [
    "%matplotlib inline\n",
    "import numpy as np\n",
    "from scipy import signal\n",
    "import matplotlib.pyplot as plt\n",
    "\n",
    "a = [1.0, -1.0, 1/2]\n",
    "b = [1.0]\n",
    "z = np.exp(0.02 + .5j)\n",
    "\n",
    "k = np.arange(30)\n",
    "x = z**k\n",
    "y = signal.lfilter(b, a, x)"
   ]
  },
  {
   "cell_type": "markdown",
   "metadata": {},
   "source": [
    "The real and imaginary part of the input and output signal is plotted."
   ]
  },
  {
   "cell_type": "code",
   "execution_count": null,
   "metadata": {},
   "outputs": [],
   "source": [
    "plt.figure(figsize=(10,8))\n",
    "\n",
    "plt.subplot(221)\n",
    "plt.stem(k, np.real(x))\n",
    "plt.xlabel('$k$')\n",
    "plt.ylabel(r'$\\Re \\{ x[k] \\}$')\n",
    "\n",
    "plt.subplot(222)\n",
    "plt.stem(k, np.imag(x))\n",
    "plt.xlabel('$k$')\n",
    "plt.ylabel(r'$\\Im \\{ x[k] \\}$')\n",
    "plt.tight_layout()\n",
    "\n",
    "plt.subplot(223)\n",
    "plt.stem(k, np.real(y))\n",
    "plt.xlabel('$k$')\n",
    "plt.ylabel(r'$\\Re \\{ y[k] \\}$')\n",
    "\n",
    "plt.subplot(224)\n",
    "plt.stem(k, np.imag(y))\n",
    "plt.xlabel('$k$')\n",
    "plt.ylabel(r'$\\Im \\{ y[k] \\}$')\n",
    "plt.tight_layout()"
   ]
  },
  {
   "cell_type": "markdown",
   "metadata": {},
   "source": [
    "**Exercise**\n",
    "\n",
    "* From the in- and output signal only, can we conclude that the system is LTI?"
   ]
  },
  {
   "cell_type": "markdown",
   "metadata": {},
   "source": [
    "## Transfer Function\n",
    "\n",
    "The complex eigenvalue $\\lambda$ characterizes the properties of the transfer of a complex exponential signal $z^k$ with [complex frequency $z$](../discrete_signals/standard_signals.ipynb#Complex-Exponential-Signal) through a discrete LTI system. It is commonly termed as [*transfer function*](https://en.wikipedia.org/wiki/Transfer_function) and denoted by $H(z)=\\lambda(z)$. Using this definition, the output signal $y[k]$ of an LTI system with complex exponential signal at the input reads\n",
    "\n",
    "\\begin{equation}\n",
    "y[k] = \\mathcal{H} \\{ z^k \\} = H(z) \\cdot z^k\n",
    "\\end{equation}\n",
    "\n",
    "Note that the concept of the transfer function is directly linked to the linearity and time-invariance of a system. Only in this case, complex exponential signals are eigenfunctions of the system and $H(z)$ describes the properties of an LTI system with respect to these.\n",
    "\n",
    "Above equation can be rewritten in terms of the magnitude $| H(z) |$ and phase $\\varphi(z)$ of the complex transfer function $H(z)$\n",
    "\n",
    "\\begin{equation}\n",
    "y[k] = | H(z) | \\cdot z^k = | H(z) | \\cdot e^{\\Sigma k + j \\Omega k + j \\varphi(z)}\n",
    "\\end{equation}\n",
    "\n",
    "where $z = e^{\\Sigma + j \\Omega}$ has been substituted to derive the last equality. The magnitude $| H(z) |$ provides the frequency dependent attenuation of the eigenfunction $z^k$ by the system, while $\\varphi(z)$ provides the phase-shift introduced by the system."
   ]
  },
  {
   "cell_type": "markdown",
   "metadata": {},
   "source": [
    "## Link between Transfer Function and Impulse Response\n",
    "\n",
    "In order to establish a link between the transfer function $H(z)$ and the impulse response $h[k]$, the output signal $y[k] = \\mathcal{H} \\{ x[k] \\}$ of an LTI system with input signal $x[k]$ is computed. It is given by convolving the input signal with the impulse response\n",
    "\n",
    "\\begin{equation}\n",
    "y[k] = x[k] * h[k] = \\sum_{\\kappa = -\\infty}^{\\infty} x[k-\\kappa] \\cdot h[\\kappa]\n",
    "\\end{equation}\n",
    "\n",
    "For a complex exponential signal as input $x[k] = z^k$ the output of the LTI system is given as $y[k] = \\mathcal{H} \\{ z^k \\} = H(z) \\cdot z^k$. Introducing both signals into the left- and right-hand side of the convolution yields\n",
    "\n",
    "\\begin{equation}\n",
    "H(z) \\cdot z^k = \\sum_{\\kappa = -\\infty}^{\\infty} z^k \\, z^{- \\kappa} \\cdot h[\\kappa]\n",
    "\\end{equation}\n",
    "\n",
    "which after canceling out $z^k$ results in\n",
    "\n",
    "\\begin{equation}\n",
    "H(z) = \\sum_{\\kappa = -\\infty}^{\\infty} h[\\kappa] \\cdot z^{- \\kappa}\n",
    "\\end{equation}\n",
    "\n",
    "The transfer function $H(z)$ can be computed from the impulse response by summing over the impulse response $h[k]$  multiplied with the complex exponential function $z^k$. This constitutes a transformation, which is later introduced in more detail as [$z$-transform](https://en.wikipedia.org/wiki/Z-transform)."
   ]
  },
  {
   "cell_type": "markdown",
   "metadata": {
    "nbsphinx": "hidden"
   },
   "source": [
    "**Copyright**\n",
    "\n",
    "The notebooks are provided as [Open Educational Resource](https://de.wikipedia.org/wiki/Open_Educational_Resources). Feel free to use the notebooks for your own educational purposes. The text is licensed under [Creative Commons Attribution 4.0](https://creativecommons.org/licenses/by/4.0/), the code of the IPython examples under the [MIT license](https://opensource.org/licenses/MIT). Please attribute the work as follows: *Lecture Notes on Signals and Systems* by Sascha Spors."
   ]
  }
 ],
 "metadata": {
  "kernelspec": {
   "display_name": "Python 3",
   "language": "python",
   "name": "python3"
  },
  "language_info": {
   "codemirror_mode": {
    "name": "ipython",
    "version": 3
   },
   "file_extension": ".py",
   "mimetype": "text/x-python",
   "name": "python",
   "nbconvert_exporter": "python",
   "pygments_lexer": "ipython3",
   "version": "3.7.3"
  }
 },
 "nbformat": 4,
 "nbformat_minor": 1
}

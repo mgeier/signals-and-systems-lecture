{
 "cells": [
  {
   "cell_type": "markdown",
   "metadata": {
    "nbsphinx": "hidden"
   },
   "source": [
    "# The Discrete-Time Fourier Transform\n",
    "\n",
    "*This Jupyter notebook is part of a [collection of notebooks](../index.ipynb) in the bachelors module Signals and Systems, Comunications Engineering, Universität Rostock. Please direct questions and suggestions to [Sascha.Spors@uni-rostock.de](mailto:Sascha.Spors@uni-rostock.de).*"
   ]
  },
  {
   "cell_type": "markdown",
   "metadata": {},
   "source": [
    "## Summary of Properties, Theorems and Transforms\n",
    "\n",
    "The [properties](properties.ipynb), [theorems](theorems.ipynb) and transforms of the discrete-time Fourier transform (DTFT) as derived in the previous sections are summarized in the following. The corresponding tables serve as a reference for the application of the DTFT in the theory of signals and systems. Please refer to the respective sections for details."
   ]
  },
  {
   "cell_type": "markdown",
   "metadata": {},
   "source": [
    "### Definition\n",
    "\n",
    "The DTFT and its inverse are defined as\n",
    "\n",
    "\\begin{align}\n",
    "X(e^{j \\Omega}) &= \\sum_{k = -\\infty}^{\\infty} x[k] \\, e^{- j \\Omega k} \\\\\n",
    "x[k] &= \\frac{1}{2 \\pi} \\int_{-\\pi}^{\\pi} X(e^{j \\Omega}) \\, e^{j \\Omega k} \\; d \\Omega\n",
    "\\end{align}\n",
    "\n",
    "for $k \\in \\mathbb{Z}$ and $\\Omega \\in \\mathbb{R}$."
   ]
  },
  {
   "cell_type": "markdown",
   "metadata": {},
   "source": [
    "### Properties and Theorems\n",
    "\n",
    "The properties and theorems of the DTFT are given as\n",
    "\n",
    "| &#65279; | $x[k]$ | $X(e^{j \\Omega}) = \\mathcal{F}_* \\{ x[k] \\}$ |\n",
    "|:---|:---:|:---:|\n",
    "| [Linearity](properties.ipynb#Linearity) | $A \\, x_1[k] + B \\, x_2[k]$ | $A \\, X_1(e^{j \\Omega}) + B \\, X_2(e^{j \\Omega})$ |\n",
    "| [Real-valued signal](properties.ipynb#Real-valued-signals) | $x^*[k]$ | $X^*(e^{-j \\Omega})$ |\n",
    "| [Convolution](theorems.ipynb#Convolution-Theorem) | $x[k] * h[k]$ | $X(e^{j \\Omega}) \\cdot H(e^{j \\Omega})$ |\n",
    "| [Shift](theorems.ipynb#Shift-Theorem) | $x[k - \\kappa]$ | $e^{-j \\Omega \\kappa} \\cdot X(e^{j \\Omega})$ |\n",
    "| [Multiplication](theorems.ipynb#Multiplication-Theorem) | $x[k] \\cdot h[k]$ | $\\frac{1}{2 \\pi} X(e^{j \\Omega}) \\circledast_{2 \\pi} H(e^{j \\Omega})$ |\n",
    "| [Modulation](theorems.ipynb#Modulation-Theorem) | $e^{j \\Omega_0 k} \\cdot x[k]$ | $X(e^{j (\\Omega- \\Omega_0)})$ |\n",
    "| [Parseval's Theorem](theorems.ipynb#Parseval's-Theorem) | $\\sum_{k = -\\infty}^{\\infty} \\lvert x[k] \\rvert^2$ | $\\frac{1}{2 \\pi} \\int_{-\\pi}^{\\pi} \\lvert X(e^{j \\Omega}) \\rvert^2 \\; d\\Omega$ |\n",
    "\n",
    "\n",
    "where $A, B \\in \\mathbb{C}$, $\\Omega_0 \\in \\mathbb{R}$ and $\\kappa \\in \\mathbb{Z}$."
   ]
  },
  {
   "cell_type": "markdown",
   "metadata": {
    "collapsed": true
   },
   "source": [
    "### Selected Transforms\n",
    "\n",
    "DTFTs which are frequently used are given as\n",
    "\n",
    "| $x[k]$ | $X(e^{j \\Omega}) = \\mathcal{F}_* \\{ x[k] \\}$ |\n",
    "|:---:|:---:|\n",
    "| $\\delta[k]$ | $1$ |\n",
    "| $1$ | ${\\bot \\!\\! \\bot \\!\\! \\bot}\\left( \\frac{\\Omega}{2 \\pi} \\right)$ |\n",
    "| $\\epsilon[k]$ | $\\frac{1}{1 - e^{-j \\Omega}} + \\frac{1}{2} {\\bot \\!\\! \\bot \\!\\! \\bot}\\left( \\frac{\\Omega}{2 \\pi} \\right)$ |\n",
    "| $\\text{rect}_N[k]$ | $e^{-j \\Omega \\frac{N-1}{2}} \\cdot \\frac{\\sin \\left(\\frac{N \\Omega}{2} \\right)}{\\sin \\left( \\frac{\\Omega}{2} \\right)}$ |\n",
    "| $e^{j \\Omega_0 k}$ | ${\\bot \\!\\! \\bot \\!\\! \\bot}\\left( \\frac{\\Omega-\\Omega_0}{2 \\pi} \\right)$ |\n",
    "| $\\sin(\\Omega_0 t)$ | $\\frac{1}{2} \\left[ {\\bot \\!\\! \\bot \\!\\! \\bot} \\left( \\frac{\\Omega + \\Omega_0}{2 \\pi} \\right) + {\\bot \\!\\! \\bot \\!\\! \\bot} \\left( \\frac{\\Omega - \\Omega_0}{2 \\pi} \\right)  \\right]$ |\n",
    "| $\\cos(\\Omega_0 t)$ | $\\frac{j}{2} \\left[ {\\bot \\!\\! \\bot \\!\\! \\bot} \\left( \\frac{\\Omega + \\Omega_0}{2 \\pi} \\right) - {\\bot \\!\\! \\bot \\!\\! \\bot} \\left( \\frac{\\Omega - \\Omega_0}{2 \\pi} \\right)  \\right]$ |\n",
    "| $a^k \\epsilon[k]$ | $\\frac{1}{1-a e^{-j \\Omega}}$ |\n",
    "\n",
    "\n",
    "where $\\Omega_0 \\in \\mathbb{R}$ and $|a| < 1$. More transforms may be found in the literature or [online](https://en.wikipedia.org/wiki/Discrete-time_Fourier_transform#Table_of_discrete-time_Fourier_transforms)."
   ]
  },
  {
   "cell_type": "markdown",
   "metadata": {
    "nbsphinx": "hidden"
   },
   "source": [
    "**Copyright**\n",
    "\n",
    "The notebooks are provided as [Open Educational Resource](https://de.wikipedia.org/wiki/Open_Educational_Resources). Feel free to use the notebooks for your own educational purposes. The text is licensed under [Creative Commons Attribution 4.0](https://creativecommons.org/licenses/by/4.0/), the code of the IPython examples under the [MIT license](https://opensource.org/licenses/MIT). Please attribute the work as follows: *Lecture Notes on Signals and Systems* by Sascha Spors."
   ]
  }
 ],
 "metadata": {
  "kernelspec": {
   "display_name": "Python 3",
   "language": "python",
   "name": "python3"
  },
  "language_info": {
   "codemirror_mode": {
    "name": "ipython",
    "version": 3
   },
   "file_extension": ".py",
   "mimetype": "text/x-python",
   "name": "python",
   "nbconvert_exporter": "python",
   "pygments_lexer": "ipython3",
   "version": "3.7.3"
  }
 },
 "nbformat": 4,
 "nbformat_minor": 1
}
